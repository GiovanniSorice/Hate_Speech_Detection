{
  "nbformat": 4,
  "nbformat_minor": 0,
  "metadata": {
    "colab": {
      "name": "LSTM_grid.ipynb",
      "provenance": [],
      "toc_visible": true,
      "include_colab_link": true
    },
    "kernelspec": {
      "name": "python3",
      "display_name": "Python 3"
    },
    "accelerator": "GPU"
  },
  "cells": [
    {
      "cell_type": "markdown",
      "metadata": {
        "id": "view-in-github",
        "colab_type": "text"
      },
      "source": [
        "<a href=\"https://colab.research.google.com/github/GiovanniSorice/Hate_Speech_Detection/blob/main/LSTM_grid.ipynb\" target=\"_parent\"><img src=\"https://colab.research.google.com/assets/colab-badge.svg\" alt=\"Open In Colab\"/></a>"
      ]
    },
    {
      "cell_type": "markdown",
      "metadata": {
        "id": "h0mBfEzg_53t"
      },
      "source": [
        "#Bidirectional LSTM Hate Speech Classifier"
      ]
    },
    {
      "cell_type": "code",
      "metadata": {
        "id": "OymXBcAV-Uk_"
      },
      "source": [
        "import tensorflow as tf\n",
        "import pandas as pd\n",
        "from tensorflow.keras.datasets import imdb\n",
        "from tensorflow.keras.preprocessing.sequence import pad_sequences\n",
        "from tensorflow.keras.models import Sequential\n",
        "from tensorflow.keras.layers import Dense, Dropout, Embedding, SpatialDropout1D, LSTM\n",
        "from tensorflow.keras.layers import Bidirectional # new! \n",
        "from tensorflow.keras.callbacks import ModelCheckpoint\n",
        "import os\n",
        "from sklearn.metrics import roc_auc_score \n",
        "import matplotlib.pyplot as plt\n",
        "from keras.preprocessing.text import one_hot\n",
        "from tensorboard.plugins.hparams import api as hp\n",
        "import numpy as np\n",
        "from sklearn.metrics import f1_score\n",
        "import ast "
      ],
      "execution_count": 24,
      "outputs": []
    },
    {
      "cell_type": "code",
      "metadata": {
        "colab": {
          "base_uri": "https://localhost:8080/"
        },
        "id": "FwrQH01T_nIS",
        "outputId": "5d4424f7-4367-4cd5-ef7a-3ab4965a7b92"
      },
      "source": [
        "from google.colab import drive\n",
        "# This will prompt for authorization.\n",
        "drive.mount('/content/drive')"
      ],
      "execution_count": 2,
      "outputs": [
        {
          "output_type": "stream",
          "text": [
            "Mounted at /content/drive\n"
          ],
          "name": "stdout"
        }
      ]
    },
    {
      "cell_type": "code",
      "metadata": {
        "id": "5ewn7ge0AB8n"
      },
      "source": [
        "# directory name \n",
        "input_dir = '/content/drive/My Drive/HLT/clean_dataset_training/' \n",
        "\n",
        "# Spec\n",
        "pd.set_option(\"display.max_colwidth\", None)"
      ],
      "execution_count": 3,
      "outputs": []
    },
    {
      "cell_type": "code",
      "metadata": {
        "id": "qJL3UvhtALOr"
      },
      "source": [
        "tsv_file = open(input_dir+\"training_dataset.csv\")\n",
        "\n",
        "dataset = pd.read_csv(tsv_file,sep=',')"
      ],
      "execution_count": 4,
      "outputs": []
    },
    {
      "cell_type": "markdown",
      "metadata": {
        "id": "niRStx_sEI14"
      },
      "source": [
        "### Vector-space embedding: "
      ]
    },
    {
      "cell_type": "code",
      "metadata": {
        "id": "rA44wzytEILB"
      },
      "source": [
        "p_train=0.85 # percentage of training set \n",
        "\n",
        "n_dim = 64 \n",
        "n_unique_words = 25000 \n",
        "max_length = 64 # doubled!\n",
        "pad_type = trunc_type = 'pre'\n",
        "\n",
        "# training \n",
        "batch_size = 64"
      ],
      "execution_count": 5,
      "outputs": []
    },
    {
      "cell_type": "markdown",
      "metadata": {
        "id": "cP42BiElvcKH"
      },
      "source": [
        "#### Preprocess data "
      ]
    },
    {
      "cell_type": "code",
      "metadata": {
        "id": "KU0jvqjPHTsM",
        "colab": {
          "base_uri": "https://localhost:8080/"
        },
        "outputId": "70b3f790-9052-4490-b372-f04c12d76fac"
      },
      "source": [
        "from nltk.tokenize import word_tokenize\n",
        "import nltk\n",
        "nltk.download('punkt')\n",
        "\n",
        "all_words = []\n",
        "for index, row in dataset.iterrows():\n",
        "  tokenize_word = word_tokenize(row[\"text\"])\n",
        "  for word in tokenize_word:\n",
        "      all_words.append(word)"
      ],
      "execution_count": 6,
      "outputs": [
        {
          "output_type": "stream",
          "text": [
            "[nltk_data] Downloading package punkt to /root/nltk_data...\n",
            "[nltk_data]   Unzipping tokenizers/punkt.zip.\n"
          ],
          "name": "stdout"
        }
      ]
    },
    {
      "cell_type": "code",
      "metadata": {
        "id": "iaqpZHjMG6Dn",
        "colab": {
          "base_uri": "https://localhost:8080/"
        },
        "outputId": "e76de9b9-a1c1-45fc-8f53-76f5a4832645"
      },
      "source": [
        "unique_words = set(all_words)\n",
        "print(len(unique_words))"
      ],
      "execution_count": 7,
      "outputs": [
        {
          "output_type": "stream",
          "text": [
            "24773\n"
          ],
          "name": "stdout"
        }
      ]
    },
    {
      "cell_type": "code",
      "metadata": {
        "id": "fAjg3KCQEHl3"
      },
      "source": [
        "def sentence_to_emb2(sentence, w2v, truncate = None, padding = False):\n",
        "  pad_token = [0]*128\n",
        "  s_emb = [ w2v[word] for word in sentence if word in w2v.vocab]\n",
        "  if truncate is not None:\n",
        "    s_emb = s_emb[:truncate] #truncate\n",
        "  if padding:\n",
        "    s_emb += [pad_token] * (truncate - len(s_emb))\n",
        "  return np.array(s_emb)\n",
        "\n",
        "def get_data_to_emb2(data, w2v, truncate = None, padding = False):\n",
        "  X = [sentence_to_emb2(ast.literal_eval(sentence), w2v, truncate, padding) for sentence in data]\n",
        "  print(len(X))\n",
        "  print(X[0])\n",
        "  return np.array(X)"
      ],
      "execution_count": 29,
      "outputs": []
    },
    {
      "cell_type": "code",
      "metadata": {
        "id": "dd6KYgWqEKXs"
      },
      "source": [
        "from gensim.models import KeyedVectors\n",
        "from gensim.test.utils import datapath\n",
        "w2v_felice_path = \"/content/drive/My Drive/HLT/w2v/twitter128.bin\"\n",
        "w2v = KeyedVectors.load_word2vec_format(datapath(w2v_felice_path), binary=True)"
      ],
      "execution_count": 30,
      "outputs": []
    },
    {
      "cell_type": "code",
      "metadata": {
        "id": "V97RhoGzTonm",
        "outputId": "5ae7a2c7-a6bd-4072-ffc9-273aeb175b7b",
        "colab": {
          "base_uri": "https://localhost:8080/"
        }
      },
      "source": [
        "X_dev = get_data_to_emb2(dataset[\"tokens\"], w2v, 70 , True)"
      ],
      "execution_count": 34,
      "outputs": [
        {
          "output_type": "stream",
          "text": [
            "6837\n",
            "[[ 0.97042489  0.79645807  0.10190873 ...  1.01973236  1.16674519\n",
            "   0.17082037]\n",
            " [-2.10587931  1.7696439  -1.04741096 ... -1.11571276 -0.25399542\n",
            "  -0.97522277]\n",
            " [ 0.89639139  1.24942708  0.72824973 ...  0.68920714  0.98506999\n",
            "  -0.36202168]\n",
            " ...\n",
            " [ 0.          0.          0.         ...  0.          0.\n",
            "   0.        ]\n",
            " [ 0.          0.          0.         ...  0.          0.\n",
            "   0.        ]\n",
            " [ 0.          0.          0.         ...  0.          0.\n",
            "   0.        ]]\n"
          ],
          "name": "stdout"
        }
      ]
    },
    {
      "cell_type": "code",
      "metadata": {
        "id": "8r8doQv3mQva",
        "outputId": "e7afc838-9b10-4ab0-d505-3fb56ae97d1b",
        "colab": {
          "base_uri": "https://localhost:8080/"
        }
      },
      "source": [
        "len(X_dev[0])"
      ],
      "execution_count": 35,
      "outputs": [
        {
          "output_type": "execute_result",
          "data": {
            "text/plain": [
              "70"
            ]
          },
          "metadata": {
            "tags": []
          },
          "execution_count": 35
        }
      ]
    },
    {
      "cell_type": "code",
      "metadata": {
        "id": "E_yR-zgYKoBD",
        "colab": {
          "base_uri": "https://localhost:8080/"
        },
        "outputId": "96bd4f4a-3296-43e1-d733-0af77ae58b51"
      },
      "source": [
        "embedded_sentences = [one_hot(row[\"text\"], n_unique_words) for i,row in dataset.iterrows()]\n",
        "print(len(embedded_sentences))"
      ],
      "execution_count": 36,
      "outputs": [
        {
          "output_type": "stream",
          "text": [
            "6837\n"
          ],
          "name": "stdout"
        }
      ]
    },
    {
      "cell_type": "code",
      "metadata": {
        "id": "zErRZlS4LIKV"
      },
      "source": [
        "word_count = lambda sentence: len(word_tokenize(sentence))\n",
        "longest_sentence = max(dataset.get(\"text\"), key=word_count)\n",
        "length_long_sentence = len(word_tokenize(longest_sentence))"
      ],
      "execution_count": 37,
      "outputs": []
    },
    {
      "cell_type": "code",
      "metadata": {
        "id": "NMnXywTcqSy1",
        "colab": {
          "base_uri": "https://localhost:8080/",
          "height": 424
        },
        "outputId": "8d23ee1f-6874-4985-df15-930be4c07bc5"
      },
      "source": [
        "dataset1 = dataset\n",
        "dataset1 = dataset1.drop(['text', 'id', 'hs', 'stereotype','tokens', 'hashtags'], axis=1)\n",
        "dataset1"
      ],
      "execution_count": 38,
      "outputs": [
        {
          "output_type": "execute_result",
          "data": {
            "text/html": [
              "<div>\n",
              "<style scoped>\n",
              "    .dataframe tbody tr th:only-of-type {\n",
              "        vertical-align: middle;\n",
              "    }\n",
              "\n",
              "    .dataframe tbody tr th {\n",
              "        vertical-align: top;\n",
              "    }\n",
              "\n",
              "    .dataframe thead th {\n",
              "        text-align: right;\n",
              "    }\n",
              "</style>\n",
              "<table border=\"1\" class=\"dataframe\">\n",
              "  <thead>\n",
              "    <tr style=\"text-align: right;\">\n",
              "      <th></th>\n",
              "      <th>text_length</th>\n",
              "      <th>#C-L words</th>\n",
              "      <th>#?!</th>\n",
              "      <th>#.,</th>\n",
              "      <th>#bad_words</th>\n",
              "      <th>%bad_words</th>\n",
              "    </tr>\n",
              "  </thead>\n",
              "  <tbody>\n",
              "    <tr>\n",
              "      <th>0</th>\n",
              "      <td>120</td>\n",
              "      <td>10</td>\n",
              "      <td>0</td>\n",
              "      <td>5</td>\n",
              "      <td>0</td>\n",
              "      <td>0</td>\n",
              "    </tr>\n",
              "    <tr>\n",
              "      <th>1</th>\n",
              "      <td>101</td>\n",
              "      <td>0</td>\n",
              "      <td>0</td>\n",
              "      <td>0</td>\n",
              "      <td>1</td>\n",
              "      <td>6</td>\n",
              "    </tr>\n",
              "    <tr>\n",
              "      <th>2</th>\n",
              "      <td>86</td>\n",
              "      <td>8</td>\n",
              "      <td>0</td>\n",
              "      <td>1</td>\n",
              "      <td>3</td>\n",
              "      <td>25</td>\n",
              "    </tr>\n",
              "    <tr>\n",
              "      <th>3</th>\n",
              "      <td>118</td>\n",
              "      <td>0</td>\n",
              "      <td>0</td>\n",
              "      <td>2</td>\n",
              "      <td>0</td>\n",
              "      <td>0</td>\n",
              "    </tr>\n",
              "    <tr>\n",
              "      <th>4</th>\n",
              "      <td>138</td>\n",
              "      <td>0</td>\n",
              "      <td>1</td>\n",
              "      <td>1</td>\n",
              "      <td>1</td>\n",
              "      <td>4</td>\n",
              "    </tr>\n",
              "    <tr>\n",
              "      <th>...</th>\n",
              "      <td>...</td>\n",
              "      <td>...</td>\n",
              "      <td>...</td>\n",
              "      <td>...</td>\n",
              "      <td>...</td>\n",
              "      <td>...</td>\n",
              "    </tr>\n",
              "    <tr>\n",
              "      <th>6832</th>\n",
              "      <td>285</td>\n",
              "      <td>2</td>\n",
              "      <td>0</td>\n",
              "      <td>4</td>\n",
              "      <td>0</td>\n",
              "      <td>0</td>\n",
              "    </tr>\n",
              "    <tr>\n",
              "      <th>6833</th>\n",
              "      <td>277</td>\n",
              "      <td>0</td>\n",
              "      <td>2</td>\n",
              "      <td>3</td>\n",
              "      <td>0</td>\n",
              "      <td>0</td>\n",
              "    </tr>\n",
              "    <tr>\n",
              "      <th>6834</th>\n",
              "      <td>233</td>\n",
              "      <td>0</td>\n",
              "      <td>0</td>\n",
              "      <td>4</td>\n",
              "      <td>0</td>\n",
              "      <td>0</td>\n",
              "    </tr>\n",
              "    <tr>\n",
              "      <th>6835</th>\n",
              "      <td>206</td>\n",
              "      <td>2</td>\n",
              "      <td>0</td>\n",
              "      <td>2</td>\n",
              "      <td>0</td>\n",
              "      <td>0</td>\n",
              "    </tr>\n",
              "    <tr>\n",
              "      <th>6836</th>\n",
              "      <td>285</td>\n",
              "      <td>7</td>\n",
              "      <td>1</td>\n",
              "      <td>5</td>\n",
              "      <td>0</td>\n",
              "      <td>0</td>\n",
              "    </tr>\n",
              "  </tbody>\n",
              "</table>\n",
              "<p>6837 rows × 6 columns</p>\n",
              "</div>"
            ],
            "text/plain": [
              "      text_length  #C-L words  #?!  #.,  #bad_words  %bad_words\n",
              "0             120          10    0    5           0           0\n",
              "1             101           0    0    0           1           6\n",
              "2              86           8    0    1           3          25\n",
              "3             118           0    0    2           0           0\n",
              "4             138           0    1    1           1           4\n",
              "...           ...         ...  ...  ...         ...         ...\n",
              "6832          285           2    0    4           0           0\n",
              "6833          277           0    2    3           0           0\n",
              "6834          233           0    0    4           0           0\n",
              "6835          206           2    0    2           0           0\n",
              "6836          285           7    1    5           0           0\n",
              "\n",
              "[6837 rows x 6 columns]"
            ]
          },
          "metadata": {
            "tags": []
          },
          "execution_count": 38
        }
      ]
    },
    {
      "cell_type": "code",
      "metadata": {
        "id": "ldOIU2Kg3vcP",
        "colab": {
          "base_uri": "https://localhost:8080/"
        },
        "outputId": "e6a11aed-3785-41b2-fe1a-412f3a9f29e5"
      },
      "source": [
        "dataset1.values[0:int(dataset.shape[0]*p_train)]"
      ],
      "execution_count": 39,
      "outputs": [
        {
          "output_type": "execute_result",
          "data": {
            "text/plain": [
              "array([[120,  10,   0,   5,   0,   0],\n",
              "       [101,   0,   0,   0,   1,   6],\n",
              "       [ 86,   8,   0,   1,   3,  25],\n",
              "       ...,\n",
              "       [276,   2,   0,   8,   0,   0],\n",
              "       [190,   0,   0,   5,   0,   0],\n",
              "       [292,   4,   0,   6,   0,   0]])"
            ]
          },
          "metadata": {
            "tags": []
          },
          "execution_count": 39
        }
      ]
    },
    {
      "cell_type": "code",
      "metadata": {
        "id": "MsHy9feozaRP"
      },
      "source": [
        "x_train=X_dev[0:int(dataset.shape[0]*p_train)]\n",
        "x_train_extra = dataset1.values[0:int(dataset.shape[0]*p_train)]\n",
        "y_train=dataset[['hs']][0:int(dataset.shape[0]*p_train)]\n",
        "x_valid=X_dev[int(dataset.shape[0]*p_train):]\n",
        "x_valid_extra = dataset1.values[int(dataset.shape[0]*p_train):]\n",
        "y_valid=dataset[['hs']][int(dataset.shape[0]*p_train):]"
      ],
      "execution_count": 40,
      "outputs": []
    },
    {
      "cell_type": "code",
      "metadata": {
        "id": "A8JK5S3XvcKJ"
      },
      "source": [
        "x_train = pad_sequences(x_train, maxlen=max_length, padding=pad_type, truncating=trunc_type, value=0)\n",
        "x_valid = pad_sequences(x_valid, maxlen=max_length, padding=pad_type, truncating=trunc_type, value=0)"
      ],
      "execution_count": 41,
      "outputs": []
    },
    {
      "cell_type": "code",
      "metadata": {
        "id": "KRF1dwdVpKSo"
      },
      "source": [
        "input_train = {\"text\": x_train, \"other\": x_train_extra}\n",
        "input_val   = {\"text\": x_valid, \"other\": x_valid_extra}"
      ],
      "execution_count": 42,
      "outputs": []
    },
    {
      "cell_type": "code",
      "metadata": {
        "id": "mXitI_XKIZN7"
      },
      "source": [
        "max_sent = 0 "
      ],
      "execution_count": 43,
      "outputs": []
    },
    {
      "cell_type": "code",
      "metadata": {
        "id": "WCxWTGMOHVzc"
      },
      "source": [
        "\n",
        "def comment_length(text):\n",
        "    global max_sent \n",
        "    text = ast.literal_eval(text)\n",
        "    if len(text)>max_sent: \n",
        "      max_sent = len(text)"
      ],
      "execution_count": 44,
      "outputs": []
    },
    {
      "cell_type": "code",
      "metadata": {
        "colab": {
          "base_uri": "https://localhost:8080/"
        },
        "id": "vmnRA9uGIKjJ",
        "outputId": "e57e153a-be40-4add-e2e1-725f3421330b"
      },
      "source": [
        "dataset['tokens'].apply(comment_length)\n",
        "print(max_sent)"
      ],
      "execution_count": 45,
      "outputs": [
        {
          "output_type": "stream",
          "text": [
            "119\n"
          ],
          "name": "stdout"
        }
      ]
    },
    {
      "cell_type": "code",
      "metadata": {
        "colab": {
          "base_uri": "https://localhost:8080/"
        },
        "id": "oVbNT3FOisHf",
        "outputId": "7dcfab54-255f-47ee-810e-1946c9ce6996"
      },
      "source": [
        "x_train.shape"
      ],
      "execution_count": 46,
      "outputs": [
        {
          "output_type": "execute_result",
          "data": {
            "text/plain": [
              "(5811, 64, 128)"
            ]
          },
          "metadata": {
            "tags": []
          },
          "execution_count": 46
        }
      ]
    },
    {
      "cell_type": "markdown",
      "metadata": {
        "id": "uAUJfLg_BGTX"
      },
      "source": [
        "### Design grid search parameters"
      ]
    },
    {
      "cell_type": "code",
      "metadata": {
        "id": "PC8zF9NNBJso"
      },
      "source": [
        "# Load the TensorBoard notebook extension\n",
        "%load_ext tensorboard\n",
        "\n",
        "# Clear any logs from previous runs\n",
        "!rm -rf ./logs/\n",
        "\n",
        "import tensorflow as tf\n",
        "from tensorboard.plugins.hparams import api as hp"
      ],
      "execution_count": 47,
      "outputs": []
    },
    {
      "cell_type": "code",
      "metadata": {
        "id": "2JJ6QHGwBXVJ"
      },
      "source": [
        "HP_NUM_UNITS = hp.HParam('num_units', hp.Discrete([64, 128, 256, 512]))\n",
        "HP_DROPOUT = hp.HParam('dropout', hp.RealInterval(0.0, 0.7))\n",
        "HP_OPTIMIZER = hp.HParam('optimizer', hp.Discrete(['nadam']))\n",
        "\n",
        "METRIC_ACCURACY = 'accuracy'\n",
        "\n",
        "with tf.summary.create_file_writer('logs/hparam_tuning').as_default():\n",
        "  hp.hparams_config(\n",
        "    hparams=[HP_NUM_UNITS, HP_DROPOUT, HP_OPTIMIZER],\n",
        "    metrics=[hp.Metric(METRIC_ACCURACY, display_name='Accuracy')],\n",
        "  )"
      ],
      "execution_count": 48,
      "outputs": []
    },
    {
      "cell_type": "code",
      "metadata": {
        "id": "LXFVlKlA7CUr"
      },
      "source": [
        "class FCallback(tf.keras.callbacks.Callback):\n",
        "  \n",
        "    def __init__(self, validation = (), verbose = 0):\n",
        "        self.validation = validation\n",
        "        self.verbose = verbose\n",
        "\n",
        "    def on_train_begin(self, logs={}):\n",
        "        self.f1 = []\n",
        "        self.val_f1 = []\n",
        "    def on_epoch_end(self, epoch, logs=None):\n",
        "        y_t =  self.validation[1]\n",
        "        y_p =  np.where(self.model.predict(self.validation[0]) > 0.5, 1, 0)\n",
        "        logs['val_f1'] =  f1_score(y_t, y_p, average='macro')\n",
        "        if self.verbose >0:\n",
        "          print(\"— val_f1: {}\".format(logs['val_f1']))"
      ],
      "execution_count": 49,
      "outputs": []
    },
    {
      "cell_type": "code",
      "metadata": {
        "id": "o4nNvvQRCcFP"
      },
      "source": [
        "def train_test_model(hparams):\n",
        "  lstml1_in = tf.keras.layers.Input(name=\"text\", shape =(64,128,))\n",
        "  lstml1_bd1 = tf.keras.layers.Bidirectional(LSTM(hparams[HP_NUM_UNITS], dropout = hparams[HP_DROPOUT]))(lstml1_in)\n",
        "  #lstml1_bd2 = tf.keras.layers.Bidirectional(LSTM(hparams[HP_NUM_UNITS], dropout = hparams[HP_DROPOUT]))(lstml1_bd1)\n",
        "  \n",
        "  other_in = tf.keras.layers.Input(name=\"other\", shape =(6,))\n",
        "\n",
        "  lconcat = tf.keras.layers.Concatenate(axis=1)([lstml1_bd1, other_in])\n",
        "  dense1_layer = Dense(256, activation=\"relu\", kernel_regularizer=tf.keras.regularizers.l2(0.007))(lconcat)\n",
        "  dense2_layer = Dense(64, activation=\"relu\", kernel_regularizer=tf.keras.regularizers.l2(0.007))(dense1_layer)\n",
        "\n",
        "  lstml1_out = tf.keras.layers.Dense(1, activation='sigmoid')(dense2_layer)\n",
        "\n",
        "\n",
        "  model = tf.keras.Model(inputs = [lstml1_in, other_in], outputs = lstml1_out)\n",
        "  \n",
        "  model.summary()\n",
        "  \n",
        "  model.compile(\n",
        "      optimizer=hparams[HP_OPTIMIZER],\n",
        "      loss='binary_crossentropy',\n",
        "      metrics=['accuracy'],\n",
        "  )\n",
        "  \n",
        "  f1_callback = FCallback(validation = (input_val, y_valid), verbose=True)                                   \n",
        "\n",
        "  model.fit(input_train, y_train, batch_size=batch_size, validation_data=(input_val, y_valid), epochs=30, callbacks=[f1_callback]) # Run with 1 epoch to speed things up for demo purposes\n",
        "  _, accuracy = model.evaluate(input_val, y_valid)\n",
        "  return accuracy"
      ],
      "execution_count": 53,
      "outputs": []
    },
    {
      "cell_type": "code",
      "metadata": {
        "id": "OaO2zq3-Adck"
      },
      "source": [
        "def run(run_dir, hparams):\n",
        "  with tf.summary.create_file_writer(run_dir).as_default():\n",
        "    hp.hparams(hparams)  # record the values used in this trial\n",
        "    accuracy = train_test_model(hparams)\n",
        "    tf.summary.scalar(METRIC_ACCURACY, accuracy, step=1)"
      ],
      "execution_count": 54,
      "outputs": []
    },
    {
      "cell_type": "code",
      "metadata": {
        "colab": {
          "base_uri": "https://localhost:8080/",
          "height": 1000
        },
        "id": "9CaPr2dcL4tD",
        "outputId": "70a4e71a-b5f6-43b0-fce7-93a6bc2ab620"
      },
      "source": [
        "session_num = 0\n",
        "\n",
        "for num_units in HP_NUM_UNITS.domain.values:\n",
        "  for dropout_rate in (HP_DROPOUT.domain.min_value, HP_DROPOUT.domain.max_value):\n",
        "    for optimizer in HP_OPTIMIZER.domain.values:\n",
        "      hparams = {\n",
        "          HP_NUM_UNITS: num_units,\n",
        "          HP_DROPOUT: dropout_rate,\n",
        "          HP_OPTIMIZER: optimizer,\n",
        "      }\n",
        "      run_name = \"run-%d\" % session_num\n",
        "      print('--- Starting trial: %s' % run_name)\n",
        "      print({h.name: hparams[h] for h in hparams})\n",
        "      run('logs/hparam_tuning/' + run_name, hparams)\n",
        "      session_num += 1\n"
      ],
      "execution_count": 55,
      "outputs": [
        {
          "output_type": "stream",
          "text": [
            "--- Starting trial: run-0\n",
            "{'num_units': 64, 'dropout': 0.0, 'optimizer': 'nadam'}\n",
            "Model: \"model_3\"\n",
            "__________________________________________________________________________________________________\n",
            "Layer (type)                    Output Shape         Param #     Connected to                     \n",
            "==================================================================================================\n",
            "text (InputLayer)               [(None, 64, 128)]    0                                            \n",
            "__________________________________________________________________________________________________\n",
            "bidirectional_3 (Bidirectional) (None, 128)          98816       text[0][0]                       \n",
            "__________________________________________________________________________________________________\n",
            "other (InputLayer)              [(None, 6)]          0                                            \n",
            "__________________________________________________________________________________________________\n",
            "concatenate_3 (Concatenate)     (None, 134)          0           bidirectional_3[0][0]            \n",
            "                                                                 other[0][0]                      \n",
            "__________________________________________________________________________________________________\n",
            "dense_9 (Dense)                 (None, 256)          34560       concatenate_3[0][0]              \n",
            "__________________________________________________________________________________________________\n",
            "dense_10 (Dense)                (None, 64)           16448       dense_9[0][0]                    \n",
            "__________________________________________________________________________________________________\n",
            "dense_11 (Dense)                (None, 1)            65          dense_10[0][0]                   \n",
            "==================================================================================================\n",
            "Total params: 149,889\n",
            "Trainable params: 149,889\n",
            "Non-trainable params: 0\n",
            "__________________________________________________________________________________________________\n",
            "Epoch 1/30\n",
            "91/91 [==============================] - 5s 20ms/step - loss: 2.4933 - accuracy: 0.5368 - val_loss: 1.2380 - val_accuracy: 0.5692\n",
            "— val_f1: 0.5507364683597975\n",
            "Epoch 2/30\n",
            "91/91 [==============================] - 1s 12ms/step - loss: 1.1400 - accuracy: 0.6686 - val_loss: 1.0526 - val_accuracy: 0.6092\n",
            "— val_f1: 0.568487525840342\n",
            "Epoch 3/30\n",
            "91/91 [==============================] - 1s 12ms/step - loss: 0.8883 - accuracy: 0.7142 - val_loss: 1.2470 - val_accuracy: 0.5361\n",
            "— val_f1: 0.5284926470588235\n",
            "Epoch 4/30\n",
            "91/91 [==============================] - 1s 12ms/step - loss: 0.7497 - accuracy: 0.7677 - val_loss: 2.1930 - val_accuracy: 0.4386\n",
            "— val_f1: 0.342638363002941\n",
            "Epoch 5/30\n",
            "91/91 [==============================] - 1s 12ms/step - loss: 0.9081 - accuracy: 0.7155 - val_loss: 1.2247 - val_accuracy: 0.5468\n",
            "— val_f1: 0.5399551227470973\n",
            "Epoch 6/30\n",
            "91/91 [==============================] - 1s 12ms/step - loss: 0.6711 - accuracy: 0.7865 - val_loss: 1.3567 - val_accuracy: 0.5156\n",
            "— val_f1: 0.49820457687746944\n",
            "Epoch 7/30\n",
            "91/91 [==============================] - 1s 12ms/step - loss: 0.5851 - accuracy: 0.8206 - val_loss: 1.6846 - val_accuracy: 0.5195\n",
            "— val_f1: 0.4952173092986285\n",
            "Epoch 8/30\n",
            "91/91 [==============================] - 1s 12ms/step - loss: 0.5671 - accuracy: 0.8338 - val_loss: 2.4574 - val_accuracy: 0.4522\n",
            "— val_f1: 0.3772685055187161\n",
            "Epoch 9/30\n",
            "91/91 [==============================] - 1s 12ms/step - loss: 0.5210 - accuracy: 0.8543 - val_loss: 2.7438 - val_accuracy: 0.4669\n",
            "— val_f1: 0.40238758735692526\n",
            "Epoch 10/30\n",
            "91/91 [==============================] - 1s 12ms/step - loss: 0.4826 - accuracy: 0.8668 - val_loss: 1.3612 - val_accuracy: 0.5283\n",
            "— val_f1: 0.5255228398458998\n",
            "Epoch 11/30\n",
            "91/91 [==============================] - 1s 12ms/step - loss: 0.4369 - accuracy: 0.8904 - val_loss: 2.3559 - val_accuracy: 0.4854\n",
            "— val_f1: 0.45289726270885167\n",
            "Epoch 12/30\n",
            "91/91 [==============================] - 1s 12ms/step - loss: 0.3767 - accuracy: 0.9178 - val_loss: 2.8923 - val_accuracy: 0.4737\n",
            "— val_f1: 0.426602086438152\n",
            "Epoch 13/30\n",
            "91/91 [==============================] - 1s 12ms/step - loss: 0.3182 - accuracy: 0.9461 - val_loss: 1.9030 - val_accuracy: 0.5322\n",
            "— val_f1: 0.5315870570107858\n",
            "Epoch 14/30\n",
            "91/91 [==============================] - 1s 12ms/step - loss: 0.2843 - accuracy: 0.9524 - val_loss: 1.9299 - val_accuracy: 0.5624\n",
            "— val_f1: 0.5623278593517678\n",
            "Epoch 15/30\n",
            "91/91 [==============================] - 1s 12ms/step - loss: 0.3718 - accuracy: 0.9362 - val_loss: 2.4297 - val_accuracy: 0.5361\n",
            "— val_f1: 0.5264737821905057\n",
            "Epoch 16/30\n",
            "91/91 [==============================] - 1s 12ms/step - loss: 0.2518 - accuracy: 0.9711 - val_loss: 2.4017 - val_accuracy: 0.5419\n",
            "— val_f1: 0.5365835844762901\n",
            "Epoch 17/30\n",
            "91/91 [==============================] - 1s 12ms/step - loss: 0.2270 - accuracy: 0.9779 - val_loss: 3.0035 - val_accuracy: 0.5156\n",
            "— val_f1: 0.5007357930262682\n",
            "Epoch 18/30\n",
            "91/91 [==============================] - 1s 12ms/step - loss: 0.2149 - accuracy: 0.9791 - val_loss: 2.5688 - val_accuracy: 0.5458\n",
            "— val_f1: 0.544639285619045\n",
            "Epoch 19/30\n",
            "91/91 [==============================] - 1s 12ms/step - loss: 0.2004 - accuracy: 0.9821 - val_loss: 2.7491 - val_accuracy: 0.5331\n",
            "— val_f1: 0.5281970640838438\n",
            "Epoch 20/30\n",
            "91/91 [==============================] - 1s 12ms/step - loss: 0.2096 - accuracy: 0.9759 - val_loss: 3.9896 - val_accuracy: 0.4756\n",
            "— val_f1: 0.43212279582724644\n",
            "Epoch 21/30\n",
            "91/91 [==============================] - 1s 12ms/step - loss: 0.2362 - accuracy: 0.9629 - val_loss: 2.9525 - val_accuracy: 0.5088\n",
            "— val_f1: 0.49804305283757333\n",
            "Epoch 22/30\n",
            "91/91 [==============================] - 1s 12ms/step - loss: 0.1859 - accuracy: 0.9859 - val_loss: 3.0171 - val_accuracy: 0.5185\n",
            "— val_f1: 0.508567328575861\n",
            "Epoch 23/30\n",
            "91/91 [==============================] - 1s 12ms/step - loss: 0.1751 - accuracy: 0.9856 - val_loss: 2.9970 - val_accuracy: 0.5253\n",
            "— val_f1: 0.5208802588996764\n",
            "Epoch 24/30\n",
            "91/91 [==============================] - 1s 12ms/step - loss: 0.1577 - accuracy: 0.9893 - val_loss: 2.9161 - val_accuracy: 0.5370\n",
            "— val_f1: 0.5345498929851555\n",
            "Epoch 25/30\n",
            "91/91 [==============================] - 1s 12ms/step - loss: 0.1578 - accuracy: 0.9875 - val_loss: 3.0920 - val_accuracy: 0.5361\n",
            "— val_f1: 0.5326241324794341\n",
            "Epoch 26/30\n",
            "91/91 [==============================] - 1s 12ms/step - loss: 0.1468 - accuracy: 0.9872 - val_loss: 2.9532 - val_accuracy: 0.5400\n",
            "— val_f1: 0.5383823478947187\n",
            "Epoch 27/30\n",
            "91/91 [==============================] - 1s 12ms/step - loss: 0.1437 - accuracy: 0.9889 - val_loss: 2.9061 - val_accuracy: 0.5312\n",
            "— val_f1: 0.5292998909820297\n",
            "Epoch 28/30\n",
            "91/91 [==============================] - 1s 12ms/step - loss: 0.1444 - accuracy: 0.9838 - val_loss: 3.2504 - val_accuracy: 0.5351\n",
            "— val_f1: 0.52978060040642\n",
            "Epoch 29/30\n",
            "91/91 [==============================] - 1s 12ms/step - loss: 0.1449 - accuracy: 0.9843 - val_loss: 2.7347 - val_accuracy: 0.5331\n",
            "— val_f1: 0.5330101949187893\n",
            "Epoch 30/30\n",
            "91/91 [==============================] - 1s 12ms/step - loss: 0.3648 - accuracy: 0.9343 - val_loss: 2.6759 - val_accuracy: 0.5253\n",
            "— val_f1: 0.5181895586620138\n",
            "33/33 [==============================] - 0s 4ms/step - loss: 2.6759 - accuracy: 0.5253\n",
            "--- Starting trial: run-1\n",
            "{'num_units': 64, 'dropout': 0.7, 'optimizer': 'nadam'}\n",
            "Model: \"model_4\"\n",
            "__________________________________________________________________________________________________\n",
            "Layer (type)                    Output Shape         Param #     Connected to                     \n",
            "==================================================================================================\n",
            "text (InputLayer)               [(None, 64, 128)]    0                                            \n",
            "__________________________________________________________________________________________________\n",
            "bidirectional_4 (Bidirectional) (None, 128)          98816       text[0][0]                       \n",
            "__________________________________________________________________________________________________\n",
            "other (InputLayer)              [(None, 6)]          0                                            \n",
            "__________________________________________________________________________________________________\n",
            "concatenate_4 (Concatenate)     (None, 134)          0           bidirectional_4[0][0]            \n",
            "                                                                 other[0][0]                      \n",
            "__________________________________________________________________________________________________\n",
            "dense_12 (Dense)                (None, 256)          34560       concatenate_4[0][0]              \n",
            "__________________________________________________________________________________________________\n",
            "dense_13 (Dense)                (None, 64)           16448       dense_12[0][0]                   \n",
            "__________________________________________________________________________________________________\n",
            "dense_14 (Dense)                (None, 1)            65          dense_13[0][0]                   \n",
            "==================================================================================================\n",
            "Total params: 149,889\n",
            "Trainable params: 149,889\n",
            "Non-trainable params: 0\n",
            "__________________________________________________________________________________________________\n",
            "Epoch 1/30\n",
            "91/91 [==============================] - 5s 19ms/step - loss: 2.5866 - accuracy: 0.5355 - val_loss: 1.7041 - val_accuracy: 0.5799\n",
            "— val_f1: 0.3775700224223767\n",
            "Epoch 2/30\n",
            "91/91 [==============================] - 1s 12ms/step - loss: 1.1461 - accuracy: 0.6197 - val_loss: 1.0829 - val_accuracy: 0.6111\n",
            "— val_f1: 0.5116657739944913\n",
            "Epoch 3/30\n",
            "91/91 [==============================] - 1s 12ms/step - loss: 0.8943 - accuracy: 0.6666 - val_loss: 1.9468 - val_accuracy: 0.4444\n",
            "— val_f1: 0.3539471067806721\n",
            "Epoch 4/30\n",
            "91/91 [==============================] - 1s 12ms/step - loss: 0.8888 - accuracy: 0.6584 - val_loss: 0.9951 - val_accuracy: 0.5497\n",
            "— val_f1: 0.5489517676075637\n",
            "Epoch 5/30\n",
            "91/91 [==============================] - 1s 12ms/step - loss: 0.8801 - accuracy: 0.6602 - val_loss: 1.3402 - val_accuracy: 0.5088\n",
            "— val_f1: 0.4868635708700329\n",
            "Epoch 6/30\n",
            "91/91 [==============================] - 1s 12ms/step - loss: 0.7756 - accuracy: 0.6964 - val_loss: 1.7950 - val_accuracy: 0.4522\n",
            "— val_f1: 0.3819542102555308\n",
            "Epoch 7/30\n",
            "91/91 [==============================] - 1s 12ms/step - loss: 0.7412 - accuracy: 0.7039 - val_loss: 0.9514 - val_accuracy: 0.5419\n",
            "— val_f1: 0.541066296134153\n",
            "Epoch 8/30\n",
            "91/91 [==============================] - 1s 12ms/step - loss: 0.7160 - accuracy: 0.7035 - val_loss: 1.8757 - val_accuracy: 0.4669\n",
            "— val_f1: 0.4040881855451392\n",
            "Epoch 9/30\n",
            "91/91 [==============================] - 1s 12ms/step - loss: 0.6985 - accuracy: 0.7244 - val_loss: 1.0652 - val_accuracy: 0.5341\n",
            "— val_f1: 0.5212777172576167\n",
            "Epoch 10/30\n",
            "91/91 [==============================] - 1s 12ms/step - loss: 0.6801 - accuracy: 0.7306 - val_loss: 1.5627 - val_accuracy: 0.4357\n",
            "— val_f1: 0.349728038075764\n",
            "Epoch 11/30\n",
            "91/91 [==============================] - 1s 12ms/step - loss: 0.7277 - accuracy: 0.6976 - val_loss: 1.0766 - val_accuracy: 0.5419\n",
            "— val_f1: 0.5346678349345552\n",
            "Epoch 12/30\n",
            "91/91 [==============================] - 1s 12ms/step - loss: 0.6786 - accuracy: 0.7297 - val_loss: 1.0948 - val_accuracy: 0.5214\n",
            "— val_f1: 0.5064190430467308\n",
            "Epoch 13/30\n",
            "91/91 [==============================] - 1s 12ms/step - loss: 0.6449 - accuracy: 0.7433 - val_loss: 1.0206 - val_accuracy: 0.5468\n",
            "— val_f1: 0.540391219949231\n",
            "Epoch 14/30\n",
            "91/91 [==============================] - 1s 12ms/step - loss: 0.6571 - accuracy: 0.7391 - val_loss: 1.3560 - val_accuracy: 0.5097\n",
            "— val_f1: 0.4849783094872417\n",
            "Epoch 15/30\n",
            "91/91 [==============================] - 1s 12ms/step - loss: 0.6633 - accuracy: 0.7300 - val_loss: 0.9753 - val_accuracy: 0.5487\n",
            "— val_f1: 0.5481453086491387\n",
            "Epoch 16/30\n",
            "91/91 [==============================] - 1s 12ms/step - loss: 0.6622 - accuracy: 0.7214 - val_loss: 0.9702 - val_accuracy: 0.5819\n",
            "— val_f1: 0.5816961040071847\n",
            "Epoch 17/30\n",
            "91/91 [==============================] - 1s 12ms/step - loss: 0.6223 - accuracy: 0.7438 - val_loss: 1.1180 - val_accuracy: 0.5263\n",
            "— val_f1: 0.5105749788971555\n",
            "Epoch 18/30\n",
            "91/91 [==============================] - 1s 12ms/step - loss: 0.6122 - accuracy: 0.7477 - val_loss: 0.9960 - val_accuracy: 0.5731\n",
            "— val_f1: 0.5717308102833095\n",
            "Epoch 19/30\n",
            "91/91 [==============================] - 1s 12ms/step - loss: 0.6031 - accuracy: 0.7564 - val_loss: 0.9432 - val_accuracy: 0.5731\n",
            "— val_f1: 0.5713255494505495\n",
            "Epoch 20/30\n",
            "91/91 [==============================] - 1s 12ms/step - loss: 0.6441 - accuracy: 0.7272 - val_loss: 0.8837 - val_accuracy: 0.6150\n",
            "— val_f1: 0.6037436433448351\n",
            "Epoch 21/30\n",
            "91/91 [==============================] - 1s 12ms/step - loss: 0.6160 - accuracy: 0.7395 - val_loss: 1.2918 - val_accuracy: 0.5156\n",
            "— val_f1: 0.4915763245714878\n",
            "Epoch 22/30\n",
            "91/91 [==============================] - 1s 12ms/step - loss: 0.6039 - accuracy: 0.7535 - val_loss: 1.2177 - val_accuracy: 0.5136\n",
            "— val_f1: 0.4980228744552242\n",
            "Epoch 23/30\n",
            "91/91 [==============================] - 1s 12ms/step - loss: 0.5922 - accuracy: 0.7633 - val_loss: 0.8805 - val_accuracy: 0.6043\n",
            "— val_f1: 0.5656531531531531\n",
            "Epoch 24/30\n",
            "91/91 [==============================] - 1s 12ms/step - loss: 0.6010 - accuracy: 0.7496 - val_loss: 1.1043 - val_accuracy: 0.5185\n",
            "— val_f1: 0.5010454690434845\n",
            "Epoch 25/30\n",
            "91/91 [==============================] - 1s 12ms/step - loss: 0.5744 - accuracy: 0.7670 - val_loss: 0.9099 - val_accuracy: 0.5926\n",
            "— val_f1: 0.5923695466210437\n",
            "Epoch 26/30\n",
            "91/91 [==============================] - 1s 12ms/step - loss: 0.5791 - accuracy: 0.7540 - val_loss: 0.9546 - val_accuracy: 0.6131\n",
            "— val_f1: 0.5555751951686552\n",
            "Epoch 27/30\n",
            "91/91 [==============================] - 1s 12ms/step - loss: 0.5852 - accuracy: 0.7531 - val_loss: 1.1886 - val_accuracy: 0.5185\n",
            "— val_f1: 0.5002819789797488\n",
            "Epoch 28/30\n",
            "91/91 [==============================] - 1s 12ms/step - loss: 0.5562 - accuracy: 0.7811 - val_loss: 2.2201 - val_accuracy: 0.4327\n",
            "— val_f1: 0.3346273845605277\n",
            "Epoch 29/30\n",
            "91/91 [==============================] - 1s 12ms/step - loss: 0.5900 - accuracy: 0.7463 - val_loss: 1.4388 - val_accuracy: 0.5049\n",
            "— val_f1: 0.4746734397677794\n",
            "Epoch 30/30\n",
            "91/91 [==============================] - 1s 12ms/step - loss: 0.5772 - accuracy: 0.7592 - val_loss: 1.2044 - val_accuracy: 0.5205\n",
            "— val_f1: 0.4986572382011759\n",
            "33/33 [==============================] - 0s 4ms/step - loss: 1.2044 - accuracy: 0.5205\n",
            "--- Starting trial: run-2\n",
            "{'num_units': 128, 'dropout': 0.0, 'optimizer': 'nadam'}\n",
            "Model: \"model_5\"\n",
            "__________________________________________________________________________________________________\n",
            "Layer (type)                    Output Shape         Param #     Connected to                     \n",
            "==================================================================================================\n",
            "text (InputLayer)               [(None, 64, 128)]    0                                            \n",
            "__________________________________________________________________________________________________\n",
            "bidirectional_5 (Bidirectional) (None, 256)          263168      text[0][0]                       \n",
            "__________________________________________________________________________________________________\n",
            "other (InputLayer)              [(None, 6)]          0                                            \n",
            "__________________________________________________________________________________________________\n",
            "concatenate_5 (Concatenate)     (None, 262)          0           bidirectional_5[0][0]            \n",
            "                                                                 other[0][0]                      \n",
            "__________________________________________________________________________________________________\n",
            "dense_15 (Dense)                (None, 256)          67328       concatenate_5[0][0]              \n",
            "__________________________________________________________________________________________________\n",
            "dense_16 (Dense)                (None, 64)           16448       dense_15[0][0]                   \n",
            "__________________________________________________________________________________________________\n",
            "dense_17 (Dense)                (None, 1)            65          dense_16[0][0]                   \n",
            "==================================================================================================\n",
            "Total params: 347,009\n",
            "Trainable params: 347,009\n",
            "Non-trainable params: 0\n",
            "__________________________________________________________________________________________________\n",
            "Epoch 1/30\n",
            "91/91 [==============================] - 5s 20ms/step - loss: 2.7139 - accuracy: 0.5755 - val_loss: 1.3609 - val_accuracy: 0.4951\n",
            "— val_f1: 0.4812172751871244\n",
            "Epoch 2/30\n",
            "91/91 [==============================] - 1s 12ms/step - loss: 1.1894 - accuracy: 0.6635 - val_loss: 2.4661 - val_accuracy: 0.4327\n",
            "— val_f1: 0.3298723335488042\n",
            "Epoch 3/30\n",
            "91/91 [==============================] - 1s 12ms/step - loss: 0.8422 - accuracy: 0.7246 - val_loss: 1.3575 - val_accuracy: 0.5975\n",
            "— val_f1: 0.4309575895285174\n",
            "Epoch 4/30\n",
            "91/91 [==============================] - 1s 12ms/step - loss: 0.7565 - accuracy: 0.7401 - val_loss: 0.9624 - val_accuracy: 0.6189\n",
            "— val_f1: 0.6033820183950638\n",
            "Epoch 5/30\n",
            "91/91 [==============================] - 1s 12ms/step - loss: 0.6496 - accuracy: 0.7892 - val_loss: 1.0845 - val_accuracy: 0.5643\n",
            "— val_f1: 0.564068662070565\n",
            "Epoch 6/30\n",
            "91/91 [==============================] - 1s 12ms/step - loss: 0.5864 - accuracy: 0.8281 - val_loss: 1.3037 - val_accuracy: 0.5604\n",
            "— val_f1: 0.5573910207173746\n",
            "Epoch 7/30\n",
            "91/91 [==============================] - 1s 13ms/step - loss: 0.5502 - accuracy: 0.8520 - val_loss: 1.3074 - val_accuracy: 0.4854\n",
            "— val_f1: 0.4439686495407872\n",
            "Epoch 8/30\n",
            "91/91 [==============================] - 1s 13ms/step - loss: 0.5006 - accuracy: 0.8590 - val_loss: 2.0087 - val_accuracy: 0.4854\n",
            "— val_f1: 0.4482972136222911\n",
            "Epoch 9/30\n",
            "91/91 [==============================] - 1s 13ms/step - loss: 0.3976 - accuracy: 0.9168 - val_loss: 1.5822 - val_accuracy: 0.5546\n",
            "— val_f1: 0.549305765820321\n",
            "Epoch 10/30\n",
            "91/91 [==============================] - 1s 13ms/step - loss: 0.3653 - accuracy: 0.9303 - val_loss: 2.0132 - val_accuracy: 0.5078\n",
            "— val_f1: 0.4885571157120647\n",
            "Epoch 11/30\n",
            "91/91 [==============================] - 1s 13ms/step - loss: 0.3043 - accuracy: 0.9542 - val_loss: 2.0955 - val_accuracy: 0.5195\n",
            "— val_f1: 0.5057644110275689\n",
            "Epoch 12/30\n",
            "91/91 [==============================] - 1s 13ms/step - loss: 0.2603 - accuracy: 0.9661 - val_loss: 2.1353 - val_accuracy: 0.5819\n",
            "— val_f1: 0.5818614146568997\n",
            "Epoch 13/30\n",
            "91/91 [==============================] - 1s 13ms/step - loss: 0.3092 - accuracy: 0.9534 - val_loss: 2.2256 - val_accuracy: 0.5331\n",
            "— val_f1: 0.5246632434058383\n",
            "Epoch 14/30\n",
            "91/91 [==============================] - 1s 13ms/step - loss: 0.2275 - accuracy: 0.9746 - val_loss: 1.8939 - val_accuracy: 0.5799\n",
            "— val_f1: 0.5795381828727364\n",
            "Epoch 15/30\n",
            "91/91 [==============================] - 1s 13ms/step - loss: 0.2032 - accuracy: 0.9820 - val_loss: 2.5301 - val_accuracy: 0.5458\n",
            "— val_f1: 0.5421274607072126\n",
            "Epoch 16/30\n",
            "91/91 [==============================] - 1s 13ms/step - loss: 0.1787 - accuracy: 0.9879 - val_loss: 2.6546 - val_accuracy: 0.5361\n",
            "— val_f1: 0.5321351931330472\n",
            "Epoch 17/30\n",
            "91/91 [==============================] - 1s 13ms/step - loss: 0.1707 - accuracy: 0.9882 - val_loss: 2.8134 - val_accuracy: 0.5341\n",
            "— val_f1: 0.5288930386969604\n",
            "Epoch 18/30\n",
            "91/91 [==============================] - 1s 13ms/step - loss: 0.1625 - accuracy: 0.9875 - val_loss: 3.0255 - val_accuracy: 0.5331\n",
            "— val_f1: 0.5233539624486091\n",
            "Epoch 19/30\n",
            "91/91 [==============================] - 1s 13ms/step - loss: 0.5731 - accuracy: 0.9045 - val_loss: 2.6325 - val_accuracy: 0.5078\n",
            "— val_f1: 0.48974175396163394\n",
            "Epoch 20/30\n",
            "91/91 [==============================] - 1s 13ms/step - loss: 0.1789 - accuracy: 0.9855 - val_loss: 2.5358 - val_accuracy: 0.5419\n",
            "— val_f1: 0.5353404150349973\n",
            "Epoch 21/30\n",
            "91/91 [==============================] - 1s 13ms/step - loss: 0.1616 - accuracy: 0.9885 - val_loss: 2.1950 - val_accuracy: 0.5419\n",
            "— val_f1: 0.5401209254420263\n",
            "Epoch 22/30\n",
            "91/91 [==============================] - 1s 13ms/step - loss: 0.1499 - accuracy: 0.9877 - val_loss: 2.3550 - val_accuracy: 0.5536\n",
            "— val_f1: 0.5526270692668883\n",
            "Epoch 23/30\n",
            "91/91 [==============================] - 1s 13ms/step - loss: 0.1460 - accuracy: 0.9874 - val_loss: 2.6223 - val_accuracy: 0.5390\n",
            "— val_f1: 0.5333255762294129\n",
            "Epoch 24/30\n",
            "91/91 [==============================] - 1s 13ms/step - loss: 0.1353 - accuracy: 0.9902 - val_loss: 2.7293 - val_accuracy: 0.5448\n",
            "— val_f1: 0.5398294512147688\n",
            "Epoch 25/30\n",
            "91/91 [==============================] - 1s 13ms/step - loss: 0.1288 - accuracy: 0.9906 - val_loss: 2.7678 - val_accuracy: 0.5526\n",
            "— val_f1: 0.5487629485335614\n",
            "Epoch 26/30\n",
            "91/91 [==============================] - 1s 13ms/step - loss: 0.1238 - accuracy: 0.9886 - val_loss: 2.7386 - val_accuracy: 0.5526\n",
            "— val_f1: 0.549239773918287\n",
            "Epoch 27/30\n",
            "91/91 [==============================] - 1s 13ms/step - loss: 0.2187 - accuracy: 0.9618 - val_loss: 2.2915 - val_accuracy: 0.5429\n",
            "— val_f1: 0.5362195640293885\n",
            "Epoch 28/30\n",
            "91/91 [==============================] - 1s 13ms/step - loss: 0.1508 - accuracy: 0.9809 - val_loss: 2.6717 - val_accuracy: 0.5312\n",
            "— val_f1: 0.5202396147964665\n",
            "Epoch 29/30\n",
            "91/91 [==============================] - 1s 13ms/step - loss: 0.1304 - accuracy: 0.9862 - val_loss: 2.6437 - val_accuracy: 0.5234\n",
            "— val_f1: 0.5131235595235207\n",
            "Epoch 30/30\n",
            "91/91 [==============================] - 1s 13ms/step - loss: 0.1186 - accuracy: 0.9896 - val_loss: 2.5616 - val_accuracy: 0.5663\n",
            "— val_f1: 0.5616862077605647\n",
            "33/33 [==============================] - 0s 5ms/step - loss: 2.5616 - accuracy: 0.5663\n",
            "--- Starting trial: run-3\n",
            "{'num_units': 128, 'dropout': 0.7, 'optimizer': 'nadam'}\n",
            "Model: \"model_6\"\n",
            "__________________________________________________________________________________________________\n",
            "Layer (type)                    Output Shape         Param #     Connected to                     \n",
            "==================================================================================================\n",
            "text (InputLayer)               [(None, 64, 128)]    0                                            \n",
            "__________________________________________________________________________________________________\n",
            "bidirectional_6 (Bidirectional) (None, 256)          263168      text[0][0]                       \n",
            "__________________________________________________________________________________________________\n",
            "other (InputLayer)              [(None, 6)]          0                                            \n",
            "__________________________________________________________________________________________________\n",
            "concatenate_6 (Concatenate)     (None, 262)          0           bidirectional_6[0][0]            \n",
            "                                                                 other[0][0]                      \n",
            "__________________________________________________________________________________________________\n",
            "dense_18 (Dense)                (None, 256)          67328       concatenate_6[0][0]              \n",
            "__________________________________________________________________________________________________\n",
            "dense_19 (Dense)                (None, 64)           16448       dense_18[0][0]                   \n",
            "__________________________________________________________________________________________________\n",
            "dense_20 (Dense)                (None, 1)            65          dense_19[0][0]                   \n",
            "==================================================================================================\n",
            "Total params: 347,009\n",
            "Trainable params: 347,009\n",
            "Non-trainable params: 0\n",
            "__________________________________________________________________________________________________\n",
            "Epoch 1/30\n",
            "91/91 [==============================] - 6s 31ms/step - loss: 2.9315 - accuracy: 0.5297 - val_loss: 1.9706 - val_accuracy: 0.4405\n",
            "— val_f1: 0.36494565217391306\n",
            "Epoch 2/30\n",
            "91/91 [==============================] - 1s 13ms/step - loss: 1.2957 - accuracy: 0.6209 - val_loss: 1.6263 - val_accuracy: 0.4571\n",
            "— val_f1: 0.4130910995517169\n",
            "Epoch 3/30\n",
            "91/91 [==============================] - 1s 13ms/step - loss: 1.0431 - accuracy: 0.6500 - val_loss: 1.9753 - val_accuracy: 0.4669\n",
            "— val_f1: 0.41881487203969137\n",
            "Epoch 4/30\n",
            "91/91 [==============================] - 1s 13ms/step - loss: 0.9180 - accuracy: 0.6785 - val_loss: 1.3240 - val_accuracy: 0.5010\n",
            "— val_f1: 0.4865447095666861\n",
            "Epoch 5/30\n",
            "91/91 [==============================] - 1s 13ms/step - loss: 0.8974 - accuracy: 0.6812 - val_loss: 1.0905 - val_accuracy: 0.5253\n",
            "— val_f1: 0.5219034988761916\n",
            "Epoch 6/30\n",
            "91/91 [==============================] - 1s 13ms/step - loss: 0.8228 - accuracy: 0.6975 - val_loss: 1.4444 - val_accuracy: 0.5302\n",
            "— val_f1: 0.5138932030055086\n",
            "Epoch 7/30\n",
            "91/91 [==============================] - 1s 13ms/step - loss: 0.8267 - accuracy: 0.6945 - val_loss: 0.9897 - val_accuracy: 0.5565\n",
            "— val_f1: 0.5565264228858697\n",
            "Epoch 8/30\n",
            "91/91 [==============================] - 1s 13ms/step - loss: 0.7679 - accuracy: 0.7163 - val_loss: 1.2518 - val_accuracy: 0.5439\n",
            "— val_f1: 0.5391242585376154\n",
            "Epoch 9/30\n",
            "91/91 [==============================] - 1s 13ms/step - loss: 0.7538 - accuracy: 0.7198 - val_loss: 4.0336 - val_accuracy: 0.4269\n",
            "— val_f1: 0.30340441451552563\n",
            "Epoch 10/30\n",
            "91/91 [==============================] - 1s 13ms/step - loss: 0.7932 - accuracy: 0.7075 - val_loss: 1.0002 - val_accuracy: 0.5604\n",
            "— val_f1: 0.5603950237270745\n",
            "Epoch 11/30\n",
            "91/91 [==============================] - 1s 13ms/step - loss: 0.7022 - accuracy: 0.7355 - val_loss: 1.9805 - val_accuracy: 0.4717\n",
            "— val_f1: 0.42015765765765767\n",
            "Epoch 12/30\n",
            "91/91 [==============================] - 1s 13ms/step - loss: 0.6912 - accuracy: 0.7388 - val_loss: 0.9793 - val_accuracy: 0.5877\n",
            "— val_f1: 0.5877095067596003\n",
            "Epoch 13/30\n",
            "91/91 [==============================] - 1s 13ms/step - loss: 0.6752 - accuracy: 0.7339 - val_loss: 0.9221 - val_accuracy: 0.6150\n",
            "— val_f1: 0.6078114491147766\n",
            "Epoch 14/30\n",
            "91/91 [==============================] - 1s 13ms/step - loss: 0.6871 - accuracy: 0.7417 - val_loss: 1.0896 - val_accuracy: 0.5292\n",
            "— val_f1: 0.5201777700318069\n",
            "Epoch 15/30\n",
            "91/91 [==============================] - 1s 13ms/step - loss: 0.6604 - accuracy: 0.7466 - val_loss: 1.2156 - val_accuracy: 0.5292\n",
            "— val_f1: 0.5157894736842106\n",
            "Epoch 16/30\n",
            "91/91 [==============================] - 1s 13ms/step - loss: 0.6615 - accuracy: 0.7392 - val_loss: 1.4166 - val_accuracy: 0.5214\n",
            "— val_f1: 0.5023427428317404\n",
            "Epoch 17/30\n",
            "91/91 [==============================] - 1s 13ms/step - loss: 0.6306 - accuracy: 0.7581 - val_loss: 1.1022 - val_accuracy: 0.5439\n",
            "— val_f1: 0.5370982358044925\n",
            "Epoch 18/30\n",
            "91/91 [==============================] - 1s 13ms/step - loss: 0.6692 - accuracy: 0.7372 - val_loss: 1.4910 - val_accuracy: 0.5049\n",
            "— val_f1: 0.4741497943848293\n",
            "Epoch 19/30\n",
            "91/91 [==============================] - 1s 13ms/step - loss: 0.6345 - accuracy: 0.7521 - val_loss: 1.7338 - val_accuracy: 0.4747\n",
            "— val_f1: 0.420750031161393\n",
            "Epoch 20/30\n",
            "91/91 [==============================] - 1s 13ms/step - loss: 0.6401 - accuracy: 0.7563 - val_loss: 1.2928 - val_accuracy: 0.5224\n",
            "— val_f1: 0.5102062289562289\n",
            "Epoch 21/30\n",
            "91/91 [==============================] - 1s 13ms/step - loss: 0.6298 - accuracy: 0.7519 - val_loss: 2.0430 - val_accuracy: 0.4571\n",
            "— val_f1: 0.39058496089063777\n",
            "Epoch 22/30\n",
            "91/91 [==============================] - 1s 13ms/step - loss: 0.6185 - accuracy: 0.7549 - val_loss: 1.2239 - val_accuracy: 0.5478\n",
            "— val_f1: 0.5401467468790208\n",
            "Epoch 23/30\n",
            "91/91 [==============================] - 1s 13ms/step - loss: 0.6041 - accuracy: 0.7566 - val_loss: 1.4443 - val_accuracy: 0.5478\n",
            "— val_f1: 0.5381481064677736\n",
            "Epoch 24/30\n",
            "91/91 [==============================] - 1s 13ms/step - loss: 0.6135 - accuracy: 0.7531 - val_loss: 1.9981 - val_accuracy: 0.4522\n",
            "— val_f1: 0.3828670505383479\n",
            "Epoch 25/30\n",
            "91/91 [==============================] - 1s 13ms/step - loss: 0.6013 - accuracy: 0.7604 - val_loss: 1.3685 - val_accuracy: 0.5146\n",
            "— val_f1: 0.48940533151059473\n",
            "Epoch 26/30\n",
            "91/91 [==============================] - 1s 13ms/step - loss: 0.6055 - accuracy: 0.7577 - val_loss: 2.0717 - val_accuracy: 0.4386\n",
            "— val_f1: 0.3546718848277308\n",
            "Epoch 27/30\n",
            "91/91 [==============================] - 1s 13ms/step - loss: 0.5841 - accuracy: 0.7674 - val_loss: 1.4840 - val_accuracy: 0.4864\n",
            "— val_f1: 0.4472180561817396\n",
            "Epoch 28/30\n",
            "91/91 [==============================] - 1s 13ms/step - loss: 0.5809 - accuracy: 0.7691 - val_loss: 1.8106 - val_accuracy: 0.4815\n",
            "— val_f1: 0.435096870342772\n",
            "Epoch 29/30\n",
            "91/91 [==============================] - 1s 13ms/step - loss: 0.5832 - accuracy: 0.7679 - val_loss: 1.5154 - val_accuracy: 0.4942\n",
            "— val_f1: 0.46461222909827615\n",
            "Epoch 30/30\n",
            "91/91 [==============================] - 1s 13ms/step - loss: 0.5675 - accuracy: 0.7716 - val_loss: 1.5404 - val_accuracy: 0.4951\n",
            "— val_f1: 0.46433236574746006\n",
            "33/33 [==============================] - 0s 5ms/step - loss: 1.5404 - accuracy: 0.4951\n",
            "--- Starting trial: run-4\n",
            "{'num_units': 256, 'dropout': 0.0, 'optimizer': 'nadam'}\n",
            "Model: \"model_7\"\n",
            "__________________________________________________________________________________________________\n",
            "Layer (type)                    Output Shape         Param #     Connected to                     \n",
            "==================================================================================================\n",
            "text (InputLayer)               [(None, 64, 128)]    0                                            \n",
            "__________________________________________________________________________________________________\n",
            "bidirectional_7 (Bidirectional) (None, 512)          788480      text[0][0]                       \n",
            "__________________________________________________________________________________________________\n",
            "other (InputLayer)              [(None, 6)]          0                                            \n",
            "__________________________________________________________________________________________________\n",
            "concatenate_7 (Concatenate)     (None, 518)          0           bidirectional_7[0][0]            \n",
            "                                                                 other[0][0]                      \n",
            "__________________________________________________________________________________________________\n",
            "dense_21 (Dense)                (None, 256)          132864      concatenate_7[0][0]              \n",
            "__________________________________________________________________________________________________\n",
            "dense_22 (Dense)                (None, 64)           16448       dense_21[0][0]                   \n",
            "__________________________________________________________________________________________________\n",
            "dense_23 (Dense)                (None, 1)            65          dense_22[0][0]                   \n",
            "==================================================================================================\n",
            "Total params: 937,857\n",
            "Trainable params: 937,857\n",
            "Non-trainable params: 0\n",
            "__________________________________________________________________________________________________\n",
            "Epoch 1/30\n",
            "91/91 [==============================] - 5s 25ms/step - loss: 2.9486 - accuracy: 0.5724 - val_loss: 1.5681 - val_accuracy: 0.4630\n",
            "— val_f1: 0.4014135435472002\n",
            "Epoch 2/30\n",
            "91/91 [==============================] - 2s 17ms/step - loss: 1.0202 - accuracy: 0.6899 - val_loss: 1.0886 - val_accuracy: 0.5634\n",
            "— val_f1: 0.5633378932968536\n",
            "Epoch 3/30\n",
            "91/91 [==============================] - 2s 17ms/step - loss: 0.7822 - accuracy: 0.7371 - val_loss: 1.0617 - val_accuracy: 0.5400\n",
            "— val_f1: 0.534004349415908\n",
            "Epoch 4/30\n",
            "91/91 [==============================] - 2s 17ms/step - loss: 0.6906 - accuracy: 0.7672 - val_loss: 1.1806 - val_accuracy: 0.5244\n",
            "— val_f1: 0.5106129263057477\n",
            "Epoch 5/30\n",
            "91/91 [==============================] - 2s 17ms/step - loss: 0.6049 - accuracy: 0.8063 - val_loss: 1.3727 - val_accuracy: 0.5166\n",
            "— val_f1: 0.49707472881945536\n",
            "Epoch 6/30\n",
            "91/91 [==============================] - 2s 17ms/step - loss: 0.5468 - accuracy: 0.8373 - val_loss: 1.9777 - val_accuracy: 0.4708\n",
            "— val_f1: 0.4316949143897625\n",
            "Epoch 7/30\n",
            "91/91 [==============================] - 2s 17ms/step - loss: 0.4449 - accuracy: 0.8868 - val_loss: 1.6406 - val_accuracy: 0.5088\n",
            "— val_f1: 0.48729297544260425\n",
            "Epoch 8/30\n",
            "13/91 [===>..........................] - ETA: 1s - loss: 0.3910 - accuracy: 0.9204"
          ],
          "name": "stdout"
        },
        {
          "output_type": "error",
          "ename": "KeyboardInterrupt",
          "evalue": "ignored",
          "traceback": [
            "\u001b[0;31m---------------------------------------------------------------------------\u001b[0m",
            "\u001b[0;31mKeyboardInterrupt\u001b[0m                         Traceback (most recent call last)",
            "\u001b[0;32m<ipython-input-55-817954b1c171>\u001b[0m in \u001b[0;36m<module>\u001b[0;34m()\u001b[0m\n\u001b[1;32m     12\u001b[0m       \u001b[0mprint\u001b[0m\u001b[0;34m(\u001b[0m\u001b[0;34m'--- Starting trial: %s'\u001b[0m \u001b[0;34m%\u001b[0m \u001b[0mrun_name\u001b[0m\u001b[0;34m)\u001b[0m\u001b[0;34m\u001b[0m\u001b[0;34m\u001b[0m\u001b[0m\n\u001b[1;32m     13\u001b[0m       \u001b[0mprint\u001b[0m\u001b[0;34m(\u001b[0m\u001b[0;34m{\u001b[0m\u001b[0mh\u001b[0m\u001b[0;34m.\u001b[0m\u001b[0mname\u001b[0m\u001b[0;34m:\u001b[0m \u001b[0mhparams\u001b[0m\u001b[0;34m[\u001b[0m\u001b[0mh\u001b[0m\u001b[0;34m]\u001b[0m \u001b[0;32mfor\u001b[0m \u001b[0mh\u001b[0m \u001b[0;32min\u001b[0m \u001b[0mhparams\u001b[0m\u001b[0;34m}\u001b[0m\u001b[0;34m)\u001b[0m\u001b[0;34m\u001b[0m\u001b[0;34m\u001b[0m\u001b[0m\n\u001b[0;32m---> 14\u001b[0;31m       \u001b[0mrun\u001b[0m\u001b[0;34m(\u001b[0m\u001b[0;34m'logs/hparam_tuning/'\u001b[0m \u001b[0;34m+\u001b[0m \u001b[0mrun_name\u001b[0m\u001b[0;34m,\u001b[0m \u001b[0mhparams\u001b[0m\u001b[0;34m)\u001b[0m\u001b[0;34m\u001b[0m\u001b[0;34m\u001b[0m\u001b[0m\n\u001b[0m\u001b[1;32m     15\u001b[0m       \u001b[0msession_num\u001b[0m \u001b[0;34m+=\u001b[0m \u001b[0;36m1\u001b[0m\u001b[0;34m\u001b[0m\u001b[0;34m\u001b[0m\u001b[0m\n",
            "\u001b[0;32m<ipython-input-54-fd9c39d06c4d>\u001b[0m in \u001b[0;36mrun\u001b[0;34m(run_dir, hparams)\u001b[0m\n\u001b[1;32m      2\u001b[0m   \u001b[0;32mwith\u001b[0m \u001b[0mtf\u001b[0m\u001b[0;34m.\u001b[0m\u001b[0msummary\u001b[0m\u001b[0;34m.\u001b[0m\u001b[0mcreate_file_writer\u001b[0m\u001b[0;34m(\u001b[0m\u001b[0mrun_dir\u001b[0m\u001b[0;34m)\u001b[0m\u001b[0;34m.\u001b[0m\u001b[0mas_default\u001b[0m\u001b[0;34m(\u001b[0m\u001b[0;34m)\u001b[0m\u001b[0;34m:\u001b[0m\u001b[0;34m\u001b[0m\u001b[0;34m\u001b[0m\u001b[0m\n\u001b[1;32m      3\u001b[0m     \u001b[0mhp\u001b[0m\u001b[0;34m.\u001b[0m\u001b[0mhparams\u001b[0m\u001b[0;34m(\u001b[0m\u001b[0mhparams\u001b[0m\u001b[0;34m)\u001b[0m  \u001b[0;31m# record the values used in this trial\u001b[0m\u001b[0;34m\u001b[0m\u001b[0;34m\u001b[0m\u001b[0m\n\u001b[0;32m----> 4\u001b[0;31m     \u001b[0maccuracy\u001b[0m \u001b[0;34m=\u001b[0m \u001b[0mtrain_test_model\u001b[0m\u001b[0;34m(\u001b[0m\u001b[0mhparams\u001b[0m\u001b[0;34m)\u001b[0m\u001b[0;34m\u001b[0m\u001b[0;34m\u001b[0m\u001b[0m\n\u001b[0m\u001b[1;32m      5\u001b[0m     \u001b[0mtf\u001b[0m\u001b[0;34m.\u001b[0m\u001b[0msummary\u001b[0m\u001b[0;34m.\u001b[0m\u001b[0mscalar\u001b[0m\u001b[0;34m(\u001b[0m\u001b[0mMETRIC_ACCURACY\u001b[0m\u001b[0;34m,\u001b[0m \u001b[0maccuracy\u001b[0m\u001b[0;34m,\u001b[0m \u001b[0mstep\u001b[0m\u001b[0;34m=\u001b[0m\u001b[0;36m1\u001b[0m\u001b[0;34m)\u001b[0m\u001b[0;34m\u001b[0m\u001b[0;34m\u001b[0m\u001b[0m\n",
            "\u001b[0;32m<ipython-input-53-00c298575d2f>\u001b[0m in \u001b[0;36mtrain_test_model\u001b[0;34m(hparams)\u001b[0m\n\u001b[1;32m     25\u001b[0m   \u001b[0mf1_callback\u001b[0m \u001b[0;34m=\u001b[0m \u001b[0mFCallback\u001b[0m\u001b[0;34m(\u001b[0m\u001b[0mvalidation\u001b[0m \u001b[0;34m=\u001b[0m \u001b[0;34m(\u001b[0m\u001b[0minput_val\u001b[0m\u001b[0;34m,\u001b[0m \u001b[0my_valid\u001b[0m\u001b[0;34m)\u001b[0m\u001b[0;34m,\u001b[0m \u001b[0mverbose\u001b[0m\u001b[0;34m=\u001b[0m\u001b[0;32mTrue\u001b[0m\u001b[0;34m)\u001b[0m\u001b[0;34m\u001b[0m\u001b[0;34m\u001b[0m\u001b[0m\n\u001b[1;32m     26\u001b[0m \u001b[0;34m\u001b[0m\u001b[0m\n\u001b[0;32m---> 27\u001b[0;31m   \u001b[0mmodel\u001b[0m\u001b[0;34m.\u001b[0m\u001b[0mfit\u001b[0m\u001b[0;34m(\u001b[0m\u001b[0minput_train\u001b[0m\u001b[0;34m,\u001b[0m \u001b[0my_train\u001b[0m\u001b[0;34m,\u001b[0m \u001b[0mbatch_size\u001b[0m\u001b[0;34m=\u001b[0m\u001b[0mbatch_size\u001b[0m\u001b[0;34m,\u001b[0m \u001b[0mvalidation_data\u001b[0m\u001b[0;34m=\u001b[0m\u001b[0;34m(\u001b[0m\u001b[0minput_val\u001b[0m\u001b[0;34m,\u001b[0m \u001b[0my_valid\u001b[0m\u001b[0;34m)\u001b[0m\u001b[0;34m,\u001b[0m \u001b[0mepochs\u001b[0m\u001b[0;34m=\u001b[0m\u001b[0;36m30\u001b[0m\u001b[0;34m,\u001b[0m \u001b[0mcallbacks\u001b[0m\u001b[0;34m=\u001b[0m\u001b[0;34m[\u001b[0m\u001b[0mf1_callback\u001b[0m\u001b[0;34m]\u001b[0m\u001b[0;34m)\u001b[0m \u001b[0;31m# Run with 1 epoch to speed things up for demo purposes\u001b[0m\u001b[0;34m\u001b[0m\u001b[0;34m\u001b[0m\u001b[0m\n\u001b[0m\u001b[1;32m     28\u001b[0m   \u001b[0m_\u001b[0m\u001b[0;34m,\u001b[0m \u001b[0maccuracy\u001b[0m \u001b[0;34m=\u001b[0m \u001b[0mmodel\u001b[0m\u001b[0;34m.\u001b[0m\u001b[0mevaluate\u001b[0m\u001b[0;34m(\u001b[0m\u001b[0minput_val\u001b[0m\u001b[0;34m,\u001b[0m \u001b[0my_valid\u001b[0m\u001b[0;34m)\u001b[0m\u001b[0;34m\u001b[0m\u001b[0;34m\u001b[0m\u001b[0m\n\u001b[1;32m     29\u001b[0m   \u001b[0;32mreturn\u001b[0m \u001b[0maccuracy\u001b[0m\u001b[0;34m\u001b[0m\u001b[0;34m\u001b[0m\u001b[0m\n",
            "\u001b[0;32m/usr/local/lib/python3.7/dist-packages/tensorflow/python/keras/engine/training.py\u001b[0m in \u001b[0;36mfit\u001b[0;34m(self, x, y, batch_size, epochs, verbose, callbacks, validation_split, validation_data, shuffle, class_weight, sample_weight, initial_epoch, steps_per_epoch, validation_steps, validation_batch_size, validation_freq, max_queue_size, workers, use_multiprocessing)\u001b[0m\n\u001b[1;32m   1098\u001b[0m                 _r=1):\n\u001b[1;32m   1099\u001b[0m               \u001b[0mcallbacks\u001b[0m\u001b[0;34m.\u001b[0m\u001b[0mon_train_batch_begin\u001b[0m\u001b[0;34m(\u001b[0m\u001b[0mstep\u001b[0m\u001b[0;34m)\u001b[0m\u001b[0;34m\u001b[0m\u001b[0;34m\u001b[0m\u001b[0m\n\u001b[0;32m-> 1100\u001b[0;31m               \u001b[0mtmp_logs\u001b[0m \u001b[0;34m=\u001b[0m \u001b[0mself\u001b[0m\u001b[0;34m.\u001b[0m\u001b[0mtrain_function\u001b[0m\u001b[0;34m(\u001b[0m\u001b[0miterator\u001b[0m\u001b[0;34m)\u001b[0m\u001b[0;34m\u001b[0m\u001b[0;34m\u001b[0m\u001b[0m\n\u001b[0m\u001b[1;32m   1101\u001b[0m               \u001b[0;32mif\u001b[0m \u001b[0mdata_handler\u001b[0m\u001b[0;34m.\u001b[0m\u001b[0mshould_sync\u001b[0m\u001b[0;34m:\u001b[0m\u001b[0;34m\u001b[0m\u001b[0;34m\u001b[0m\u001b[0m\n\u001b[1;32m   1102\u001b[0m                 \u001b[0mcontext\u001b[0m\u001b[0;34m.\u001b[0m\u001b[0masync_wait\u001b[0m\u001b[0;34m(\u001b[0m\u001b[0;34m)\u001b[0m\u001b[0;34m\u001b[0m\u001b[0;34m\u001b[0m\u001b[0m\n",
            "\u001b[0;32m/usr/local/lib/python3.7/dist-packages/tensorflow/python/eager/def_function.py\u001b[0m in \u001b[0;36m__call__\u001b[0;34m(self, *args, **kwds)\u001b[0m\n\u001b[1;32m    826\u001b[0m     \u001b[0mtracing_count\u001b[0m \u001b[0;34m=\u001b[0m \u001b[0mself\u001b[0m\u001b[0;34m.\u001b[0m\u001b[0mexperimental_get_tracing_count\u001b[0m\u001b[0;34m(\u001b[0m\u001b[0;34m)\u001b[0m\u001b[0;34m\u001b[0m\u001b[0;34m\u001b[0m\u001b[0m\n\u001b[1;32m    827\u001b[0m     \u001b[0;32mwith\u001b[0m \u001b[0mtrace\u001b[0m\u001b[0;34m.\u001b[0m\u001b[0mTrace\u001b[0m\u001b[0;34m(\u001b[0m\u001b[0mself\u001b[0m\u001b[0;34m.\u001b[0m\u001b[0m_name\u001b[0m\u001b[0;34m)\u001b[0m \u001b[0;32mas\u001b[0m \u001b[0mtm\u001b[0m\u001b[0;34m:\u001b[0m\u001b[0;34m\u001b[0m\u001b[0;34m\u001b[0m\u001b[0m\n\u001b[0;32m--> 828\u001b[0;31m       \u001b[0mresult\u001b[0m \u001b[0;34m=\u001b[0m \u001b[0mself\u001b[0m\u001b[0;34m.\u001b[0m\u001b[0m_call\u001b[0m\u001b[0;34m(\u001b[0m\u001b[0;34m*\u001b[0m\u001b[0margs\u001b[0m\u001b[0;34m,\u001b[0m \u001b[0;34m**\u001b[0m\u001b[0mkwds\u001b[0m\u001b[0;34m)\u001b[0m\u001b[0;34m\u001b[0m\u001b[0;34m\u001b[0m\u001b[0m\n\u001b[0m\u001b[1;32m    829\u001b[0m       \u001b[0mcompiler\u001b[0m \u001b[0;34m=\u001b[0m \u001b[0;34m\"xla\"\u001b[0m \u001b[0;32mif\u001b[0m \u001b[0mself\u001b[0m\u001b[0;34m.\u001b[0m\u001b[0m_experimental_compile\u001b[0m \u001b[0;32melse\u001b[0m \u001b[0;34m\"nonXla\"\u001b[0m\u001b[0;34m\u001b[0m\u001b[0;34m\u001b[0m\u001b[0m\n\u001b[1;32m    830\u001b[0m       \u001b[0mnew_tracing_count\u001b[0m \u001b[0;34m=\u001b[0m \u001b[0mself\u001b[0m\u001b[0;34m.\u001b[0m\u001b[0mexperimental_get_tracing_count\u001b[0m\u001b[0;34m(\u001b[0m\u001b[0;34m)\u001b[0m\u001b[0;34m\u001b[0m\u001b[0;34m\u001b[0m\u001b[0m\n",
            "\u001b[0;32m/usr/local/lib/python3.7/dist-packages/tensorflow/python/eager/def_function.py\u001b[0m in \u001b[0;36m_call\u001b[0;34m(self, *args, **kwds)\u001b[0m\n\u001b[1;32m    853\u001b[0m       \u001b[0;31m# In this case we have created variables on the first call, so we run the\u001b[0m\u001b[0;34m\u001b[0m\u001b[0;34m\u001b[0m\u001b[0;34m\u001b[0m\u001b[0m\n\u001b[1;32m    854\u001b[0m       \u001b[0;31m# defunned version which is guaranteed to never create variables.\u001b[0m\u001b[0;34m\u001b[0m\u001b[0;34m\u001b[0m\u001b[0;34m\u001b[0m\u001b[0m\n\u001b[0;32m--> 855\u001b[0;31m       \u001b[0;32mreturn\u001b[0m \u001b[0mself\u001b[0m\u001b[0;34m.\u001b[0m\u001b[0m_stateless_fn\u001b[0m\u001b[0;34m(\u001b[0m\u001b[0;34m*\u001b[0m\u001b[0margs\u001b[0m\u001b[0;34m,\u001b[0m \u001b[0;34m**\u001b[0m\u001b[0mkwds\u001b[0m\u001b[0;34m)\u001b[0m  \u001b[0;31m# pylint: disable=not-callable\u001b[0m\u001b[0;34m\u001b[0m\u001b[0;34m\u001b[0m\u001b[0m\n\u001b[0m\u001b[1;32m    856\u001b[0m     \u001b[0;32melif\u001b[0m \u001b[0mself\u001b[0m\u001b[0;34m.\u001b[0m\u001b[0m_stateful_fn\u001b[0m \u001b[0;32mis\u001b[0m \u001b[0;32mnot\u001b[0m \u001b[0;32mNone\u001b[0m\u001b[0;34m:\u001b[0m\u001b[0;34m\u001b[0m\u001b[0;34m\u001b[0m\u001b[0m\n\u001b[1;32m    857\u001b[0m       \u001b[0;31m# Release the lock early so that multiple threads can perform the call\u001b[0m\u001b[0;34m\u001b[0m\u001b[0;34m\u001b[0m\u001b[0;34m\u001b[0m\u001b[0m\n",
            "\u001b[0;32m/usr/local/lib/python3.7/dist-packages/tensorflow/python/eager/function.py\u001b[0m in \u001b[0;36m__call__\u001b[0;34m(self, *args, **kwargs)\u001b[0m\n\u001b[1;32m   2941\u001b[0m        filtered_flat_args) = self._maybe_define_function(args, kwargs)\n\u001b[1;32m   2942\u001b[0m     return graph_function._call_flat(\n\u001b[0;32m-> 2943\u001b[0;31m         filtered_flat_args, captured_inputs=graph_function.captured_inputs)  # pylint: disable=protected-access\n\u001b[0m\u001b[1;32m   2944\u001b[0m \u001b[0;34m\u001b[0m\u001b[0m\n\u001b[1;32m   2945\u001b[0m   \u001b[0;34m@\u001b[0m\u001b[0mproperty\u001b[0m\u001b[0;34m\u001b[0m\u001b[0;34m\u001b[0m\u001b[0m\n",
            "\u001b[0;32m/usr/local/lib/python3.7/dist-packages/tensorflow/python/eager/function.py\u001b[0m in \u001b[0;36m_call_flat\u001b[0;34m(self, args, captured_inputs, cancellation_manager)\u001b[0m\n\u001b[1;32m   1917\u001b[0m       \u001b[0;31m# No tape is watching; skip to running the function.\u001b[0m\u001b[0;34m\u001b[0m\u001b[0;34m\u001b[0m\u001b[0;34m\u001b[0m\u001b[0m\n\u001b[1;32m   1918\u001b[0m       return self._build_call_outputs(self._inference_function.call(\n\u001b[0;32m-> 1919\u001b[0;31m           ctx, args, cancellation_manager=cancellation_manager))\n\u001b[0m\u001b[1;32m   1920\u001b[0m     forward_backward = self._select_forward_and_backward_functions(\n\u001b[1;32m   1921\u001b[0m         \u001b[0margs\u001b[0m\u001b[0;34m,\u001b[0m\u001b[0;34m\u001b[0m\u001b[0;34m\u001b[0m\u001b[0m\n",
            "\u001b[0;32m/usr/local/lib/python3.7/dist-packages/tensorflow/python/eager/function.py\u001b[0m in \u001b[0;36mcall\u001b[0;34m(self, ctx, args, cancellation_manager)\u001b[0m\n\u001b[1;32m    558\u001b[0m               \u001b[0minputs\u001b[0m\u001b[0;34m=\u001b[0m\u001b[0margs\u001b[0m\u001b[0;34m,\u001b[0m\u001b[0;34m\u001b[0m\u001b[0;34m\u001b[0m\u001b[0m\n\u001b[1;32m    559\u001b[0m               \u001b[0mattrs\u001b[0m\u001b[0;34m=\u001b[0m\u001b[0mattrs\u001b[0m\u001b[0;34m,\u001b[0m\u001b[0;34m\u001b[0m\u001b[0;34m\u001b[0m\u001b[0m\n\u001b[0;32m--> 560\u001b[0;31m               ctx=ctx)\n\u001b[0m\u001b[1;32m    561\u001b[0m         \u001b[0;32melse\u001b[0m\u001b[0;34m:\u001b[0m\u001b[0;34m\u001b[0m\u001b[0;34m\u001b[0m\u001b[0m\n\u001b[1;32m    562\u001b[0m           outputs = execute.execute_with_cancellation(\n",
            "\u001b[0;32m/usr/local/lib/python3.7/dist-packages/tensorflow/python/eager/execute.py\u001b[0m in \u001b[0;36mquick_execute\u001b[0;34m(op_name, num_outputs, inputs, attrs, ctx, name)\u001b[0m\n\u001b[1;32m     58\u001b[0m     \u001b[0mctx\u001b[0m\u001b[0;34m.\u001b[0m\u001b[0mensure_initialized\u001b[0m\u001b[0;34m(\u001b[0m\u001b[0;34m)\u001b[0m\u001b[0;34m\u001b[0m\u001b[0;34m\u001b[0m\u001b[0m\n\u001b[1;32m     59\u001b[0m     tensors = pywrap_tfe.TFE_Py_Execute(ctx._handle, device_name, op_name,\n\u001b[0;32m---> 60\u001b[0;31m                                         inputs, attrs, num_outputs)\n\u001b[0m\u001b[1;32m     61\u001b[0m   \u001b[0;32mexcept\u001b[0m \u001b[0mcore\u001b[0m\u001b[0;34m.\u001b[0m\u001b[0m_NotOkStatusException\u001b[0m \u001b[0;32mas\u001b[0m \u001b[0me\u001b[0m\u001b[0;34m:\u001b[0m\u001b[0;34m\u001b[0m\u001b[0;34m\u001b[0m\u001b[0m\n\u001b[1;32m     62\u001b[0m     \u001b[0;32mif\u001b[0m \u001b[0mname\u001b[0m \u001b[0;32mis\u001b[0m \u001b[0;32mnot\u001b[0m \u001b[0;32mNone\u001b[0m\u001b[0;34m:\u001b[0m\u001b[0;34m\u001b[0m\u001b[0;34m\u001b[0m\u001b[0m\n",
            "\u001b[0;31mKeyboardInterrupt\u001b[0m: "
          ]
        }
      ]
    },
    {
      "cell_type": "code",
      "metadata": {
        "id": "pZVkUrF2luNH"
      },
      "source": [
        ""
      ],
      "execution_count": 55,
      "outputs": []
    }
  ]
}