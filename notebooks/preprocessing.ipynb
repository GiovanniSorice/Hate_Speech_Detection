{
  "nbformat": 4,
  "nbformat_minor": 0,
  "metadata": {
    "colab": {
      "name": "preprocessing.ipynb",
      "provenance": [],
      "authorship_tag": "ABX9TyPjbWShMRaQ7O9Z7y2pjpm3",
      "include_colab_link": true
    },
    "kernelspec": {
      "name": "python3",
      "display_name": "Python 3"
    }
  },
  "cells": [
    {
      "cell_type": "markdown",
      "metadata": {
        "id": "view-in-github",
        "colab_type": "text"
      },
      "source": [
        "<a href=\"https://colab.research.google.com/github/GiovanniSorice/Hate_Speech_Detection/blob/main/notebooks/preprocessing.ipynb\" target=\"_parent\"><img src=\"https://colab.research.google.com/assets/colab-badge.svg\" alt=\"Open In Colab\"/></a>"
      ]
    },
    {
      "cell_type": "markdown",
      "metadata": {
        "id": "AKT-LzHeV8ox"
      },
      "source": [
        " ### Removing Tags "
      ]
    },
    {
      "cell_type": "code",
      "metadata": {
        "colab": {
          "base_uri": "https://localhost:8080/"
        },
        "id": "hv46YwYufRS0",
        "outputId": "9faa2543-85a1-439b-b351-975bbb036119"
      },
      "source": [
        "!pip install tokenizer\n",
        "!pip install ekphrasis\n",
        "!pip install wordninja\n",
        "!pip install emoji\n",
        "!pip install spacy_udpipe\n",
        "!pip install language_tool_python\n",
        "!pip install compound-word-splitter\n",
        "!pip install pyenchant\n",
        "!sudo apt-get install enchant\n",
        "!sudo apt-get install hunspell-it"
      ],
      "execution_count": 216,
      "outputs": [
        {
          "output_type": "stream",
          "text": [
            "Requirement already satisfied: tokenizer in /usr/local/lib/python3.6/dist-packages (2.4.0)\n",
            "Requirement already satisfied: ekphrasis in /usr/local/lib/python3.6/dist-packages (0.5.1)\n",
            "Requirement already satisfied: ujson in /usr/local/lib/python3.6/dist-packages (from ekphrasis) (4.0.2)\n",
            "Requirement already satisfied: tqdm in /usr/local/lib/python3.6/dist-packages (from ekphrasis) (4.41.1)\n",
            "Requirement already satisfied: matplotlib in /usr/local/lib/python3.6/dist-packages (from ekphrasis) (3.2.2)\n",
            "Requirement already satisfied: colorama in /usr/local/lib/python3.6/dist-packages (from ekphrasis) (0.4.4)\n",
            "Requirement already satisfied: ftfy in /usr/local/lib/python3.6/dist-packages (from ekphrasis) (5.9)\n",
            "Requirement already satisfied: nltk in /usr/local/lib/python3.6/dist-packages (from ekphrasis) (3.2.5)\n",
            "Requirement already satisfied: termcolor in /usr/local/lib/python3.6/dist-packages (from ekphrasis) (1.1.0)\n",
            "Requirement already satisfied: numpy in /usr/local/lib/python3.6/dist-packages (from ekphrasis) (1.19.5)\n",
            "Requirement already satisfied: pyparsing!=2.0.4,!=2.1.2,!=2.1.6,>=2.0.1 in /usr/local/lib/python3.6/dist-packages (from matplotlib->ekphrasis) (2.4.7)\n",
            "Requirement already satisfied: python-dateutil>=2.1 in /usr/local/lib/python3.6/dist-packages (from matplotlib->ekphrasis) (2.8.1)\n",
            "Requirement already satisfied: kiwisolver>=1.0.1 in /usr/local/lib/python3.6/dist-packages (from matplotlib->ekphrasis) (1.3.1)\n",
            "Requirement already satisfied: cycler>=0.10 in /usr/local/lib/python3.6/dist-packages (from matplotlib->ekphrasis) (0.10.0)\n",
            "Requirement already satisfied: wcwidth in /usr/local/lib/python3.6/dist-packages (from ftfy->ekphrasis) (0.2.5)\n",
            "Requirement already satisfied: six in /usr/local/lib/python3.6/dist-packages (from nltk->ekphrasis) (1.15.0)\n",
            "Requirement already satisfied: wordninja in /usr/local/lib/python3.6/dist-packages (2.0.0)\n",
            "Requirement already satisfied: emoji in /usr/local/lib/python3.6/dist-packages (1.2.0)\n",
            "Requirement already satisfied: spacy_udpipe in /usr/local/lib/python3.6/dist-packages (0.3.2)\n",
            "Requirement already satisfied: ufal.udpipe>=1.2.0 in /usr/local/lib/python3.6/dist-packages (from spacy_udpipe) (1.2.0.3)\n",
            "Requirement already satisfied: spacy<3.0.0,>=2.1.0 in /usr/local/lib/python3.6/dist-packages (from spacy_udpipe) (2.2.4)\n",
            "Requirement already satisfied: catalogue<1.1.0,>=0.0.7 in /usr/local/lib/python3.6/dist-packages (from spacy<3.0.0,>=2.1.0->spacy_udpipe) (1.0.0)\n",
            "Requirement already satisfied: setuptools in /usr/local/lib/python3.6/dist-packages (from spacy<3.0.0,>=2.1.0->spacy_udpipe) (53.0.0)\n",
            "Requirement already satisfied: plac<1.2.0,>=0.9.6 in /usr/local/lib/python3.6/dist-packages (from spacy<3.0.0,>=2.1.0->spacy_udpipe) (1.1.3)\n",
            "Requirement already satisfied: requests<3.0.0,>=2.13.0 in /usr/local/lib/python3.6/dist-packages (from spacy<3.0.0,>=2.1.0->spacy_udpipe) (2.23.0)\n",
            "Requirement already satisfied: srsly<1.1.0,>=1.0.2 in /usr/local/lib/python3.6/dist-packages (from spacy<3.0.0,>=2.1.0->spacy_udpipe) (1.0.5)\n",
            "Requirement already satisfied: blis<0.5.0,>=0.4.0 in /usr/local/lib/python3.6/dist-packages (from spacy<3.0.0,>=2.1.0->spacy_udpipe) (0.4.1)\n",
            "Requirement already satisfied: preshed<3.1.0,>=3.0.2 in /usr/local/lib/python3.6/dist-packages (from spacy<3.0.0,>=2.1.0->spacy_udpipe) (3.0.5)\n",
            "Requirement already satisfied: tqdm<5.0.0,>=4.38.0 in /usr/local/lib/python3.6/dist-packages (from spacy<3.0.0,>=2.1.0->spacy_udpipe) (4.41.1)\n",
            "Requirement already satisfied: murmurhash<1.1.0,>=0.28.0 in /usr/local/lib/python3.6/dist-packages (from spacy<3.0.0,>=2.1.0->spacy_udpipe) (1.0.5)\n",
            "Requirement already satisfied: wasabi<1.1.0,>=0.4.0 in /usr/local/lib/python3.6/dist-packages (from spacy<3.0.0,>=2.1.0->spacy_udpipe) (0.8.2)\n",
            "Requirement already satisfied: cymem<2.1.0,>=2.0.2 in /usr/local/lib/python3.6/dist-packages (from spacy<3.0.0,>=2.1.0->spacy_udpipe) (2.0.5)\n",
            "Requirement already satisfied: thinc==7.4.0 in /usr/local/lib/python3.6/dist-packages (from spacy<3.0.0,>=2.1.0->spacy_udpipe) (7.4.0)\n",
            "Requirement already satisfied: numpy>=1.15.0 in /usr/local/lib/python3.6/dist-packages (from spacy<3.0.0,>=2.1.0->spacy_udpipe) (1.19.5)\n",
            "Requirement already satisfied: importlib-metadata>=0.20; python_version < \"3.8\" in /usr/local/lib/python3.6/dist-packages (from catalogue<1.1.0,>=0.0.7->spacy<3.0.0,>=2.1.0->spacy_udpipe) (3.4.0)\n",
            "Requirement already satisfied: idna<3,>=2.5 in /usr/local/lib/python3.6/dist-packages (from requests<3.0.0,>=2.13.0->spacy<3.0.0,>=2.1.0->spacy_udpipe) (2.10)\n",
            "Requirement already satisfied: certifi>=2017.4.17 in /usr/local/lib/python3.6/dist-packages (from requests<3.0.0,>=2.13.0->spacy<3.0.0,>=2.1.0->spacy_udpipe) (2020.12.5)\n",
            "Requirement already satisfied: urllib3!=1.25.0,!=1.25.1,<1.26,>=1.21.1 in /usr/local/lib/python3.6/dist-packages (from requests<3.0.0,>=2.13.0->spacy<3.0.0,>=2.1.0->spacy_udpipe) (1.24.3)\n",
            "Requirement already satisfied: chardet<4,>=3.0.2 in /usr/local/lib/python3.6/dist-packages (from requests<3.0.0,>=2.13.0->spacy<3.0.0,>=2.1.0->spacy_udpipe) (3.0.4)\n",
            "Requirement already satisfied: typing-extensions>=3.6.4; python_version < \"3.8\" in /usr/local/lib/python3.6/dist-packages (from importlib-metadata>=0.20; python_version < \"3.8\"->catalogue<1.1.0,>=0.0.7->spacy<3.0.0,>=2.1.0->spacy_udpipe) (3.7.4.3)\n",
            "Requirement already satisfied: zipp>=0.5 in /usr/local/lib/python3.6/dist-packages (from importlib-metadata>=0.20; python_version < \"3.8\"->catalogue<1.1.0,>=0.0.7->spacy<3.0.0,>=2.1.0->spacy_udpipe) (3.4.0)\n",
            "Requirement already satisfied: language_tool_python in /usr/local/lib/python3.6/dist-packages (2.5.2)\n",
            "Requirement already satisfied: tqdm in /usr/local/lib/python3.6/dist-packages (from language_tool_python) (4.41.1)\n",
            "Requirement already satisfied: requests in /usr/local/lib/python3.6/dist-packages (from language_tool_python) (2.23.0)\n",
            "Requirement already satisfied: certifi>=2017.4.17 in /usr/local/lib/python3.6/dist-packages (from requests->language_tool_python) (2020.12.5)\n",
            "Requirement already satisfied: urllib3!=1.25.0,!=1.25.1,<1.26,>=1.21.1 in /usr/local/lib/python3.6/dist-packages (from requests->language_tool_python) (1.24.3)\n",
            "Requirement already satisfied: idna<3,>=2.5 in /usr/local/lib/python3.6/dist-packages (from requests->language_tool_python) (2.10)\n",
            "Requirement already satisfied: chardet<4,>=3.0.2 in /usr/local/lib/python3.6/dist-packages (from requests->language_tool_python) (3.0.4)\n",
            "Requirement already satisfied: compound-word-splitter in /usr/local/lib/python3.6/dist-packages (0.4)\n",
            "Requirement already satisfied: pyenchant in /usr/local/lib/python3.6/dist-packages (3.2.0)\n",
            "Reading package lists... Done\n",
            "Building dependency tree       \n",
            "Reading state information... Done\n",
            "enchant is already the newest version (1.6.0-11.1).\n",
            "0 upgraded, 0 newly installed, 0 to remove and 17 not upgraded.\n",
            "Reading package lists... Done\n",
            "Building dependency tree       \n",
            "Reading state information... Done\n",
            "hunspell-it is already the newest version (1:6.0.3-3).\n",
            "0 upgraded, 0 newly installed, 0 to remove and 17 not upgraded.\n"
          ],
          "name": "stdout"
        }
      ]
    },
    {
      "cell_type": "code",
      "metadata": {
        "id": "PRjY391AGd-f"
      },
      "source": [
        "import pandas as pd\n",
        "import csv\n",
        "import nltk\n",
        "import re\n",
        "import matplotlib.pyplot as plt\n",
        "from nltk.tokenize import TweetTokenizer\n",
        "from tokenizer import *\n",
        "from nltk.corpus import stopwords\n",
        "\n",
        "from ekphrasis.classes.preprocessor import TextPreProcessor\n",
        "from ekphrasis.classes.tokenizer import SocialTokenizer\n",
        "from ekphrasis.dicts.emoticons import emoticons\n",
        "\n",
        "import wordninja\n",
        "\n",
        "from nltk.stem import SnowballStemmer\n",
        "\n",
        "import ast\n",
        "\n",
        "import emoji\n",
        "import unicodedata\n",
        "\n",
        "import gzip\n",
        "\n",
        "import spacy_udpipe\n",
        "import language_tool_python\n",
        "\n",
        "import splitter\n",
        "import enchant\n",
        "from itertools import groupby\n",
        "import string\n",
        "\n",
        "import sys\n",
        "import os\n"
      ],
      "execution_count": 474,
      "outputs": []
    },
    {
      "cell_type": "code",
      "metadata": {
        "id": "qQjATsWGdpJW"
      },
      "source": [
        "# directory name:\n",
        "input_dir = '/content/drive/My Drive/HLT/dataset_training/'\n",
        "output_dir = '/content/drive/My Drive/HLT/clean_dataset_training/'\n",
        "\n",
        "# Spec\n",
        "pd.set_option(\"display.max_colwidth\", None)"
      ],
      "execution_count": 475,
      "outputs": []
    },
    {
      "cell_type": "code",
      "metadata": {
        "colab": {
          "base_uri": "https://localhost:8080/"
        },
        "id": "LhfNkQOddzQ9",
        "outputId": "80f820d1-7deb-4488-92a4-e34f8d8a2d06"
      },
      "source": [
        "from google.colab import drive\n",
        "# This will prompt for authorization.\n",
        "drive.mount('/content/drive')"
      ],
      "execution_count": 476,
      "outputs": [
        {
          "output_type": "stream",
          "text": [
            "Drive already mounted at /content/drive; to attempt to forcibly remount, call drive.mount(\"/content/drive\", force_remount=True).\n"
          ],
          "name": "stdout"
        }
      ]
    },
    {
      "cell_type": "code",
      "metadata": {
        "id": "YeSkmao9eW02"
      },
      "source": [
        "#tsv_tweets_file = open(\"/content/drive/My Drive/HLT/dataset/haspeede2_reference_taskAB-tweets.tsv\")\n",
        "#tsv_news_file = open(\"/content/drive/My Drive/HLT/dataset/haspeede2_reference_taskAB-news.tsv\")\n",
        "tsv_file = open(input_dir+\"haspeede2_dev_taskAB.tsv\")\n",
        "\n",
        "#dataset_tweets_raw = pd.read_csv(tsv_tweets_file,sep='\\t')\n",
        "#dataset_tweets_raw.rename(columns={\"text \": \"text\"}, inplace=True)\n",
        "#dataset_news_raw = pd.read_csv(tsv_news_file,sep='\\t')\n",
        "#dataset_news_raw.rename(columns={\"text \": \"text\"}, inplace=True)\n",
        "dataset_raw = pd.read_csv(tsv_file,sep='\\t')\n",
        "dataset_raw.rename(columns={\"text \": \"text\"}, inplace=True)"
      ],
      "execution_count": 477,
      "outputs": []
    },
    {
      "cell_type": "markdown",
      "metadata": {
        "id": "QPBGTK1PiGEx"
      },
      "source": [
        "# Preprocessing phase\n",
        "Following the \"Preprocessing\" section of https://books.openedition.org/aaccademia/4832?lang=it#tocfrom1n4 we will perform:\n",
        "*   List item\n",
        "*   List item\n",
        "\n"
      ]
    },
    {
      "cell_type": "markdown",
      "metadata": {
        "id": "vTSJjfRgjZ8s"
      },
      "source": [
        "### Extraction of the first feature: length of the comment"
      ]
    },
    {
      "cell_type": "code",
      "metadata": {
        "id": "3hDGiCnLhlHB"
      },
      "source": [
        "def comment_length(text):\n",
        "    return len(text)"
      ],
      "execution_count": 478,
      "outputs": []
    },
    {
      "cell_type": "code",
      "metadata": {
        "id": "eF0sQvOrjqDN"
      },
      "source": [
        "dataset_raw['text_length'] = dataset_raw['text'].apply(comment_length)"
      ],
      "execution_count": 479,
      "outputs": []
    },
    {
      "cell_type": "markdown",
      "metadata": {
        "id": "zTIhhE0Jjzqq"
      },
      "source": [
        "Extraction of the second feature: percentage of words written in CAPS-LOCK inside the comment."
      ]
    },
    {
      "cell_type": "code",
      "metadata": {
        "id": "b8G1vCSnj4ML"
      },
      "source": [
        "def caps_lock_words(text):\n",
        "    words = text.split()\n",
        "    count_caps_lock = 0\n",
        "    number_of_words = len(words)\n",
        "    \n",
        "    for word in words:\n",
        "        if word.isupper() == True:\n",
        "            count_caps_lock = count_caps_lock + 1\n",
        "            \n",
        "    return ((count_caps_lock*100)//number_of_words)"
      ],
      "execution_count": 480,
      "outputs": []
    },
    {
      "cell_type": "code",
      "metadata": {
        "id": "EeH2idQEj66P"
      },
      "source": [
        "dataset_raw['#C-L words'] = dataset_raw['text'].apply(caps_lock_words)"
      ],
      "execution_count": 481,
      "outputs": []
    },
    {
      "cell_type": "markdown",
      "metadata": {
        "id": "26m0-vh5JEOB"
      },
      "source": [
        " ### Removing Tags "
      ]
    },
    {
      "cell_type": "code",
      "metadata": {
        "id": "UZTSDBK4JNIl"
      },
      "source": [
        "def clean_tag(text):\n",
        "    return re.sub(\n",
        "        r'@user', ' ', text)"
      ],
      "execution_count": 482,
      "outputs": []
    },
    {
      "cell_type": "code",
      "metadata": {
        "id": "22IGkgdXJPRT"
      },
      "source": [
        "dataset_raw['text'] = dataset_raw['text'].apply(clean_tag)"
      ],
      "execution_count": 483,
      "outputs": []
    },
    {
      "cell_type": "markdown",
      "metadata": {
        "id": "YpIlGt9OI5je"
      },
      "source": [
        "### Replace the characters ‘&’, ‘@’ respectively in the letters ‘e’, ‘a’"
      ]
    },
    {
      "cell_type": "code",
      "metadata": {
        "id": "5xZ02VkZJUX5"
      },
      "source": [
        "def replace_e_a(text):\n",
        "    text = re.sub(r'&', 'e', text)\n",
        "    return re.sub(r'@', 'a', text)"
      ],
      "execution_count": 485,
      "outputs": []
    },
    {
      "cell_type": "code",
      "metadata": {
        "id": "vURkcOrHJgiQ"
      },
      "source": [
        "dataset_raw['text'] = dataset_raw['text'].apply(replace_e_a)"
      ],
      "execution_count": 486,
      "outputs": []
    },
    {
      "cell_type": "markdown",
      "metadata": {
        "id": "I9T6so5NJ21c"
      },
      "source": [
        "### Conversion of disguised bad words"
      ]
    },
    {
      "cell_type": "code",
      "metadata": {
        "id": "joAwdJKBJ9Vw"
      },
      "source": [
        "def clean_disguised_bad_words(text):\n",
        "    text = \" \" + text + \" \"\n",
        "    text = re.sub(r' c[.x*@%#$^]+i ', ' coglioni ', text)\n",
        "    text = re.sub(r' c[.x*@%#$^]+e ', ' coglione ', text)\n",
        "    text = re.sub(r' c[.x*@%#$^]+o ', ' cazzo ', text) \n",
        "    text = re.sub(r' ca[.x*@%#$^]+ro ', ' cazzaro ', text) \n",
        "    text = re.sub(r' c[.x*@%#$^]+i ', ' cazzi ', text) \n",
        "    text = re.sub(r' m[.x*@%#$^]+a ', ' merda ', text) \n",
        "    text = re.sub(r' m[.x*@%#$^]+e ', ' merde ', text) \n",
        "    text = re.sub(r' c[.x*@%#$^]+ulo ', ' culo ', text) \n",
        "    text = re.sub(r' p[.x*@%#$^]+a ', ' puttana ', text)\n",
        "    text = re.sub(r' p[.x*@%#$^]+e ', ' puttane ', text)\n",
        "    text = re.sub(r' t[.x*@%#$^]+a ', ' troia ', text)\n",
        "    text = re.sub(r' t[.x*@%#$^]+e ', ' troie ', text)\n",
        "    text = re.sub(r' s[.x*@%#$^]+o ', ' stronzo ', text)\n",
        "    text = re.sub(r' s[.x*@%#$^]+i ', ' stronzi ', text)\n",
        "    return text"
      ],
      "execution_count": 487,
      "outputs": []
    },
    {
      "cell_type": "code",
      "metadata": {
        "id": "EjzGx0uFJ9y5"
      },
      "source": [
        "dataset_raw['text'] = dataset_raw['text'].apply(clean_disguised_bad_words)"
      ],
      "execution_count": 488,
      "outputs": []
    },
    {
      "cell_type": "markdown",
      "metadata": {
        "id": "xzeCUAIEKX5x"
      },
      "source": [
        "### Hashtag splitting and saving"
      ]
    },
    {
      "cell_type": "code",
      "metadata": {
        "id": "iy7M8Rw3VltO"
      },
      "source": [
        "def find_hashtags(text):\n",
        "    result = re.findall(r'#\\S+', text)\n",
        "    if result:\n",
        "        return result\n",
        "    else:\n",
        "        return None"
      ],
      "execution_count": 489,
      "outputs": []
    },
    {
      "cell_type": "code",
      "metadata": {
        "id": "_mtFua9FVlCk"
      },
      "source": [
        "dataset_raw['hashtags'] = dataset_raw['text'].apply(find_hashtags)"
      ],
      "execution_count": 490,
      "outputs": []
    },
    {
      "cell_type": "code",
      "metadata": {
        "id": "QHHr66WzQ7mJ"
      },
      "source": [
        "def split_hashtags(text):\n",
        "    \n",
        "    text = ' ' + text + ' '\n",
        "    result = re.findall(r'#\\S+', text)\n",
        "    \n",
        "    for word in result:\n",
        "        new_word = \" \".join(splitter.split(word[1:].lower(), 'it_IT'))\n",
        "        if len(new_word)==0:\n",
        "            new_word =  word[1:]\n",
        "                  \n",
        "        text = text.replace(word, new_word)\n",
        "        \n",
        "    return text"
      ],
      "execution_count": 491,
      "outputs": []
    },
    {
      "cell_type": "code",
      "metadata": {
        "id": "JaNR6YmYRFlQ"
      },
      "source": [
        "dataset_raw['text'] = dataset_raw['text'].apply(split_hashtags)"
      ],
      "execution_count": 492,
      "outputs": []
    },
    {
      "cell_type": "markdown",
      "metadata": {
        "id": "qZdFjV6zWCJ3"
      },
      "source": [
        " ### Removing URL "
      ]
    },
    {
      "cell_type": "code",
      "metadata": {
        "id": "lMMZC6EaWB92"
      },
      "source": [
        "def clean_URL(text):\n",
        "    return re.sub(r'URL', ' ', text)"
      ],
      "execution_count": 493,
      "outputs": []
    },
    {
      "cell_type": "code",
      "metadata": {
        "id": "GInlm-4NWByp"
      },
      "source": [
        "dataset_raw['text'] = dataset_raw['text'].apply(clean_URL)"
      ],
      "execution_count": 494,
      "outputs": []
    },
    {
      "cell_type": "markdown",
      "metadata": {
        "id": "_vw02ux1d8xr"
      },
      "source": [
        "### Extraction of the fourth feature: number of ‘?’ or ‘!’ inside the comment.\n"
      ]
    },
    {
      "cell_type": "code",
      "metadata": {
        "id": "uAilG6e9d_Kv"
      },
      "source": [
        "def esclamations_and_questions(text):\n",
        "    return text.count('!') + text.count('?')"
      ],
      "execution_count": 495,
      "outputs": []
    },
    {
      "cell_type": "code",
      "metadata": {
        "id": "G8aPhymFd_W4"
      },
      "source": [
        "dataset_raw['#?!'] = dataset_raw['text'].apply(esclamations_and_questions)"
      ],
      "execution_count": 496,
      "outputs": []
    },
    {
      "cell_type": "markdown",
      "metadata": {
        "id": "4ODCBvIweoBT"
      },
      "source": [
        "### Extraction of the fifth feature: number of ‘.’ or ‘,’ inside the comment.\n"
      ]
    },
    {
      "cell_type": "code",
      "metadata": {
        "id": "v4cXR155eoBV"
      },
      "source": [
        "def esclamations_and_questions(text):\n",
        "    return text.count(',') + text.count('.')"
      ],
      "execution_count": 497,
      "outputs": []
    },
    {
      "cell_type": "code",
      "metadata": {
        "id": "3o2NoyA-eoBW"
      },
      "source": [
        "dataset_raw['#.,'] = dataset_raw['text'].apply(esclamations_and_questions)"
      ],
      "execution_count": 498,
      "outputs": []
    },
    {
      "cell_type": "markdown",
      "metadata": {
        "id": "q2R9v14KfNvS"
      },
      "source": [
        "### Punctuation removal"
      ]
    },
    {
      "cell_type": "code",
      "metadata": {
        "id": "jFOfbQApfQq4"
      },
      "source": [
        "def strip_punctuation(text):\n",
        "    return text.translate(str.maketrans('', '', string.punctuation))"
      ],
      "execution_count": 500,
      "outputs": []
    },
    {
      "cell_type": "code",
      "metadata": {
        "id": "4bJruDmPfQ4M"
      },
      "source": [
        "dataset_raw['text'] = dataset_raw['text'].apply(strip_punctuation)"
      ],
      "execution_count": 501,
      "outputs": []
    },
    {
      "cell_type": "markdown",
      "metadata": {
        "id": "m0jld5EAWV11"
      },
      "source": [
        "### Removal of nearby equal vowels, removal of nearby equal consonants if they are more than 2"
      ]
    },
    {
      "cell_type": "code",
      "metadata": {
        "id": "At0CUlq9akCI"
      },
      "source": [
        "correct_words_vowels = ['sciiti,',\n",
        " 'welcomerefugees',\n",
        " 'livetweet',\n",
        " 'desiree',\n",
        " 'canaan',\n",
        " 'tweet.',\n",
        " 'weekend',\n",
        " 'romafeyenoord',\n",
        " 'ebree,',\n",
        " 'greencard',\n",
        " 'creerà',\n",
        " 'cooperative.',\n",
        " 'moschee,',\n",
        " 'cooperanti',\n",
        " 'streetart',\n",
        " 'khalidmasood',\n",
        " 'tweet',\n",
        " 'woolfe',\n",
        " 'cooperazione',\n",
        " 'coop',\n",
        " 'seehofer',\n",
        " 'speech',\n",
        " 'coffee',\n",
        " 'scooter',\n",
        " 'street',\n",
        " 'veemenza',\n",
        " 'moschee.',\n",
        " 'maalox.',\n",
        " 'book',\n",
        " 'tweet',\n",
        " 'facebook:',\n",
        " 'sociial,',\n",
        " 'coop,',\n",
        " 'canaaniti.',\n",
        " 'europee,',\n",
        " 'cooperative',\n",
        " 'google',\n",
        " 'creeranno',\n",
        " 'mediterranee',\n",
        " 'cooperazione',\n",
        " 'cooperativa',\n",
        " '“boom”',\n",
        " 'refugees',\n",
        " 'moonlight',\n",
        " 'imaam',\n",
        " 'shooting',\n",
        " 'sciiti',\n",
        " 'sunniti',\n",
        " 'book',\n",
        " 'atee.',\n",
        " 'looking',\n",
        " 'week',\n",
        " 'ayaan',\n",
        " 'temporanee.',\n",
        " 'idee.',\n",
        " 'sibiliini',\n",
        " 'food',\n",
        " 'refugees',\n",
        " 'retweeted',\n",
        " 'boom',\n",
        " 'keep',\n",
        " 'vodoo',\n",
        " 'hooligans',\n",
        " 'ebree',\n",
        " 'refugees',\n",
        " 'speed',\n",
        " 'bloomberg',\n",
        " 'riina',\n",
        " 'hatespeech',\n",
        " 'google',\n",
        " 'masood',\n",
        " 'linee.',\n",
        " 'boom']"
      ],
      "execution_count": 503,
      "outputs": []
    },
    {
      "cell_type": "code",
      "metadata": {
        "id": "OFnrr_UqWWQ-"
      },
      "source": [
        "def delete_duplicate_vowels_and_redundant_consonant (text):\n",
        "    parole = text.split()\n",
        "    stringa = \"\"\n",
        "    for a in parole:\n",
        "        parola = a\n",
        "        a = [list(g) for k, g in groupby(a)]    \n",
        "        vocali = ['a','e','i','o','u','y']\n",
        "        \n",
        "        for idx,val in enumerate(a):\n",
        "            if idx == 0:\n",
        "                stringa += a[idx][0] \n",
        "            elif idx == len(a)-1:\n",
        "                stringa += a[idx][0]\n",
        "            elif a[idx][0] in vocali and (parola.lower() not in correct_words_vowels):\n",
        "                stringa += a[idx][0]\n",
        "            elif len(a[idx]) == 1:\n",
        "                stringa += a[idx][0]\n",
        "            elif len (a[idx]) >= 2:\n",
        "                stringa += a[idx][0]\n",
        "                stringa += a[idx][1]\n",
        "        stringa =  stringa + \" \"\n",
        "        \n",
        "    return(stringa)  "
      ],
      "execution_count": 504,
      "outputs": []
    },
    {
      "cell_type": "code",
      "metadata": {
        "id": "ol8qT-rhWWM6"
      },
      "source": [
        "dataset_raw['text'] = dataset_raw['text'].apply(delete_duplicate_vowels_and_redundant_consonant)"
      ],
      "execution_count": 505,
      "outputs": []
    },
    {
      "cell_type": "markdown",
      "metadata": {
        "id": "s06b9uii4eN-"
      },
      "source": [
        "### Translation of emoticons"
      ]
    },
    {
      "cell_type": "code",
      "metadata": {
        "id": "e3ctOpMF79JW"
      },
      "source": [
        "def translate_emoticon(text):\n",
        "    text_result = emoji.demojize(text, language='it')\n",
        "    text_result=re.sub(r':', ' ', text_result)\n",
        "    return text_result"
      ],
      "execution_count": 507,
      "outputs": []
    },
    {
      "cell_type": "code",
      "metadata": {
        "id": "VbR6rg3V7-Wt"
      },
      "source": [
        "dataset_raw['text'] = dataset_raw['text'].apply(translate_emoticon)"
      ],
      "execution_count": 508,
      "outputs": []
    },
    {
      "cell_type": "code",
      "metadata": {
        "id": "Bi5I3Y606DVQ"
      },
      "source": [
        "emoticons_text = {\n",
        "    '<kiss>': 'bacio',\n",
        "    '<happy>': 'felice',\n",
        "    '<laugh>': 'risata',\n",
        "    '<sad>': 'triste',\n",
        "    '<surprise>': 'sorpreso',\n",
        "    '<wink>': 'occhiolino',\n",
        "    '<tong>': 'faccia con lingua',\n",
        "    '<annoyed>': 'annoiato',\n",
        "    '<seallips>': 'labbra sigillate',\n",
        "    '<angel>': 'angelo',\n",
        "    '<devil>': 'diavolo',\n",
        "    '<highfive>' : 'batti il cinque',\n",
        "    '<heart>': 'cuore',\n",
        "    '<user>' : 'persona',\n",
        "}"
      ],
      "execution_count": 510,
      "outputs": []
    },
    {
      "cell_type": "code",
      "metadata": {
        "id": "hWgDe3ca6EC6"
      },
      "source": [
        "def clean_emoticon_text(text):\n",
        "    text_words = text.split()\n",
        "    new_words  = [emoticons_text.get(ele, ele) for ele in text_words]\n",
        "    return ' '.join(new_words)"
      ],
      "execution_count": 511,
      "outputs": []
    },
    {
      "cell_type": "code",
      "metadata": {
        "id": "xRaxAUC86DJQ"
      },
      "source": [
        "dataset_raw['text'] = dataset_raw['text'].apply(clean_emoticon_text)"
      ],
      "execution_count": 512,
      "outputs": []
    },
    {
      "cell_type": "markdown",
      "metadata": {
        "id": "QM8zUkgjA_Xf"
      },
      "source": [
        "### Replacement of the abbreviations with the respective words"
      ]
    },
    {
      "cell_type": "code",
      "metadata": {
        "id": "FJEKyYL-BMhk"
      },
      "source": [
        "abbr_word = {'cmq':'comunque', 'gov':'governatori', 'fb':'facebook', 'tw':'twitter', 'juve':'juventus', 'ing':'ingegnere', \n",
        "             'sx':'sinistra', 'qdo':'quando', 'rep':'repubblica', 'grz':'grazie', 'ita':'italia', 'mln':'milioni', \n",
        "             'mld':'miliardi', 'pke':'perche', 'anke':'anche', 'cm':'come', 'dlla':'della', 'dlle':'delle', 'qst':'questa',\n",
        "             'ke':'che', 'nn':'non', 'sn':'sono', 'cn':'con', 'xk':'perche', 'xke':'perche', 'art':'articolo',\n",
        "             'tv':'televisore', '€':'euro', 'xché':'perché', 'xké':'perché', 'pkè':'perché'}"
      ],
      "execution_count": 468,
      "outputs": []
    },
    {
      "cell_type": "code",
      "metadata": {
        "id": "KNUJsA9xBMsL"
      },
      "source": [
        "def replace_abbreviation(text):\n",
        "    text_words = text.split()\n",
        "    new_text = \"\"\n",
        "    for token in text_words:\n",
        "      new_text  += abbr_word.get(token, token) +\" \"\n",
        "    \n",
        "    return new_text.strip()"
      ],
      "execution_count": 527,
      "outputs": []
    },
    {
      "cell_type": "code",
      "metadata": {
        "id": "hRRSxGnEBRSe"
      },
      "source": [
        "dataset_raw['text'] = dataset_raw['text'].apply(replace_abbreviation)"
      ],
      "execution_count": 531,
      "outputs": []
    },
    {
      "cell_type": "markdown",
      "metadata": {
        "id": "rcoE_FIQBZDO"
      },
      "source": [
        "### Removal of the laughs"
      ]
    },
    {
      "cell_type": "code",
      "metadata": {
        "id": "yTfCPOK3B9pL"
      },
      "source": [
        "laughs = ['ah', 'eh', 'he' 'ih', 'hi'] #non elimina ahahahah, ma solo ah\n",
        "vowels = ['a', 'e', 'i', 'o', 'u']\n",
        "\n",
        "def clean_laughs(text):\n",
        "    #s = \"ahahahah ho fame io, eh eh\" -> \" ho fame io,\"\n",
        "    text_words = text.split()\n",
        "    new_words  = [word for word in text_words if word not in laughs]\n",
        "    \n",
        "    new_text = ' '.join(new_words)\n",
        "    \n",
        "    for i in new_words:\n",
        "        for k in vowels:\n",
        "            if ('h' in i) and (len(i) >= 4):\n",
        "                if (len(i) - 2) <= (i.count(k) + i.count('h')):\n",
        "                    new_text = new_text.replace(i, '')\n",
        "    \n",
        "    return new_text"
      ],
      "execution_count": 532,
      "outputs": []
    },
    {
      "cell_type": "code",
      "metadata": {
        "id": "PEMhN6UCB90s"
      },
      "source": [
        "dataset_raw['text'] = dataset_raw['text'].apply(clean_laughs)"
      ],
      "execution_count": 533,
      "outputs": []
    },
    {
      "cell_type": "markdown",
      "metadata": {
        "id": "WPBk_1WFFbVv"
      },
      "source": [
        "### Tokenization"
      ]
    },
    {
      "cell_type": "code",
      "metadata": {
        "id": "J7TesaZ_Fcyx"
      },
      "source": [
        "def tokenization(text):\n",
        "    tknzr=SocialTokenizer(lowercase=False)\n",
        "    return tknzr.tokenize(text)"
      ],
      "execution_count": 535,
      "outputs": []
    },
    {
      "cell_type": "code",
      "metadata": {
        "id": "_BcgiN-cFf25"
      },
      "source": [
        "dataset_raw['tokens'] = dataset_raw['text'].apply(tokenization)"
      ],
      "execution_count": 536,
      "outputs": []
    },
    {
      "cell_type": "code",
      "metadata": {
        "colab": {
          "base_uri": "https://localhost:8080/",
          "height": 1000
        },
        "id": "g_W0gmIpkFKB",
        "outputId": "7b4a2df7-f876-4cd6-a982-1e5de81a30f9"
      },
      "source": [
        "dataset_raw.head(30)"
      ],
      "execution_count": 537,
      "outputs": [
        {
          "output_type": "execute_result",
          "data": {
            "text/html": [
              "<div>\n",
              "<style scoped>\n",
              "    .dataframe tbody tr th:only-of-type {\n",
              "        vertical-align: middle;\n",
              "    }\n",
              "\n",
              "    .dataframe tbody tr th {\n",
              "        vertical-align: top;\n",
              "    }\n",
              "\n",
              "    .dataframe thead th {\n",
              "        text-align: right;\n",
              "    }\n",
              "</style>\n",
              "<table border=\"1\" class=\"dataframe\">\n",
              "  <thead>\n",
              "    <tr style=\"text-align: right;\">\n",
              "      <th></th>\n",
              "      <th>id</th>\n",
              "      <th>text</th>\n",
              "      <th>hs</th>\n",
              "      <th>stereotype</th>\n",
              "      <th>text_length</th>\n",
              "      <th>#C-L words</th>\n",
              "      <th>hashtags</th>\n",
              "      <th>#?!</th>\n",
              "      <th>#.,</th>\n",
              "      <th>tokens</th>\n",
              "    </tr>\n",
              "  </thead>\n",
              "  <tbody>\n",
              "    <tr>\n",
              "      <th>0</th>\n",
              "      <td>2066</td>\n",
              "      <td>È terrorismo anche questo per mettere in uno stato di soggezione le persone e renderle innocue mentre qualcuno</td>\n",
              "      <td>0</td>\n",
              "      <td>0</td>\n",
              "      <td>120</td>\n",
              "      <td>10</td>\n",
              "      <td>None</td>\n",
              "      <td>0</td>\n",
              "      <td>5</td>\n",
              "      <td>[È, terrorismo, anche, questo, per, mettere, in, uno, stato, di, soggezione, le, persone, e, renderle, innocue, mentre, qualcuno]</td>\n",
              "    </tr>\n",
              "    <tr>\n",
              "      <th>1</th>\n",
              "      <td>2045</td>\n",
              "      <td>infatti finché ci hanno guadagnato con i campi rom tutto era ok con alemanno ipocriti</td>\n",
              "      <td>0</td>\n",
              "      <td>0</td>\n",
              "      <td>101</td>\n",
              "      <td>0</td>\n",
              "      <td>[#rom, #Alemanno, #Ipocriti]</td>\n",
              "      <td>0</td>\n",
              "      <td>0</td>\n",
              "      <td>[infatti, finché, ci, hanno, guadagnato, con, i, campi, rom, tutto, era, ok, con, alemanno, ipocriti]</td>\n",
              "    </tr>\n",
              "    <tr>\n",
              "      <th>2</th>\n",
              "      <td>61</td>\n",
              "      <td>Corriere Tangenti Mafia Capitale dimenticataMazzette su buche e campi rom rom a</td>\n",
              "      <td>0</td>\n",
              "      <td>0</td>\n",
              "      <td>86</td>\n",
              "      <td>8</td>\n",
              "      <td>[#roma]</td>\n",
              "      <td>0</td>\n",
              "      <td>1</td>\n",
              "      <td>[Corriere, Tangenti, Mafia, Capitale, dimenticataMazzette, su, buche, e, campi, rom, rom, a]</td>\n",
              "    </tr>\n",
              "    <tr>\n",
              "      <th>3</th>\n",
              "      <td>1259</td>\n",
              "      <td>ad uno ad uno perché quando i migranti israeliti arrivarono in terra di Canaan fecero fuori tutti i Cananiti</td>\n",
              "      <td>0</td>\n",
              "      <td>0</td>\n",
              "      <td>118</td>\n",
              "      <td>0</td>\n",
              "      <td>None</td>\n",
              "      <td>0</td>\n",
              "      <td>2</td>\n",
              "      <td>[ad, uno, ad, uno, perché, quando, i, migranti, israeliti, arrivarono, in, terra, di, Canaan, fecero, fuori, tutti, i, Cananiti]</td>\n",
              "    </tr>\n",
              "    <tr>\n",
              "      <th>4</th>\n",
              "      <td>949</td>\n",
              "      <td>Il divertimento del giorno Trovare i patrioti italiani che inneggiano contro i rom facendo la spesa alla li dl multinazionale tedesca</td>\n",
              "      <td>0</td>\n",
              "      <td>0</td>\n",
              "      <td>138</td>\n",
              "      <td>0</td>\n",
              "      <td>[#Lidl]</td>\n",
              "      <td>1</td>\n",
              "      <td>1</td>\n",
              "      <td>[Il, divertimento, del, giorno, Trovare, i, patrioti, italiani, che, inneggiano, contro, i, rom, facendo, la, spesa, alla, li, dl, multinazionale, tedesca]</td>\n",
              "    </tr>\n",
              "    <tr>\n",
              "      <th>5</th>\n",
              "      <td>256</td>\n",
              "      <td>Modena Comune paga la benzina ai nomadi che portano figli a scuola MODENA – La giunta PD…</td>\n",
              "      <td>0</td>\n",
              "      <td>0</td>\n",
              "      <td>96</td>\n",
              "      <td>16</td>\n",
              "      <td>None</td>\n",
              "      <td>0</td>\n",
              "      <td>0</td>\n",
              "      <td>[Modena, Comune, paga, la, benzina, ai, nomadi, che, portano, figli, a, scuola, MODENA, –, La, giunta, PD, …]</td>\n",
              "    </tr>\n",
              "    <tr>\n",
              "      <th>6</th>\n",
              "      <td>3001</td>\n",
              "      <td>altro che islam o cristianesimo a c dobbiamo sorbire anche dellignorante islam è uno solo</td>\n",
              "      <td>0</td>\n",
              "      <td>1</td>\n",
              "      <td>116</td>\n",
              "      <td>0</td>\n",
              "      <td>None</td>\n",
              "      <td>5</td>\n",
              "      <td>3</td>\n",
              "      <td>[altro, che, islam, o, cristianesimo, a, c, dobbiamo, sorbire, anche, dellignorante, islam, è, uno, solo]</td>\n",
              "    </tr>\n",
              "    <tr>\n",
              "      <th>7</th>\n",
              "      <td>765</td>\n",
              "      <td>grazie stef stavo giusto caricando ho anche messo Che Salvini avallava il finanziare campi rom</td>\n",
              "      <td>0</td>\n",
              "      <td>0</td>\n",
              "      <td>113</td>\n",
              "      <td>0</td>\n",
              "      <td>None</td>\n",
              "      <td>0</td>\n",
              "      <td>0</td>\n",
              "      <td>[grazie, stef, stavo, giusto, caricando, ho, anche, messo, Che, Salvini, avallava, il, finanziare, campi, rom]</td>\n",
              "    </tr>\n",
              "    <tr>\n",
              "      <th>8</th>\n",
              "      <td>1157</td>\n",
              "      <td>e smettetela di dire che anche gli italiani sono stati migranti erano trattati male ma non per questo uccidevano innocenti per strada</td>\n",
              "      <td>0</td>\n",
              "      <td>1</td>\n",
              "      <td>140</td>\n",
              "      <td>0</td>\n",
              "      <td>None</td>\n",
              "      <td>0</td>\n",
              "      <td>5</td>\n",
              "      <td>[e, smettetela, di, dire, che, anche, gli, italiani, sono, stati, migranti, erano, trattati, male, ma, non, per, questo, uccidevano, innocenti, per, strada]</td>\n",
              "    </tr>\n",
              "    <tr>\n",
              "      <th>9</th>\n",
              "      <td>268</td>\n",
              "      <td>Minorenne rom arrestato dopo furto in appartamento</td>\n",
              "      <td>0</td>\n",
              "      <td>1</td>\n",
              "      <td>55</td>\n",
              "      <td>12</td>\n",
              "      <td>None</td>\n",
              "      <td>0</td>\n",
              "      <td>0</td>\n",
              "      <td>[Minorenne, rom, arrestato, dopo, furto, in, appartamento]</td>\n",
              "    </tr>\n",
              "    <tr>\n",
              "      <th>10</th>\n",
              "      <td>644</td>\n",
              "      <td>Studentessa cinese morta fermato un nomade di 20anni e denunciato nomade sedicenne tutti del vicino campo nomade SkyTG24</td>\n",
              "      <td>0</td>\n",
              "      <td>1</td>\n",
              "      <td>121</td>\n",
              "      <td>0</td>\n",
              "      <td>None</td>\n",
              "      <td>0</td>\n",
              "      <td>0</td>\n",
              "      <td>[Studentessa, cinese, morta, fermato, un, nomade, di, 2, 0, anni, e, denunciato, nomade, sedicenne, tutti, del, vicino, campo, nomade, SkyTG24]</td>\n",
              "    </tr>\n",
              "    <tr>\n",
              "      <th>11</th>\n",
              "      <td>2518</td>\n",
              "      <td>Ddl di Calderoli “Il velo islamico e l’apologia della Sharia diventino reato” Siete d’accordo</td>\n",
              "      <td>0</td>\n",
              "      <td>0</td>\n",
              "      <td>101</td>\n",
              "      <td>6</td>\n",
              "      <td>None</td>\n",
              "      <td>1</td>\n",
              "      <td>1</td>\n",
              "      <td>[Ddl, di, Calderoli, “, Il, velo, islamico, e, l, ’, apologia, della, Sharia, diventino, reato, ”, Siete, d, ’, accordo]</td>\n",
              "    </tr>\n",
              "    <tr>\n",
              "      <th>12</th>\n",
              "      <td>46</td>\n",
              "      <td>Roma rapina al campo rom La Barbuta tre arresti Lombra del racket</td>\n",
              "      <td>0</td>\n",
              "      <td>0</td>\n",
              "      <td>78</td>\n",
              "      <td>14</td>\n",
              "      <td>None</td>\n",
              "      <td>0</td>\n",
              "      <td>2</td>\n",
              "      <td>[Roma, rapina, al, campo, rom, La, Barbuta, tre, arresti, Lombra, del, racket]</td>\n",
              "    </tr>\n",
              "    <tr>\n",
              "      <th>13</th>\n",
              "      <td>2297</td>\n",
              "      <td>Rischiando di essere presa per pazza che non sa di cosa parlaTrump dopo i musulmani e i gayquelli di colorebenvenutoHitlerpreoccupante</td>\n",
              "      <td>0</td>\n",
              "      <td>0</td>\n",
              "      <td>141</td>\n",
              "      <td>0</td>\n",
              "      <td>[#Trump, #benvenutoHitler?#preoccupante]</td>\n",
              "      <td>2</td>\n",
              "      <td>1</td>\n",
              "      <td>[Rischiando, di, essere, presa, per, pazza, che, non, sa, di, cosa, parlaTrump, dopo, i, musulmani, e, i, gayquelli, di, colorebenvenutoHitlerpreoccupante]</td>\n",
              "    </tr>\n",
              "    <tr>\n",
              "      <th>14</th>\n",
              "      <td>181</td>\n",
              "      <td>Povertà esclusione e scarsa istruzione 410 minori rom hanno una vita segnata alla nascita</td>\n",
              "      <td>0</td>\n",
              "      <td>0</td>\n",
              "      <td>99</td>\n",
              "      <td>6</td>\n",
              "      <td>None</td>\n",
              "      <td>0</td>\n",
              "      <td>1</td>\n",
              "      <td>[Povertà, esclusione, e, scarsa, istruzione, 410, minori, rom, hanno, una, vita, segnata, alla, nascita]</td>\n",
              "    </tr>\n",
              "    <tr>\n",
              "      <th>15</th>\n",
              "      <td>779</td>\n",
              "      <td>rom a Torino grazie al collegamento con i campi rom di QuintaColonna su media set televisore stasera calo esponenziale dei furti del debbio</td>\n",
              "      <td>0</td>\n",
              "      <td>1</td>\n",
              "      <td>141</td>\n",
              "      <td>0</td>\n",
              "      <td>[#Roma, #Torino,, #rom, #QuintaColonna,, #mediaset, #tv,, #furti., #DelDebbio]</td>\n",
              "      <td>0</td>\n",
              "      <td>4</td>\n",
              "      <td>[rom, a, Torino, grazie, al, collegamento, con, i, campi, rom, di, QuintaColonna, su, media, set, televisore, stasera, calo, esponenziale, dei, furti, del, debbio]</td>\n",
              "    </tr>\n",
              "    <tr>\n",
              "      <th>16</th>\n",
              "      <td>285</td>\n",
              "      <td>lo zucchero te lo da il tuo amico negro oppure rom visto che vi fate tutti senza problemi</td>\n",
              "      <td>0</td>\n",
              "      <td>1</td>\n",
              "      <td>102</td>\n",
              "      <td>0</td>\n",
              "      <td>None</td>\n",
              "      <td>0</td>\n",
              "      <td>0</td>\n",
              "      <td>[lo, zucchero, te, lo, da, il, tuo, amico, negro, oppure, rom, visto, che, vi, fate, tutti, senza, problemi]</td>\n",
              "    </tr>\n",
              "    <tr>\n",
              "      <th>17</th>\n",
              "      <td>1633</td>\n",
              "      <td>profughi e ci sono ancora dei malvedenti malpensanti e maldicenti che parlano di donne e bambini</td>\n",
              "      <td>0</td>\n",
              "      <td>1</td>\n",
              "      <td>110</td>\n",
              "      <td>5</td>\n",
              "      <td>[#profughi]</td>\n",
              "      <td>2</td>\n",
              "      <td>4</td>\n",
              "      <td>[profughi, e, ci, sono, ancora, dei, malvedenti, malpensanti, e, maldicenti, che, parlano, di, donne, e, bambini]</td>\n",
              "    </tr>\n",
              "    <tr>\n",
              "      <th>18</th>\n",
              "      <td>2900</td>\n",
              "      <td>Sarà un caso che è stata colpita la città occidentale della Russia san Pietroburgo è civiltà che da fastidio allinciviltá terroristica</td>\n",
              "      <td>0</td>\n",
              "      <td>0</td>\n",
              "      <td>141</td>\n",
              "      <td>0</td>\n",
              "      <td>[#sanpietroburgo]</td>\n",
              "      <td>1</td>\n",
              "      <td>0</td>\n",
              "      <td>[Sarà, un, caso, che, è, stata, colpita, la, città, occidentale, della, Russia, san, Pietroburgo, è, civiltà, che, da, fastidio, allinciviltá, terroristica]</td>\n",
              "    </tr>\n",
              "    <tr>\n",
              "      <th>19</th>\n",
              "      <td>2855</td>\n",
              "      <td>Toscana regalati 30mila euro ai rom per fare la spesa in una Coop</td>\n",
              "      <td>0</td>\n",
              "      <td>1</td>\n",
              "      <td>71</td>\n",
              "      <td>7</td>\n",
              "      <td>None</td>\n",
              "      <td>0</td>\n",
              "      <td>1</td>\n",
              "      <td>[Toscana, regalati, 3, 0, mila, euro, ai, rom, per, fare, la, spesa, in, una, Coop]</td>\n",
              "    </tr>\n",
              "    <tr>\n",
              "      <th>20</th>\n",
              "      <td>1770</td>\n",
              "      <td>Commissione Ue per visti turchi a mancano ancora 7 criteri stallo su legge antiterrorismo Accordo migranti 187 i rimpatri da aprile</td>\n",
              "      <td>0</td>\n",
              "      <td>0</td>\n",
              "      <td>141</td>\n",
              "      <td>0</td>\n",
              "      <td>[#Ue,, #Turchia]</td>\n",
              "      <td>0</td>\n",
              "      <td>5</td>\n",
              "      <td>[Commissione, Ue, per, visti, turchi, a, mancano, ancora, 7, criteri, stallo, su, legge, antiterrorismo, Accordo, migranti, 187, i, rimpatri, da, aprile]</td>\n",
              "    </tr>\n",
              "    <tr>\n",
              "      <th>21</th>\n",
              "      <td>1200</td>\n",
              "      <td>Quante inutili parole E ora di eliminare tutti questi politici immigrazionisti il mondo senza questi delinquenti…</td>\n",
              "      <td>0</td>\n",
              "      <td>0</td>\n",
              "      <td>121</td>\n",
              "      <td>11</td>\n",
              "      <td>None</td>\n",
              "      <td>1</td>\n",
              "      <td>1</td>\n",
              "      <td>[Quante, inutili, parole, E, ora, di, eliminare, tutti, questi, politici, immigrazionisti, il, mondo, senza, questi, delinquenti, …]</td>\n",
              "    </tr>\n",
              "    <tr>\n",
              "      <th>22</th>\n",
              "      <td>1181</td>\n",
              "      <td>Milano Lodi raggirava e truffava i clienti stranieri arrestato un avvocato</td>\n",
              "      <td>0</td>\n",
              "      <td>0</td>\n",
              "      <td>83</td>\n",
              "      <td>8</td>\n",
              "      <td>[#Milano:]</td>\n",
              "      <td>0</td>\n",
              "      <td>1</td>\n",
              "      <td>[Milano, Lodi, raggirava, e, truffava, i, clienti, stranieri, arrestato, un, avvocato]</td>\n",
              "    </tr>\n",
              "    <tr>\n",
              "      <th>23</th>\n",
              "      <td>1062</td>\n",
              "      <td>INTERVISTA «Immorale il memorandum migranti siglato da Roma e Tripoli»</td>\n",
              "      <td>0</td>\n",
              "      <td>0</td>\n",
              "      <td>76</td>\n",
              "      <td>18</td>\n",
              "      <td>None</td>\n",
              "      <td>0</td>\n",
              "      <td>1</td>\n",
              "      <td>[INTERVISTA, «, Immorale, il, memorandum, migranti, siglato, da, Roma, e, Tripoli, »]</td>\n",
              "    </tr>\n",
              "    <tr>\n",
              "      <th>24</th>\n",
              "      <td>1922</td>\n",
              "      <td>Aleppo libera dai terroristi filo ci dentali torna alla vita Riaperto aeroporto faccina_con_sorriso_accennato</td>\n",
              "      <td>0</td>\n",
              "      <td>0</td>\n",
              "      <td>87</td>\n",
              "      <td>10</td>\n",
              "      <td>[#AleppoLibera, #terroristifiloccidentali, #aeroporto🙂]</td>\n",
              "      <td>0</td>\n",
              "      <td>0</td>\n",
              "      <td>[Aleppo, libera, dai, terroristi, filo, ci, dentali, torna, alla, vita, Riaperto, aeroporto, faccina_con_sorriso_accennato]</td>\n",
              "    </tr>\n",
              "    <tr>\n",
              "      <th>25</th>\n",
              "      <td>880</td>\n",
              "      <td>Quello che n si sopporta è il risultato della libera circolazionenomadi degli altri paesi sul groppone</td>\n",
              "      <td>0</td>\n",
              "      <td>1</td>\n",
              "      <td>117</td>\n",
              "      <td>0</td>\n",
              "      <td>None</td>\n",
              "      <td>0</td>\n",
              "      <td>0</td>\n",
              "      <td>[Quello, che, n, si, sopporta, è, il, risultato, della, libera, circolazionenomadi, degli, altri, paesi, sul, groppone]</td>\n",
              "    </tr>\n",
              "    <tr>\n",
              "      <th>26</th>\n",
              "      <td>1342</td>\n",
              "      <td>Inchiesta a torino Trovato in Croazia il tesoro della “regina” rom</td>\n",
              "      <td>0</td>\n",
              "      <td>0</td>\n",
              "      <td>74</td>\n",
              "      <td>7</td>\n",
              "      <td>None</td>\n",
              "      <td>0</td>\n",
              "      <td>0</td>\n",
              "      <td>[Inchiesta, a, torino, Trovato, in, Croazia, il, tesoro, della, “, regina, ”, rom]</td>\n",
              "    </tr>\n",
              "    <tr>\n",
              "      <th>27</th>\n",
              "      <td>1137</td>\n",
              "      <td>a favore degli immigrati Ma hanno visto in altri Paesi europei dove han fatto quella marcia poi cosè successo</td>\n",
              "      <td>0</td>\n",
              "      <td>0</td>\n",
              "      <td>121</td>\n",
              "      <td>0</td>\n",
              "      <td>None</td>\n",
              "      <td>4</td>\n",
              "      <td>0</td>\n",
              "      <td>[a, favore, degli, immigrati, Ma, hanno, visto, in, altri, Paesi, europei, dove, han, fatto, quella, marcia, poi, cosè, successo]</td>\n",
              "    </tr>\n",
              "    <tr>\n",
              "      <th>28</th>\n",
              "      <td>625</td>\n",
              "      <td>Ma non sono nomadisono stanzialin Francia ogni 15 giorni devono andare via per amore o per forza</td>\n",
              "      <td>0</td>\n",
              "      <td>0</td>\n",
              "      <td>111</td>\n",
              "      <td>0</td>\n",
              "      <td>None</td>\n",
              "      <td>0</td>\n",
              "      <td>7</td>\n",
              "      <td>[Ma, non, sono, nomadisono, stanzialin, Francia, ogni, 15, giorni, devono, andare, via, per, amore, o, per, forza]</td>\n",
              "    </tr>\n",
              "    <tr>\n",
              "      <th>29</th>\n",
              "      <td>2537</td>\n",
              "      <td>ITALIANI via dallItalia questo territorio ormai è dei profughi</td>\n",
              "      <td>0</td>\n",
              "      <td>1</td>\n",
              "      <td>79</td>\n",
              "      <td>20</td>\n",
              "      <td>None</td>\n",
              "      <td>6</td>\n",
              "      <td>1</td>\n",
              "      <td>[ITALIANI, via, dallItalia, questo, territorio, ormai, è, dei, profughi]</td>\n",
              "    </tr>\n",
              "  </tbody>\n",
              "</table>\n",
              "</div>"
            ],
            "text/plain": [
              "      id  ...                                                                                                                                                               tokens\n",
              "0   2066  ...                                    [È, terrorismo, anche, questo, per, mettere, in, uno, stato, di, soggezione, le, persone, e, renderle, innocue, mentre, qualcuno]\n",
              "1   2045  ...                                                                [infatti, finché, ci, hanno, guadagnato, con, i, campi, rom, tutto, era, ok, con, alemanno, ipocriti]\n",
              "2     61  ...                                                                         [Corriere, Tangenti, Mafia, Capitale, dimenticataMazzette, su, buche, e, campi, rom, rom, a]\n",
              "3   1259  ...                                     [ad, uno, ad, uno, perché, quando, i, migranti, israeliti, arrivarono, in, terra, di, Canaan, fecero, fuori, tutti, i, Cananiti]\n",
              "4    949  ...          [Il, divertimento, del, giorno, Trovare, i, patrioti, italiani, che, inneggiano, contro, i, rom, facendo, la, spesa, alla, li, dl, multinazionale, tedesca]\n",
              "5    256  ...                                                        [Modena, Comune, paga, la, benzina, ai, nomadi, che, portano, figli, a, scuola, MODENA, –, La, giunta, PD, …]\n",
              "6   3001  ...                                                            [altro, che, islam, o, cristianesimo, a, c, dobbiamo, sorbire, anche, dellignorante, islam, è, uno, solo]\n",
              "7    765  ...                                                       [grazie, stef, stavo, giusto, caricando, ho, anche, messo, Che, Salvini, avallava, il, finanziare, campi, rom]\n",
              "8   1157  ...         [e, smettetela, di, dire, che, anche, gli, italiani, sono, stati, migranti, erano, trattati, male, ma, non, per, questo, uccidevano, innocenti, per, strada]\n",
              "9    268  ...                                                                                                           [Minorenne, rom, arrestato, dopo, furto, in, appartamento]\n",
              "10   644  ...                      [Studentessa, cinese, morta, fermato, un, nomade, di, 2, 0, anni, e, denunciato, nomade, sedicenne, tutti, del, vicino, campo, nomade, SkyTG24]\n",
              "11  2518  ...                                             [Ddl, di, Calderoli, “, Il, velo, islamico, e, l, ’, apologia, della, Sharia, diventino, reato, ”, Siete, d, ’, accordo]\n",
              "12    46  ...                                                                                       [Roma, rapina, al, campo, rom, La, Barbuta, tre, arresti, Lombra, del, racket]\n",
              "13  2297  ...          [Rischiando, di, essere, presa, per, pazza, che, non, sa, di, cosa, parlaTrump, dopo, i, musulmani, e, i, gayquelli, di, colorebenvenutoHitlerpreoccupante]\n",
              "14   181  ...                                                             [Povertà, esclusione, e, scarsa, istruzione, 410, minori, rom, hanno, una, vita, segnata, alla, nascita]\n",
              "15   779  ...  [rom, a, Torino, grazie, al, collegamento, con, i, campi, rom, di, QuintaColonna, su, media, set, televisore, stasera, calo, esponenziale, dei, furti, del, debbio]\n",
              "16   285  ...                                                         [lo, zucchero, te, lo, da, il, tuo, amico, negro, oppure, rom, visto, che, vi, fate, tutti, senza, problemi]\n",
              "17  1633  ...                                                    [profughi, e, ci, sono, ancora, dei, malvedenti, malpensanti, e, maldicenti, che, parlano, di, donne, e, bambini]\n",
              "18  2900  ...         [Sarà, un, caso, che, è, stata, colpita, la, città, occidentale, della, Russia, san, Pietroburgo, è, civiltà, che, da, fastidio, allinciviltá, terroristica]\n",
              "19  2855  ...                                                                                  [Toscana, regalati, 3, 0, mila, euro, ai, rom, per, fare, la, spesa, in, una, Coop]\n",
              "20  1770  ...            [Commissione, Ue, per, visti, turchi, a, mancano, ancora, 7, criteri, stallo, su, legge, antiterrorismo, Accordo, migranti, 187, i, rimpatri, da, aprile]\n",
              "21  1200  ...                                 [Quante, inutili, parole, E, ora, di, eliminare, tutti, questi, politici, immigrazionisti, il, mondo, senza, questi, delinquenti, …]\n",
              "22  1181  ...                                                                               [Milano, Lodi, raggirava, e, truffava, i, clienti, stranieri, arrestato, un, avvocato]\n",
              "23  1062  ...                                                                                [INTERVISTA, «, Immorale, il, memorandum, migranti, siglato, da, Roma, e, Tripoli, »]\n",
              "24  1922  ...                                          [Aleppo, libera, dai, terroristi, filo, ci, dentali, torna, alla, vita, Riaperto, aeroporto, faccina_con_sorriso_accennato]\n",
              "25   880  ...                                              [Quello, che, n, si, sopporta, è, il, risultato, della, libera, circolazionenomadi, degli, altri, paesi, sul, groppone]\n",
              "26  1342  ...                                                                                   [Inchiesta, a, torino, Trovato, in, Croazia, il, tesoro, della, “, regina, ”, rom]\n",
              "27  1137  ...                                    [a, favore, degli, immigrati, Ma, hanno, visto, in, altri, Paesi, europei, dove, han, fatto, quella, marcia, poi, cosè, successo]\n",
              "28   625  ...                                                   [Ma, non, sono, nomadisono, stanzialin, Francia, ogni, 15, giorni, devono, andare, via, per, amore, o, per, forza]\n",
              "29  2537  ...                                                                                             [ITALIANI, via, dallItalia, questo, territorio, ormai, è, dei, profughi]\n",
              "\n",
              "[30 rows x 10 columns]"
            ]
          },
          "metadata": {
            "tags": []
          },
          "execution_count": 537
        }
      ]
    },
    {
      "cell_type": "code",
      "metadata": {
        "id": "BzmHMXMI5gYT"
      },
      "source": [
        ""
      ],
      "execution_count": null,
      "outputs": []
    }
  ]
}