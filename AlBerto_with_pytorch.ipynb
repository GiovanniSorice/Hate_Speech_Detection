{
  "nbformat": 4,
  "nbformat_minor": 0,
  "metadata": {
    "colab": {
      "name": "AlBerto with pytorch.ipynb",
      "provenance": [],
      "include_colab_link": true
    },
    "kernelspec": {
      "name": "python3",
      "display_name": "Python 3"
    },
    "accelerator": "GPU",
    "widgets": {
      "application/vnd.jupyter.widget-state+json": {
        "c36d4d05ffa8486bbf845525709152e2": {
          "model_module": "@jupyter-widgets/controls",
          "model_name": "HBoxModel",
          "state": {
            "_view_name": "HBoxView",
            "_dom_classes": [],
            "_model_name": "HBoxModel",
            "_view_module": "@jupyter-widgets/controls",
            "_model_module_version": "1.5.0",
            "_view_count": null,
            "_view_module_version": "1.5.0",
            "box_style": "",
            "layout": "IPY_MODEL_ba37940e79234998885a790ca91ddf2f",
            "_model_module": "@jupyter-widgets/controls",
            "children": [
              "IPY_MODEL_7187e76dd6824b189c18272a4c75aa70",
              "IPY_MODEL_545a328774ee4a159fa0c1ef3857ea57"
            ]
          }
        },
        "ba37940e79234998885a790ca91ddf2f": {
          "model_module": "@jupyter-widgets/base",
          "model_name": "LayoutModel",
          "state": {
            "_view_name": "LayoutView",
            "grid_template_rows": null,
            "right": null,
            "justify_content": null,
            "_view_module": "@jupyter-widgets/base",
            "overflow": null,
            "_model_module_version": "1.2.0",
            "_view_count": null,
            "flex_flow": null,
            "width": null,
            "min_width": null,
            "border": null,
            "align_items": null,
            "bottom": null,
            "_model_module": "@jupyter-widgets/base",
            "top": null,
            "grid_column": null,
            "overflow_y": null,
            "overflow_x": null,
            "grid_auto_flow": null,
            "grid_area": null,
            "grid_template_columns": null,
            "flex": null,
            "_model_name": "LayoutModel",
            "justify_items": null,
            "grid_row": null,
            "max_height": null,
            "align_content": null,
            "visibility": null,
            "align_self": null,
            "height": null,
            "min_height": null,
            "padding": null,
            "grid_auto_rows": null,
            "grid_gap": null,
            "max_width": null,
            "order": null,
            "_view_module_version": "1.2.0",
            "grid_template_areas": null,
            "object_position": null,
            "object_fit": null,
            "grid_auto_columns": null,
            "margin": null,
            "display": null,
            "left": null
          }
        },
        "7187e76dd6824b189c18272a4c75aa70": {
          "model_module": "@jupyter-widgets/controls",
          "model_name": "FloatProgressModel",
          "state": {
            "_view_name": "ProgressView",
            "style": "IPY_MODEL_ebe8332033584bb8a7ee95efeeea5c10",
            "_dom_classes": [],
            "description": "Downloading: 100%",
            "_model_name": "FloatProgressModel",
            "bar_style": "success",
            "max": 1108715,
            "_view_module": "@jupyter-widgets/controls",
            "_model_module_version": "1.5.0",
            "value": 1108715,
            "_view_count": null,
            "_view_module_version": "1.5.0",
            "orientation": "horizontal",
            "min": 0,
            "description_tooltip": null,
            "_model_module": "@jupyter-widgets/controls",
            "layout": "IPY_MODEL_999e36e6df7b4f51a404307cbf939ea2"
          }
        },
        "545a328774ee4a159fa0c1ef3857ea57": {
          "model_module": "@jupyter-widgets/controls",
          "model_name": "HTMLModel",
          "state": {
            "_view_name": "HTMLView",
            "style": "IPY_MODEL_2b0c97ee15604875b2c316a1bb22a8de",
            "_dom_classes": [],
            "description": "",
            "_model_name": "HTMLModel",
            "placeholder": "​",
            "_view_module": "@jupyter-widgets/controls",
            "_model_module_version": "1.5.0",
            "value": " 1.11M/1.11M [00:03&lt;00:00, 326kB/s]",
            "_view_count": null,
            "_view_module_version": "1.5.0",
            "description_tooltip": null,
            "_model_module": "@jupyter-widgets/controls",
            "layout": "IPY_MODEL_b0c27cd66b874fec8762a7d90f57a7a6"
          }
        },
        "ebe8332033584bb8a7ee95efeeea5c10": {
          "model_module": "@jupyter-widgets/controls",
          "model_name": "ProgressStyleModel",
          "state": {
            "_view_name": "StyleView",
            "_model_name": "ProgressStyleModel",
            "description_width": "initial",
            "_view_module": "@jupyter-widgets/base",
            "_model_module_version": "1.5.0",
            "_view_count": null,
            "_view_module_version": "1.2.0",
            "bar_color": null,
            "_model_module": "@jupyter-widgets/controls"
          }
        },
        "999e36e6df7b4f51a404307cbf939ea2": {
          "model_module": "@jupyter-widgets/base",
          "model_name": "LayoutModel",
          "state": {
            "_view_name": "LayoutView",
            "grid_template_rows": null,
            "right": null,
            "justify_content": null,
            "_view_module": "@jupyter-widgets/base",
            "overflow": null,
            "_model_module_version": "1.2.0",
            "_view_count": null,
            "flex_flow": null,
            "width": null,
            "min_width": null,
            "border": null,
            "align_items": null,
            "bottom": null,
            "_model_module": "@jupyter-widgets/base",
            "top": null,
            "grid_column": null,
            "overflow_y": null,
            "overflow_x": null,
            "grid_auto_flow": null,
            "grid_area": null,
            "grid_template_columns": null,
            "flex": null,
            "_model_name": "LayoutModel",
            "justify_items": null,
            "grid_row": null,
            "max_height": null,
            "align_content": null,
            "visibility": null,
            "align_self": null,
            "height": null,
            "min_height": null,
            "padding": null,
            "grid_auto_rows": null,
            "grid_gap": null,
            "max_width": null,
            "order": null,
            "_view_module_version": "1.2.0",
            "grid_template_areas": null,
            "object_position": null,
            "object_fit": null,
            "grid_auto_columns": null,
            "margin": null,
            "display": null,
            "left": null
          }
        },
        "2b0c97ee15604875b2c316a1bb22a8de": {
          "model_module": "@jupyter-widgets/controls",
          "model_name": "DescriptionStyleModel",
          "state": {
            "_view_name": "StyleView",
            "_model_name": "DescriptionStyleModel",
            "description_width": "",
            "_view_module": "@jupyter-widgets/base",
            "_model_module_version": "1.5.0",
            "_view_count": null,
            "_view_module_version": "1.2.0",
            "_model_module": "@jupyter-widgets/controls"
          }
        },
        "b0c27cd66b874fec8762a7d90f57a7a6": {
          "model_module": "@jupyter-widgets/base",
          "model_name": "LayoutModel",
          "state": {
            "_view_name": "LayoutView",
            "grid_template_rows": null,
            "right": null,
            "justify_content": null,
            "_view_module": "@jupyter-widgets/base",
            "overflow": null,
            "_model_module_version": "1.2.0",
            "_view_count": null,
            "flex_flow": null,
            "width": null,
            "min_width": null,
            "border": null,
            "align_items": null,
            "bottom": null,
            "_model_module": "@jupyter-widgets/base",
            "top": null,
            "grid_column": null,
            "overflow_y": null,
            "overflow_x": null,
            "grid_auto_flow": null,
            "grid_area": null,
            "grid_template_columns": null,
            "flex": null,
            "_model_name": "LayoutModel",
            "justify_items": null,
            "grid_row": null,
            "max_height": null,
            "align_content": null,
            "visibility": null,
            "align_self": null,
            "height": null,
            "min_height": null,
            "padding": null,
            "grid_auto_rows": null,
            "grid_gap": null,
            "max_width": null,
            "order": null,
            "_view_module_version": "1.2.0",
            "grid_template_areas": null,
            "object_position": null,
            "object_fit": null,
            "grid_auto_columns": null,
            "margin": null,
            "display": null,
            "left": null
          }
        }
      }
    }
  },
  "cells": [
    {
      "cell_type": "markdown",
      "metadata": {
        "id": "view-in-github",
        "colab_type": "text"
      },
      "source": [
        "<a href=\"https://colab.research.google.com/github/GiovanniSorice/Hate_Speech_Detection/blob/main/AlBerto_with_pytorch.ipynb\" target=\"_parent\"><img src=\"https://colab.research.google.com/assets/colab-badge.svg\" alt=\"Open In Colab\"/></a>"
      ]
    },
    {
      "cell_type": "markdown",
      "metadata": {
        "id": "cCSPLoZGkjUY"
      },
      "source": [
        "# AlBERTo Hate Speech Classifier "
      ]
    },
    {
      "cell_type": "code",
      "metadata": {
        "id": "0O71JSpSt4Vi",
        "colab": {
          "base_uri": "https://localhost:8080/"
        },
        "outputId": "3209c8a4-1ed9-4847-a8ab-bb8f1a3224bf"
      },
      "source": [
        "!pip install ekphrasis\n",
        "!pip install transformers\n",
        "import datetime\n",
        "import sys\n",
        "import warnings\n",
        "warnings.filterwarnings(\"ignore\")\n",
        "\n",
        "#for code working\n",
        "import tensorflow as tf\n",
        "import re\n",
        "from ekphrasis.classes.preprocessor import TextPreProcessor\n",
        "from ekphrasis.classes.tokenizer import SocialTokenizer\n",
        "from ekphrasis.dicts.emoticons import emoticons\n",
        "import numpy as np\n",
        "import pandas as pd \n",
        "from sklearn.utils import shuffle\n",
        "from sklearn.model_selection import train_test_split\n",
        "from transformers import BertModel, Trainer, TrainingArguments, BertTokenizer, glue_convert_examples_to_features, AutoModel, AlbertModel\n",
        "from torch.utils.data import TensorDataset, DataLoader, RandomSampler, SequentialSampler\n",
        "import torch\n",
        "#Prepare and import BERT modules\n",
        "import subprocess\n",
        "subprocess.call([\"git\", \"clone\", \"https://github.com/google-research/bert\",\"bert_repo\"])\n",
        "\n",
        "if not 'bert_repo' in sys.path:\n",
        "  sys.path += ['bert_repo']\n",
        "\n",
        "# import python modules defined by BERT\n",
        "import modeling\n",
        "import tokenization"
      ],
      "execution_count": 1,
      "outputs": [
        {
          "output_type": "stream",
          "text": [
            "Collecting ekphrasis\n",
            "\u001b[?25l  Downloading https://files.pythonhosted.org/packages/92/e6/37c59d65e78c3a2aaf662df58faca7250eb6b36c559b912a39a7ca204cfb/ekphrasis-0.5.1.tar.gz (80kB)\n",
            "\r\u001b[K     |████                            | 10kB 16.5MB/s eta 0:00:01\r\u001b[K     |████████▏                       | 20kB 9.8MB/s eta 0:00:01\r\u001b[K     |████████████▎                   | 30kB 7.7MB/s eta 0:00:01\r\u001b[K     |████████████████▍               | 40kB 7.0MB/s eta 0:00:01\r\u001b[K     |████████████████████▌           | 51kB 4.3MB/s eta 0:00:01\r\u001b[K     |████████████████████████▌       | 61kB 4.8MB/s eta 0:00:01\r\u001b[K     |████████████████████████████▋   | 71kB 5.0MB/s eta 0:00:01\r\u001b[K     |████████████████████████████████| 81kB 3.5MB/s \n",
            "\u001b[?25hRequirement already satisfied: termcolor in /usr/local/lib/python3.7/dist-packages (from ekphrasis) (1.1.0)\n",
            "Requirement already satisfied: tqdm in /usr/local/lib/python3.7/dist-packages (from ekphrasis) (4.41.1)\n",
            "Collecting colorama\n",
            "  Downloading https://files.pythonhosted.org/packages/44/98/5b86278fbbf250d239ae0ecb724f8572af1c91f4a11edf4d36a206189440/colorama-0.4.4-py2.py3-none-any.whl\n",
            "Collecting ujson\n",
            "\u001b[?25l  Downloading https://files.pythonhosted.org/packages/17/4e/50e8e4cf5f00b537095711c2c86ac4d7191aed2b4fffd5a19f06898f6929/ujson-4.0.2-cp37-cp37m-manylinux1_x86_64.whl (179kB)\n",
            "\u001b[K     |████████████████████████████████| 184kB 14.5MB/s \n",
            "\u001b[?25hRequirement already satisfied: matplotlib in /usr/local/lib/python3.7/dist-packages (from ekphrasis) (3.2.2)\n",
            "Requirement already satisfied: nltk in /usr/local/lib/python3.7/dist-packages (from ekphrasis) (3.2.5)\n",
            "Collecting ftfy\n",
            "\u001b[?25l  Downloading https://files.pythonhosted.org/packages/04/06/e5c80e2e0f979628d47345efba51f7ba386fe95963b11c594209085f5a9b/ftfy-5.9.tar.gz (66kB)\n",
            "\u001b[K     |████████████████████████████████| 71kB 7.9MB/s \n",
            "\u001b[?25hRequirement already satisfied: numpy in /usr/local/lib/python3.7/dist-packages (from ekphrasis) (1.19.5)\n",
            "Requirement already satisfied: python-dateutil>=2.1 in /usr/local/lib/python3.7/dist-packages (from matplotlib->ekphrasis) (2.8.1)\n",
            "Requirement already satisfied: cycler>=0.10 in /usr/local/lib/python3.7/dist-packages (from matplotlib->ekphrasis) (0.10.0)\n",
            "Requirement already satisfied: pyparsing!=2.0.4,!=2.1.2,!=2.1.6,>=2.0.1 in /usr/local/lib/python3.7/dist-packages (from matplotlib->ekphrasis) (2.4.7)\n",
            "Requirement already satisfied: kiwisolver>=1.0.1 in /usr/local/lib/python3.7/dist-packages (from matplotlib->ekphrasis) (1.3.1)\n",
            "Requirement already satisfied: six in /usr/local/lib/python3.7/dist-packages (from nltk->ekphrasis) (1.15.0)\n",
            "Requirement already satisfied: wcwidth in /usr/local/lib/python3.7/dist-packages (from ftfy->ekphrasis) (0.2.5)\n",
            "Building wheels for collected packages: ekphrasis, ftfy\n",
            "  Building wheel for ekphrasis (setup.py) ... \u001b[?25l\u001b[?25hdone\n",
            "  Created wheel for ekphrasis: filename=ekphrasis-0.5.1-cp37-none-any.whl size=82844 sha256=6d56eec937a6e84fe5609f98d61ec6b63142ff6ac310cad23f826f125ceb0b3b\n",
            "  Stored in directory: /root/.cache/pip/wheels/2f/c5/9b/c9b60f535a2cf9fdbc92d84c4801a010c35a9cd348011ed2a1\n",
            "  Building wheel for ftfy (setup.py) ... \u001b[?25l\u001b[?25hdone\n",
            "  Created wheel for ftfy: filename=ftfy-5.9-cp37-none-any.whl size=46451 sha256=ad30670117d5baa55e8a760f1b660e822599a1ca5ab496bbafe4836a1df68ab0\n",
            "  Stored in directory: /root/.cache/pip/wheels/5e/2e/f0/b07196e8c929114998f0316894a61c752b63bfa3fdd50d2fc3\n",
            "Successfully built ekphrasis ftfy\n",
            "Installing collected packages: colorama, ujson, ftfy, ekphrasis\n",
            "Successfully installed colorama-0.4.4 ekphrasis-0.5.1 ftfy-5.9 ujson-4.0.2\n",
            "Collecting transformers\n",
            "\u001b[?25l  Downloading https://files.pythonhosted.org/packages/2c/d8/5144b0712f7f82229a8da5983a8fbb8d30cec5fbd5f8d12ffe1854dcea67/transformers-4.4.1-py3-none-any.whl (2.1MB)\n",
            "\u001b[K     |████████████████████████████████| 2.1MB 5.1MB/s \n",
            "\u001b[?25hCollecting sacremoses\n",
            "\u001b[?25l  Downloading https://files.pythonhosted.org/packages/7d/34/09d19aff26edcc8eb2a01bed8e98f13a1537005d31e95233fd48216eed10/sacremoses-0.0.43.tar.gz (883kB)\n",
            "\u001b[K     |████████████████████████████████| 890kB 17.6MB/s \n",
            "\u001b[?25hRequirement already satisfied: packaging in /usr/local/lib/python3.7/dist-packages (from transformers) (20.9)\n",
            "Collecting tokenizers<0.11,>=0.10.1\n",
            "\u001b[?25l  Downloading https://files.pythonhosted.org/packages/71/23/2ddc317b2121117bf34dd00f5b0de194158f2a44ee2bf5e47c7166878a97/tokenizers-0.10.1-cp37-cp37m-manylinux2010_x86_64.whl (3.2MB)\n",
            "\u001b[K     |████████████████████████████████| 3.2MB 26.4MB/s \n",
            "\u001b[?25hRequirement already satisfied: numpy>=1.17 in /usr/local/lib/python3.7/dist-packages (from transformers) (1.19.5)\n",
            "Requirement already satisfied: importlib-metadata; python_version < \"3.8\" in /usr/local/lib/python3.7/dist-packages (from transformers) (3.7.2)\n",
            "Requirement already satisfied: regex!=2019.12.17 in /usr/local/lib/python3.7/dist-packages (from transformers) (2019.12.20)\n",
            "Requirement already satisfied: filelock in /usr/local/lib/python3.7/dist-packages (from transformers) (3.0.12)\n",
            "Requirement already satisfied: tqdm>=4.27 in /usr/local/lib/python3.7/dist-packages (from transformers) (4.41.1)\n",
            "Requirement already satisfied: requests in /usr/local/lib/python3.7/dist-packages (from transformers) (2.23.0)\n",
            "Requirement already satisfied: six in /usr/local/lib/python3.7/dist-packages (from sacremoses->transformers) (1.15.0)\n",
            "Requirement already satisfied: click in /usr/local/lib/python3.7/dist-packages (from sacremoses->transformers) (7.1.2)\n",
            "Requirement already satisfied: joblib in /usr/local/lib/python3.7/dist-packages (from sacremoses->transformers) (1.0.1)\n",
            "Requirement already satisfied: pyparsing>=2.0.2 in /usr/local/lib/python3.7/dist-packages (from packaging->transformers) (2.4.7)\n",
            "Requirement already satisfied: typing-extensions>=3.6.4; python_version < \"3.8\" in /usr/local/lib/python3.7/dist-packages (from importlib-metadata; python_version < \"3.8\"->transformers) (3.7.4.3)\n",
            "Requirement already satisfied: zipp>=0.5 in /usr/local/lib/python3.7/dist-packages (from importlib-metadata; python_version < \"3.8\"->transformers) (3.4.1)\n",
            "Requirement already satisfied: urllib3!=1.25.0,!=1.25.1,<1.26,>=1.21.1 in /usr/local/lib/python3.7/dist-packages (from requests->transformers) (1.24.3)\n",
            "Requirement already satisfied: chardet<4,>=3.0.2 in /usr/local/lib/python3.7/dist-packages (from requests->transformers) (3.0.4)\n",
            "Requirement already satisfied: certifi>=2017.4.17 in /usr/local/lib/python3.7/dist-packages (from requests->transformers) (2020.12.5)\n",
            "Requirement already satisfied: idna<3,>=2.5 in /usr/local/lib/python3.7/dist-packages (from requests->transformers) (2.10)\n",
            "Building wheels for collected packages: sacremoses\n",
            "  Building wheel for sacremoses (setup.py) ... \u001b[?25l\u001b[?25hdone\n",
            "  Created wheel for sacremoses: filename=sacremoses-0.0.43-cp37-none-any.whl size=893262 sha256=2173eccb1c144c891046baab437781b23b1a8d93c5c3c1eb888fb79caa981155\n",
            "  Stored in directory: /root/.cache/pip/wheels/29/3c/fd/7ce5c3f0666dab31a50123635e6fb5e19ceb42ce38d4e58f45\n",
            "Successfully built sacremoses\n",
            "Installing collected packages: sacremoses, tokenizers, transformers\n",
            "Successfully installed sacremoses-0.0.43 tokenizers-0.10.1 transformers-4.4.1\n"
          ],
          "name": "stdout"
        }
      ]
    },
    {
      "cell_type": "code",
      "metadata": {
        "colab": {
          "base_uri": "https://localhost:8080/"
        },
        "id": "FwrQH01T_nIS",
        "outputId": "08724974-92b7-49af-8ecb-1ad16a925d24"
      },
      "source": [
        "from google.colab import drive\n",
        "# This will prompt for authorization.\n",
        "drive.mount('/content/drive')"
      ],
      "execution_count": 2,
      "outputs": [
        {
          "output_type": "stream",
          "text": [
            "Mounted at /content/drive\n"
          ],
          "name": "stdout"
        }
      ]
    },
    {
      "cell_type": "markdown",
      "metadata": {
        "id": "5WjePYBOyZZz"
      },
      "source": [
        "## Load the dataset "
      ]
    },
    {
      "cell_type": "code",
      "metadata": {
        "id": "5ewn7ge0AB8n"
      },
      "source": [
        "# directory name \n",
        "input_dir = '/content/drive/My Drive/HLT/clean_dataset_training/' \n",
        "AlBERTo_path = '/content/drive/MyDrive/HLT/alberto_uncased_L-12_H-768_A-12_italian_ckpt/'\n",
        "input_dir_not_clean = '/content/drive/My Drive/HLT/dataset_training/' \n",
        "\n",
        "# Spec\n",
        "pd.set_option(\"display.max_colwidth\", None)"
      ],
      "execution_count": 3,
      "outputs": []
    },
    {
      "cell_type": "code",
      "metadata": {
        "id": "e79wrBv04JDz"
      },
      "source": [
        "raw_tsv_file = open(input_dir_not_clean+\"haspeede2_dev_taskAB.tsv\")\n",
        "raw_dataset = pd.read_csv(raw_tsv_file,sep='\\t')\n",
        "raw_dataset.rename(columns={\"text \": \"text\"}, inplace=True)"
      ],
      "execution_count": 4,
      "outputs": []
    },
    {
      "cell_type": "code",
      "metadata": {
        "colab": {
          "base_uri": "https://localhost:8080/"
        },
        "id": "j1gZmei05Iu8",
        "outputId": "6bd41215-2e7c-4922-c9da-9130275e5b10"
      },
      "source": [
        "text_processor = TextPreProcessor(\n",
        "    # terms that will be normalized\n",
        "    normalize=['url', 'email', 'user', 'percent', 'money', 'phone', 'time', 'date', 'number'],\n",
        "    # terms that will be annotated\n",
        "    annotate={\"hashtag\"},\n",
        "    fix_html=True,  # fix HTML tokens\n",
        "\n",
        "    unpack_hashtags=True,  # perform word segmentation on hashtags\n",
        "\n",
        "    # select a tokenizer. You can use SocialTokenizer, or pass your own\n",
        "    # the tokenizer, should take as input a string and return a list of tokens\n",
        "    tokenizer=SocialTokenizer(lowercase=True).tokenize,\n",
        "    dicts=[emoticons]\n",
        ")\n",
        "\n",
        "class AlBERTo_Preprocessing(object):\n",
        "    def __init__(self, do_lower_case=True, **kwargs):\n",
        "        self.do_lower_case = do_lower_case\n",
        "\n",
        "    def preprocess(self, text):\n",
        "        if self.do_lower_case:\n",
        "            text = text.lower()\n",
        "        text = str(\" \".join(text_processor.pre_process_doc(text)))\n",
        "        text = re.sub(r'[^a-zA-ZÀ-ú</>!?♥♡\\s\\U00010000-\\U0010ffff]', ' ', text)\n",
        "        text = re.sub(r'\\s+', ' ', text)\n",
        "        text = re.sub(r'(\\w)\\1{2,}', r'\\1\\1', text)\n",
        "        text = re.sub(r'^\\s', '', text)\n",
        "        text = re.sub(r'\\s$', '', text)\n",
        "        return text"
      ],
      "execution_count": 5,
      "outputs": [
        {
          "output_type": "stream",
          "text": [
            "Word statistics files not found!\n",
            "Downloading... done!\n",
            "Unpacking... done!\n",
            "Reading english - 1grams ...\n",
            "generating cache file for faster loading...\n",
            "reading ngrams /root/.ekphrasis/stats/english/counts_1grams.txt\n",
            "Reading english - 2grams ...\n",
            "generating cache file for faster loading...\n",
            "reading ngrams /root/.ekphrasis/stats/english/counts_2grams.txt\n",
            "Reading english - 1grams ...\n"
          ],
          "name": "stdout"
        }
      ]
    },
    {
      "cell_type": "code",
      "metadata": {
        "id": "cCdhoarh6BPZ"
      },
      "source": [
        "AlBERTo_Preprocess = AlBERTo_Preprocessing(do_lower_case=True)\n",
        "def preproc(text):\n",
        "    return AlBERTo_Preprocess.preprocess(text)"
      ],
      "execution_count": 6,
      "outputs": []
    },
    {
      "cell_type": "code",
      "metadata": {
        "id": "3EqwNrcW5B9V"
      },
      "source": [
        "raw_dataset['text_1'] = raw_dataset['text'].apply(preproc)"
      ],
      "execution_count": 7,
      "outputs": []
    },
    {
      "cell_type": "code",
      "metadata": {
        "id": "qJL3UvhtALOr"
      },
      "source": [
        "tsv_file = open(input_dir+\"training_dataset.csv\")\n",
        "\n",
        "dataset = pd.read_csv(tsv_file,sep=',')"
      ],
      "execution_count": 8,
      "outputs": []
    },
    {
      "cell_type": "code",
      "metadata": {
        "id": "PdWfMnvnie0P"
      },
      "source": [
        "import pprint\n",
        "\n",
        "try:\n",
        "  tpu = tf.distribute.cluster_resolver.TPUClusterResolver()  # TPU detection\n",
        "  print('Running on TPU ', tpu.cluster_spec().as_dict()['worker'])\n",
        "except ValueError:\n",
        "  raise BaseException('ERROR: Not connected to a TPU runtime; please see the previous cell in this notebook for instructions!')\n",
        "\n",
        "assert 'COLAB_TPU_ADDR' in os.environ, 'ERROR: Not connected to a TPU runtime; please see the first cell in this notebook for instructions!'\n",
        "TPU_ADDRESS = 'grpc://' + os.environ['COLAB_TPU_ADDR']\n",
        "print('TPU address is', TPU_ADDRESS)\n",
        "\n",
        "with tf.Session(TPU_ADDRESS) as session:\n",
        "  print('TPU devices:')\n",
        "  pprint.pprint(session.list_devices())\n",
        "  "
      ],
      "execution_count": null,
      "outputs": []
    },
    {
      "cell_type": "markdown",
      "metadata": {
        "id": "7konutm-F___"
      },
      "source": [
        "# Prepare sentences to be converted "
      ]
    },
    {
      "cell_type": "code",
      "metadata": {
        "id": "zgKiXVbPE1fj"
      },
      "source": [
        "X_train, X_valid, Y_train, Y_valid = train_test_split(raw_dataset['text_1'], raw_dataset['hs'], test_size=0.2, random_state=128)"
      ],
      "execution_count": 10,
      "outputs": []
    },
    {
      "cell_type": "code",
      "metadata": {
        "id": "B62MIZEe9pzX"
      },
      "source": [
        "X_train_values=list(X_train.values)\n",
        "X_valid_values=list(X_valid.values)"
      ],
      "execution_count": 11,
      "outputs": []
    },
    {
      "cell_type": "markdown",
      "metadata": {
        "id": "Yv2rozBxsPRC"
      },
      "source": [
        "# Tokenizer "
      ]
    },
    {
      "cell_type": "code",
      "metadata": {
        "id": "ElBYWmPx5sV7",
        "colab": {
          "base_uri": "https://localhost:8080/",
          "height": 66,
          "referenced_widgets": [
            "c36d4d05ffa8486bbf845525709152e2",
            "ba37940e79234998885a790ca91ddf2f",
            "7187e76dd6824b189c18272a4c75aa70",
            "545a328774ee4a159fa0c1ef3857ea57",
            "ebe8332033584bb8a7ee95efeeea5c10",
            "999e36e6df7b4f51a404307cbf939ea2",
            "2b0c97ee15604875b2c316a1bb22a8de",
            "b0c27cd66b874fec8762a7d90f57a7a6"
          ]
        },
        "outputId": "69d51114-547c-4213-8fc2-b3178a3c6a3c"
      },
      "source": [
        "import tensorflow as tf\n",
        "tokenizer = BertTokenizer.from_pretrained('m-polignano-uniba/bert_uncased_L-12_H-768_A-12_italian_alb3rt0')"
      ],
      "execution_count": 12,
      "outputs": [
        {
          "output_type": "display_data",
          "data": {
            "application/vnd.jupyter.widget-view+json": {
              "model_id": "c36d4d05ffa8486bbf845525709152e2",
              "version_minor": 0,
              "version_major": 2
            },
            "text/plain": [
              "HBox(children=(FloatProgress(value=0.0, description='Downloading', max=1108715.0, style=ProgressStyle(descript…"
            ]
          },
          "metadata": {
            "tags": []
          }
        },
        {
          "output_type": "stream",
          "text": [
            "\n"
          ],
          "name": "stdout"
        }
      ]
    },
    {
      "cell_type": "code",
      "metadata": {
        "id": "GUL82SwK977W"
      },
      "source": [
        "encoding_train = tokenizer(X_train_values, padding=True, truncation=True, max_length=64)\n",
        "encoding_valid = tokenizer(X_valid_values, padding=True, truncation=True, max_length=64)"
      ],
      "execution_count": 13,
      "outputs": []
    },
    {
      "cell_type": "code",
      "metadata": {
        "id": "eviNwlDC-f7l"
      },
      "source": [
        "input_ids_train = torch.tensor(encoding_train['input_ids'])\n",
        "attention_mask_train = torch.tensor(encoding_train['attention_mask'])\n",
        "input_ids_valid = torch.tensor(encoding_valid['input_ids'])\n",
        "attention_mask_valid = torch.tensor(encoding_valid['attention_mask'])"
      ],
      "execution_count": 14,
      "outputs": []
    },
    {
      "cell_type": "code",
      "metadata": {
        "id": "DiHFuINCEfFp"
      },
      "source": [
        "# Convert other data types to torch.Tensor\n",
        "train_labels = torch.tensor(Y_train.values)\n",
        "val_labels = torch.tensor(Y_valid.values)\n",
        "\n",
        "# For fine-tuning BERT, the authors recommend a batch size of 16 or 32.\n",
        "batch_size = 32\n",
        "\n",
        "# Create the DataLoader for our training set\n",
        "train_data = TensorDataset(input_ids_train, attention_mask_train, train_labels)\n",
        "train_sampler = RandomSampler(train_data)\n",
        "train_dataloader = DataLoader(train_data, sampler=train_sampler, batch_size=batch_size)\n",
        "\n",
        "# Create the DataLoader for our validation set\n",
        "val_data = TensorDataset(input_ids_valid, attention_mask_valid, val_labels)\n",
        "val_sampler = SequentialSampler(val_data)\n",
        "val_dataloader = DataLoader(val_data, sampler=val_sampler, batch_size=batch_size)"
      ],
      "execution_count": 15,
      "outputs": []
    },
    {
      "cell_type": "markdown",
      "metadata": {
        "id": "l_mZY4iN04jo"
      },
      "source": [
        "# Load Pre-Trained Model "
      ]
    },
    {
      "cell_type": "code",
      "metadata": {
        "colab": {
          "base_uri": "https://localhost:8080/"
        },
        "id": "qpDEutt7zkXx",
        "outputId": "8d7d1568-a3bc-42ec-e783-acae79e62d02"
      },
      "source": [
        "if torch.cuda.is_available():       \n",
        "    device = torch.device(\"cuda\")\n",
        "    print(f'There are {torch.cuda.device_count()} GPU(s) available.')\n",
        "    print('Device name:', torch.cuda.get_device_name(0))\n",
        "\n",
        "else:\n",
        "    print('No GPU available, using the CPU instead.')\n",
        "    device = torch.device(\"cpu\")"
      ],
      "execution_count": 16,
      "outputs": [
        {
          "output_type": "stream",
          "text": [
            "There are 1 GPU(s) available.\n",
            "Device name: Tesla K80\n"
          ],
          "name": "stdout"
        }
      ]
    },
    {
      "cell_type": "code",
      "metadata": {
        "id": "VfcLC7ENt1ad"
      },
      "source": [
        "# Create the BertClassfier class\n",
        "import torch.nn as nn\n",
        "class BertClassifier(nn.Module):\n",
        "    \"\"\"Bert Model for Classification Tasks.\n",
        "    \"\"\"\n",
        "    def __init__(self, freeze_bert=False):\n",
        "        \"\"\"\n",
        "        @param    bert: a BertModel object\n",
        "        @param    classifier: a torch.nn.Module classifier\n",
        "        @param    freeze_bert (bool): Set `False` to fine-tune the BERT model\n",
        "        \"\"\"\n",
        "        super(BertClassifier, self).__init__()\n",
        "        # Specify hidden size of BERT, hidden size of our classifier, and number of labels\n",
        "        D_in, Hidden_1, Hidden_2, D_out = 768, 256, 64, 2\n",
        "\n",
        "        # Instantiate BERT model\n",
        "        self.bert = BertModel.from_pretrained('m-polignano-uniba/bert_uncased_L-12_H-768_A-12_italian_alb3rt0')\n",
        "\n",
        "        # Instantiate an one-layer feed-forward classifier\n",
        "        self.classifier = nn.Sequential(\n",
        "            nn.Linear(D_in, Hidden_1),\n",
        "            nn.ReLU(),\n",
        "            nn.Dropout(0.5),\n",
        "            nn.Linear(Hidden_1, Hidden_2),\n",
        "            nn.ReLU(),\n",
        "            nn.Dropout(0.5),\n",
        "            nn.Linear(Hidden_2, D_out)\n",
        "        )\n",
        "\n",
        "        # Freeze the BERT model\n",
        "        if freeze_bert:\n",
        "            for param in self.bert.parameters():\n",
        "                param.requires_grad = False\n",
        "        \n",
        "    def forward(self, input_ids, attention_mask):\n",
        "        \"\"\"\n",
        "        Feed input to BERT and the classifier to compute logits.\n",
        "        @param    input_ids (torch.Tensor): an input tensor with shape (batch_size,\n",
        "                      max_length)\n",
        "        @param    attention_mask (torch.Tensor): a tensor that hold attention mask\n",
        "                      information with shape (batch_size, max_length)\n",
        "        @return   logits (torch.Tensor): an output tensor with shape (batch_size,\n",
        "                      num_labels)\n",
        "        \"\"\"\n",
        "        # Feed input to BERT\n",
        "        outputs = self.bert(input_ids=input_ids,\n",
        "                            attention_mask=attention_mask)\n",
        "        \n",
        "        # Extract the last hidden state of the token `[CLS]` for classification task\n",
        "        last_hidden_state_cls = outputs[0][:, 0, :]\n",
        "\n",
        "        # Feed input to classifier to compute logits\n",
        "        logits = self.classifier(last_hidden_state_cls)\n",
        "\n",
        "        return logits\n",
        "\n",
        "    def freeze(self, freeze_bert=False):\n",
        "        # Freeze or unfreeze the BERT model\n",
        "        for param in self.bert.parameters():\n",
        "            param.requires_grad = not freeze_bert\n"
      ],
      "execution_count": 27,
      "outputs": []
    },
    {
      "cell_type": "code",
      "metadata": {
        "id": "lZF5y4p17tbY"
      },
      "source": [
        "OUTPUT_DIR = AlBERTo_path + 'output'\n",
        "#Inizialize AlBERTo\n",
        "INIT_CHECKPOINT = AlBERTo_path + 'alberto_model.ckpt'\n",
        "#SET THE PARAMETERS\n",
        "PREDICT_BATCH_SIZE = 8\n",
        "MAX_SEQ_LENGTH = 128\n",
        "LEARNING_RATE = 2e-5\n",
        "label_list = [0, 1]\n",
        "#BERT_CONFIG= modeling.BertConfig.from_json_file(AlBERTo_path + \"config.json\")\n",
        "\n",
        "#SET THE PARAMETERS FOR TRAINING \n",
        "TRAIN_BATCH_SIZE = 128\n",
        "PREDICT_BATCH_SIZE = 8\n",
        "EVAL_BATCH_SIZE = 512\n",
        "LEARNING_RATE = 2e-5\n",
        "NUM_TRAIN_EPOCHS = 1.0\n",
        "MAX_SEQ_LENGTH = 64\n",
        "# Warmup is a period of time where hte learning rate \n",
        "# is small and gradually increases--usually helps training.\n",
        "WARMUP_PROPORTION = 0.1\n",
        "# Model configs\n",
        "SAVE_CHECKPOINTS_STEPS = 1000\n",
        "SAVE_SUMMARY_STEPS = 500\n",
        " "
      ],
      "execution_count": 18,
      "outputs": []
    },
    {
      "cell_type": "code",
      "metadata": {
        "colab": {
          "base_uri": "https://localhost:8080/"
        },
        "id": "9qqngg5mVGIr",
        "outputId": "81173b83-9d5a-40fb-fa30-a7f2c6dada8f"
      },
      "source": [
        "#inizialize parameters\n",
        "num_train_steps = int(len(input_ids_train) / TRAIN_BATCH_SIZE * NUM_TRAIN_EPOCHS)+1\n",
        "num_warmup_steps = int(NUM_TRAIN_EPOCHS * WARMUP_PROPORTION)\n",
        "print(num_train_steps)\n",
        "print(num_warmup_steps)"
      ],
      "execution_count": 19,
      "outputs": [
        {
          "output_type": "stream",
          "text": [
            "43\n",
            "0\n"
          ],
          "name": "stdout"
        }
      ]
    },
    {
      "cell_type": "code",
      "metadata": {
        "id": "2J7Cd_zl2qsh"
      },
      "source": [
        "from transformers import AdamW, get_linear_schedule_with_warmup\n",
        "\n",
        "def initialize_model(epochs=4, num_warmup_steps = 0):\n",
        "    \"\"\"Initialize the Bert Classifier, the optimizer and the learning rate scheduler.\n",
        "    \"\"\"\n",
        "    # Instantiate Bert Classifier\n",
        "    bert_classifier = BertClassifier(freeze_bert=False)\n",
        "\n",
        "    # Tell PyTorch to run the model on GPU\n",
        "    bert_classifier.to(device)\n",
        "\n",
        "    # Create the optimizer\n",
        "    optimizer = AdamW(bert_classifier.parameters(),\n",
        "                      lr=2e-5,  \n",
        "                      eps=1e-8    # Default epsilon value\n",
        "                      )\n",
        "\n",
        "    # Total number of training steps\n",
        "    total_steps = len(train_dataloader) * epochs\n",
        "\n",
        "    # Set up the learning rate scheduler\n",
        "    scheduler = get_linear_schedule_with_warmup(optimizer,\n",
        "                                                num_warmup_steps=0, # Default value\n",
        "                                                num_training_steps=total_steps)\n",
        "    return bert_classifier, optimizer, scheduler"
      ],
      "execution_count": 20,
      "outputs": []
    },
    {
      "cell_type": "code",
      "metadata": {
        "id": "5E1zSFWWly2c"
      },
      "source": [
        "import random\n",
        "import time\n",
        "from sklearn.metrics import f1_score\n",
        "from torch import tensor\n",
        "# Specify loss function\n",
        "loss_fn = nn.CrossEntropyLoss()\n",
        "sig = nn.Sigmoid()\n",
        "\n",
        "def f1_score_func(preds, labels):\n",
        "    preds_copy = torch.tensor(preds)\n",
        "    preds_flat = np.argmax(preds_copy.cpu(), axis=1).flatten()\n",
        "    labels_flat = labels.cpu().flatten()\n",
        "    return f1_score(labels_flat, preds_flat, average='weighted')\n",
        "\n",
        "def set_seed(seed_value=128):\n",
        "    \"\"\"Set seed for reproducibility.\n",
        "    \"\"\"\n",
        "    random.seed(seed_value)\n",
        "    np.random.seed(seed_value)\n",
        "    torch.manual_seed(seed_value)\n",
        "    torch.cuda.manual_seed_all(seed_value)\n",
        "\n",
        "def train(model, train_dataloader, val_dataloader=None, epochs=4, evaluation=False):\n",
        "    \"\"\"Train the BertClassifier model.\n",
        "    \"\"\"\n",
        "    # Start training loop\n",
        "    print(\"Start training...\\n\")\n",
        "    for epoch_i in range(epochs):\n",
        "        # =======================================\n",
        "        #               Training\n",
        "        # =======================================\n",
        "        # Print the header of the result table\n",
        "        print(f\"{'Epoch':^7} | {'Batch':^7} | {'Train Loss':^12} | {'F1 Train':^9} | {'Val Loss':^10} | {'Val Acc':^9} | {'F1 Val':^9} | {'Elapsed':^9}\")\n",
        "        print(\"-\"*90)\n",
        "\n",
        "        # Measure the elapsed time of each epoch\n",
        "        t0_epoch, t0_batch = time.time(), time.time()\n",
        "\n",
        "        # Reset tracking variables at the beginning of each epoch\n",
        "        total_loss, batch_loss, batch_counts, f1_value_train_batch, f1_value_train_tot  = 0, 0, 0, 0, 0\n",
        "\n",
        "        # Put the model into the training mode\n",
        "        model.train()\n",
        "\n",
        "        # For each batch of training data...\n",
        "        for step, batch in enumerate(train_dataloader):\n",
        "            batch_counts +=1\n",
        "            # Load batch to GPU\n",
        "            b_input_ids, b_attn_mask, b_labels = tuple(t.to(device) for t in batch)\n",
        "\n",
        "            # Zero out any previously calculated gradients\n",
        "            model.zero_grad()\n",
        "\n",
        "            # Perform a forward pass. This will return logits.\n",
        "            logits = model(b_input_ids, b_attn_mask)\n",
        "\n",
        "            # Compute loss and accumulate the loss values\n",
        "            #b_labels = b_labels *1.0\n",
        "            #b_labels = b_labels.unsqueeze(1)\n",
        "\n",
        "            loss = loss_fn(logits, b_labels)\n",
        "            batch_loss += loss.item()\n",
        "            total_loss += loss.item()\n",
        "\n",
        "            f1_value_train_batch+= f1_score_func(logits, b_labels) \n",
        "            f1_value_train_tot+= f1_score_func(logits, b_labels) \n",
        "\n",
        "            # Perform a backward pass to calculate gradients\n",
        "            loss.backward()\n",
        "\n",
        "            # Clip the norm of the gradients to 1.0 to prevent \"exploding gradients\"\n",
        "            torch.nn.utils.clip_grad_norm_(model.parameters(), 1.0)\n",
        "\n",
        "            # Update parameters and the learning rate\n",
        "            optimizer.step()\n",
        "            scheduler.step()\n",
        "\n",
        "            # Print the loss values and time elapsed for every 20 batches\n",
        "            if (step % 20 == 0 and step != 0) or (step == len(train_dataloader) - 1):\n",
        "                # Calculate time elapsed for 20 batches\n",
        "                time_elapsed = time.time() - t0_batch\n",
        "\n",
        "                # Print training results\n",
        "                print(f\"{epoch_i + 1:^7} | {step:^7} | {batch_loss / batch_counts:^12.6f} | {f1_value_train_batch / batch_counts:^9.2f} | {'-':^10} | {'-':^9} | {'-':^9} | {time_elapsed:^9.2f}\")\n",
        "\n",
        "                # Reset batch tracking variables\n",
        "                batch_loss, batch_counts, f1_value_train_batch = 0, 0, 0\n",
        "                t0_batch = time.time()\n",
        "\n",
        "        # Calculate the average loss over the entire training data\n",
        "        avg_train_loss = total_loss / len(train_dataloader)\n",
        "        avg_f1_value = f1_value_train_tot / len(train_dataloader)\n",
        "\n",
        "        print(\"-\"*90)\n",
        "        # =======================================\n",
        "        #               Evaluation\n",
        "        # =======================================\n",
        "        if evaluation == True:\n",
        "            # After the completion of each training epoch, measure the model's performance\n",
        "            # on our validation set.\n",
        "            val_loss, val_accuracy, f1_value_validation = evaluate(model, val_dataloader)\n",
        "\n",
        "            # Print performance over the entire training data\n",
        "            time_elapsed = time.time() - t0_epoch\n",
        "            \n",
        "            print(f\"{epoch_i + 1:^7} | {'-':^7} | {avg_train_loss:^12.6f} | {avg_f1_value:^9.2f} | {val_loss:^10.6f} | {val_accuracy:^9.2f} | {f1_value_validation:^9.2f} | {time_elapsed:^9.2f}\")\n",
        "            print(\"-\"*90)\n",
        "        print(\"\\n\")\n",
        "    \n",
        "    print(\"Training complete!\")\n",
        "\n",
        "def evaluate(model, val_dataloader):\n",
        "    \"\"\"After the completion of each training epoch, measure the model's performance\n",
        "    on our validation set.\n",
        "    \"\"\"\n",
        "    # Put the model into the evaluation mode. The dropout layers are disabled during\n",
        "    # the test time.\n",
        "    model.eval()\n",
        "\n",
        "    # Tracking variables\n",
        "    val_accuracy = []\n",
        "    val_loss = []\n",
        "    f1_value = []\n",
        "    # For each batch in our validation set...\n",
        "    for batch in val_dataloader:\n",
        "        # Load batch to GPU\n",
        "        b_input_ids, b_attn_mask, b_labels = tuple(t.to(device) for t in batch)\n",
        "\n",
        "        # Compute logits\n",
        "        with torch.no_grad():\n",
        "            logits = model(b_input_ids, b_attn_mask)\n",
        "        #b_labels = b_labels *1.0\n",
        "        #b_labels = b_labels.unsqueeze(1)\n",
        "        # print(\"logits: {} b_labels: {}\".format(sig(logits), b_labels))\n",
        "        # Compute loss\n",
        "        loss = loss_fn(logits, b_labels)\n",
        "        val_loss.append(loss.item())\n",
        "\n",
        "        # Get the predictions\n",
        "        preds = torch.argmax(logits, dim=1).flatten()\n",
        "        #print(\"logits: {0} b_labels: {1} preds: {2}\".format(sig(logits), b_labels, preds))\n",
        "        #print(\"preds: {0}\".format( preds))\n",
        "        # Calculate the accuracy rate\n",
        "        accuracy = (preds == b_labels).cpu().numpy().mean() * 100\n",
        "        val_accuracy.append(accuracy)\n",
        "        f1_value.append(f1_score_func(logits, b_labels))\n",
        "\n",
        "    # Compute the average accuracy and loss over the validation set.\n",
        "    val_loss = np.mean(val_loss)\n",
        "    val_accuracy = np.mean(val_accuracy)\n",
        "    f1_value = np.mean(f1_value) \n",
        "    return val_loss, val_accuracy, f1_value"
      ],
      "execution_count": 21,
      "outputs": []
    },
    {
      "cell_type": "code",
      "metadata": {
        "id": "4EJe4GXg585G"
      },
      "source": [
        "set_seed(128)    # Set seed for reproducibility\n",
        "bert_classifier, optimizer, scheduler = initialize_model(epochs=30, num_warmup_steps= num_warmup_steps)"
      ],
      "execution_count": 28,
      "outputs": []
    },
    {
      "cell_type": "code",
      "metadata": {
        "id": "E7rKQ2IaRMmP"
      },
      "source": [
        "bert_classifier.freeze(False)"
      ],
      "execution_count": 32,
      "outputs": []
    },
    {
      "cell_type": "code",
      "metadata": {
        "id": "aEEsVxH9tNA7",
        "colab": {
          "base_uri": "https://localhost:8080/"
        },
        "outputId": "2d0b0027-f054-4db3-b0e3-3abdb6805ed5"
      },
      "source": [
        "train(bert_classifier, train_dataloader, val_dataloader, epochs=3, evaluation=True)"
      ],
      "execution_count": null,
      "outputs": [
        {
          "output_type": "stream",
          "text": [
            "Start training...\n",
            "\n",
            " Epoch  |  Batch  |  Train Loss  | F1 Train  |  Val Loss  |  Val Acc  |  F1 Val   |  Elapsed \n",
            "------------------------------------------------------------------------------------------\n",
            "   1    |   20    |   0.230220   |   0.94    |     -      |     -     |     -     |   8.01   \n",
            "   1    |   40    |   0.199068   |   0.95    |     -      |     -     |     -     |   7.71   \n",
            "   1    |   60    |   0.155342   |   0.96    |     -      |     -     |     -     |   7.71   \n",
            "   1    |   80    |   0.185737   |   0.95    |     -      |     -     |     -     |   7.67   \n",
            "   1    |   100   |   0.294354   |   0.92    |     -      |     -     |     -     |   7.77   \n",
            "   1    |   120   |   0.268813   |   0.91    |     -      |     -     |     -     |   7.80   \n",
            "   1    |   140   |   0.242997   |   0.92    |     -      |     -     |     -     |   7.84   \n",
            "   1    |   160   |   0.224216   |   0.93    |     -      |     -     |     -     |   7.86   \n",
            "   1    |   170   |   0.143032   |   0.96    |     -      |     -     |     -     |   3.91   \n",
            "------------------------------------------------------------------------------------------\n",
            "   1    |    -    |   0.220324   |   0.93    |  0.608191  |   78.61   |   0.79    |   71.52  \n",
            "------------------------------------------------------------------------------------------\n",
            "\n",
            "\n",
            " Epoch  |  Batch  |  Train Loss  | F1 Train  |  Val Loss  |  Val Acc  |  F1 Val   |  Elapsed \n",
            "------------------------------------------------------------------------------------------\n",
            "   2    |   20    |   0.132310   |   0.97    |     -      |     -     |     -     |   8.26   \n",
            "   2    |   40    |   0.145107   |   0.96    |     -      |     -     |     -     |   7.93   \n",
            "   2    |   60    |   0.173237   |   0.97    |     -      |     -     |     -     |   7.96   \n",
            "   2    |   80    |   0.144111   |   0.96    |     -      |     -     |     -     |   7.97   \n",
            "   2    |   100   |   0.222964   |   0.94    |     -      |     -     |     -     |   8.01   \n",
            "   2    |   120   |   0.152014   |   0.95    |     -      |     -     |     -     |   8.01   \n",
            "   2    |   140   |   0.178123   |   0.94    |     -      |     -     |     -     |   8.03   \n",
            "   2    |   160   |   0.165316   |   0.95    |     -      |     -     |     -     |   8.05   \n",
            "   2    |   170   |   0.141139   |   0.97    |     -      |     -     |     -     |   4.00   \n",
            "------------------------------------------------------------------------------------------\n",
            "   2    |    -    |   0.162616   |   0.95    |  0.777732  |   79.55   |   0.80    |   73.63  \n",
            "------------------------------------------------------------------------------------------\n",
            "\n",
            "\n",
            " Epoch  |  Batch  |  Train Loss  | F1 Train  |  Val Loss  |  Val Acc  |  F1 Val   |  Elapsed \n",
            "------------------------------------------------------------------------------------------\n",
            "   3    |   20    |   0.150968   |   0.96    |     -      |     -     |     -     |   8.43   \n",
            "   3    |   40    |   0.149549   |   0.95    |     -      |     -     |     -     |   8.06   \n",
            "   3    |   60    |   0.080651   |   0.98    |     -      |     -     |     -     |   8.07   \n",
            "   3    |   80    |   0.174606   |   0.96    |     -      |     -     |     -     |   8.07   \n",
            "   3    |   100   |   0.140358   |   0.97    |     -      |     -     |     -     |   8.09   \n",
            "   3    |   120   |   0.132315   |   0.96    |     -      |     -     |     -     |   8.08   \n",
            "   3    |   140   |   0.104080   |   0.97    |     -      |     -     |     -     |   8.08   \n",
            "   3    |   160   |   0.078947   |   0.98    |     -      |     -     |     -     |   8.08   \n",
            "   3    |   170   |   0.134575   |   0.97    |     -      |     -     |     -     |   4.05   \n",
            "------------------------------------------------------------------------------------------\n",
            "   3    |    -    |   0.127054   |   0.97    |  1.035348  |   78.90   |   0.79    |   74.51  \n",
            "------------------------------------------------------------------------------------------\n",
            "\n",
            "\n",
            "Training complete!\n"
          ],
          "name": "stdout"
        }
      ]
    },
    {
      "cell_type": "code",
      "metadata": {
        "id": "yWRzV2D7zdFZ",
        "colab": {
          "base_uri": "https://localhost:8080/"
        },
        "outputId": "51774fe0-5d54-4368-b141-6d82c486a20d"
      },
      "source": [
        "evaluate(bert_classifier, train_dataloader)"
      ],
      "execution_count": null,
      "outputs": [
        {
          "output_type": "execute_result",
          "data": {
            "text/plain": [
              "(0.064584606318947, 98.64766081871345, 0.9864400058917959)"
            ]
          },
          "metadata": {
            "tags": []
          },
          "execution_count": 83
        }
      ]
    },
    {
      "cell_type": "code",
      "metadata": {
        "id": "ucVnGl0774mi",
        "colab": {
          "base_uri": "https://localhost:8080/"
        },
        "outputId": "06d96147-a218-436d-8653-1507b1f5f9ef"
      },
      "source": [
        "evaluate(bert_classifier, val_dataloader)"
      ],
      "execution_count": null,
      "outputs": [
        {
          "output_type": "execute_result",
          "data": {
            "text/plain": [
              "(1.0353479128937388, 78.90019379844962, 0.7871124457088008)"
            ]
          },
          "metadata": {
            "tags": []
          },
          "execution_count": 84
        }
      ]
    },
    {
      "cell_type": "code",
      "metadata": {
        "id": "fhQsXA0LtGGZ"
      },
      "source": [
        "input_test_dir = \"/content/drive/My Drive/HLT/dataset_test_evalita/\"\n",
        "\n",
        "csv_test_tweets_file = open(input_test_dir+\"haspeede2_reference_taskAB-tweets.tsv\")\n",
        "\n",
        "testset_tweets = pd.read_csv(csv_test_tweets_file,sep='\\t', header=None)\n",
        "testset_tweets.rename(columns={0: \"id\"}, inplace=True)\n",
        "testset_tweets.rename(columns={1: \"text\"}, inplace=True)\n",
        "testset_tweets.rename(columns={2: \"hs\"}, inplace=True)\n",
        "testset_tweets.rename(columns={3: \"stereotype\"}, inplace=True)\n",
        "\n",
        "csv_test_news_file = open(input_test_dir+\"haspeede2_reference_taskAB-news.tsv\")\n",
        "\n",
        "testset_news = pd.read_csv(csv_test_news_file,sep='\\t', header=None)\n",
        "testset_news.rename(columns={0: \"id\"}, inplace=True)\n",
        "testset_news.rename(columns={1: \"text\"}, inplace=True)\n",
        "testset_news.rename(columns={2: \"hs\"}, inplace=True)\n",
        "testset_news.rename(columns={3: \"stereotype\"}, inplace=True)\n"
      ],
      "execution_count": null,
      "outputs": []
    },
    {
      "cell_type": "code",
      "metadata": {
        "id": "u2Jb6ZB6MXt6"
      },
      "source": [
        "testset_tweets['text_1'] = testset_tweets['text'].apply(preproc)\n",
        "testset_news['text_1'] = testset_news['text'].apply(preproc)"
      ],
      "execution_count": null,
      "outputs": []
    },
    {
      "cell_type": "code",
      "metadata": {
        "id": "lLmdxQonwlK2"
      },
      "source": [
        "encoding_test_tweets = tokenizer(list(testset_tweets[\"text_1\"].values), padding=True, truncation=True)\n",
        "encoding_test_news = tokenizer(list(testset_news[\"text_1\"].values), padding=True, truncation=True)"
      ],
      "execution_count": null,
      "outputs": []
    },
    {
      "cell_type": "code",
      "metadata": {
        "id": "iOm1CnxwwlK4"
      },
      "source": [
        "input_ids_test_tweets = torch.tensor(encoding_test_tweets['input_ids'])\n",
        "attention_mask_test_tweets = torch.tensor(encoding_test_tweets['attention_mask'])\n",
        "input_ids_test_news = torch.tensor(encoding_test_news['input_ids'])\n",
        "attention_mask_test_news = torch.tensor(encoding_test_news['attention_mask'])"
      ],
      "execution_count": null,
      "outputs": []
    },
    {
      "cell_type": "code",
      "metadata": {
        "id": "Eakqd_sfwlK6"
      },
      "source": [
        "# Convert other data types to torch.Tensor\n",
        "test_tweets_labels = torch.tensor(list(testset_tweets[\"hs\"].values))\n",
        "test_news_labels = torch.tensor(list(testset_news[\"hs\"].values))\n",
        "\n",
        "# For fine-tuning BERT, the authors recommend a batch size of 16 or 32.\n",
        "batch_size = 32\n",
        "\n",
        "# Create the DataLoader for our training set\n",
        "test_tweets_data = TensorDataset(input_ids_test_tweets, attention_mask_test_tweets, test_tweets_labels)\n",
        "test_tweets_sampler = RandomSampler(test_tweets_data)\n",
        "test_tweets_dataloader = DataLoader(test_tweets_data, sampler=test_tweets_sampler, batch_size=batch_size)\n",
        "\n",
        "# Create the DataLoader for our validation set\n",
        "test_news_data = TensorDataset(input_ids_test_news, attention_mask_test_news, test_news_labels)\n",
        "test_news_sampler = RandomSampler(test_news_data)\n",
        "test_news_dataloader = DataLoader(test_news_data, sampler=test_news_sampler, batch_size=batch_size)"
      ],
      "execution_count": null,
      "outputs": []
    },
    {
      "cell_type": "code",
      "metadata": {
        "colab": {
          "base_uri": "https://localhost:8080/"
        },
        "id": "zHl7MQkUyNIC",
        "outputId": "f355363d-c2fb-41a8-94aa-0491c602b5b8"
      },
      "source": [
        "evaluate(bert_classifier, test_tweets_dataloader)"
      ],
      "execution_count": null,
      "outputs": [
        {
          "output_type": "execute_result",
          "data": {
            "text/plain": [
              "(1.1360035628080367, 75.59375, 0.7561808602070423)"
            ]
          },
          "metadata": {
            "tags": []
          },
          "execution_count": 81
        }
      ]
    },
    {
      "cell_type": "code",
      "metadata": {
        "colab": {
          "base_uri": "https://localhost:8080/"
        },
        "id": "DDx40RW_yU6A",
        "outputId": "3a2d4406-3e1d-4702-80b2-17d650f7a581"
      },
      "source": [
        "evaluate(bert_classifier, test_news_dataloader)"
      ],
      "execution_count": null,
      "outputs": [
        {
          "output_type": "execute_result",
          "data": {
            "text/plain": [
              "(1.3336222544312477, 71.9921875, 0.6835700814194392)"
            ]
          },
          "metadata": {
            "tags": []
          },
          "execution_count": 82
        }
      ]
    }
  ]
}